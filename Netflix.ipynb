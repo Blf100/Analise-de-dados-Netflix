{
  "nbformat": 4,
  "nbformat_minor": 0,
  "metadata": {
    "colab": {
      "provenance": [],
      "collapsed_sections": [],
      "mount_file_id": "1K-Cxpz9I4yg5mJ4uIlZYmpduxv0ZiaZz",
      "authorship_tag": "ABX9TyOJDBWiGcgJpwR+30/3DCiU",
      "include_colab_link": true
    },
    "kernelspec": {
      "name": "python3",
      "display_name": "Python 3"
    },
    "language_info": {
      "name": "python"
    }
  },
  "cells": [
    {
      "cell_type": "markdown",
      "metadata": {
        "id": "view-in-github",
        "colab_type": "text"
      },
      "source": [
        "<a href=\"https://colab.research.google.com/github/Blf100/Analise-de-dados-Netflix/blob/main/Netflix.ipynb\" target=\"_parent\"><img src=\"https://colab.research.google.com/assets/colab-badge.svg\" alt=\"Open In Colab\"/></a>"
      ]
    },
    {
      "cell_type": "markdown",
      "source": [
        "# Análise de Dados Netflix\n"
      ],
      "metadata": {
        "id": "9djHTyJGlvx8"
      }
    },
    {
      "cell_type": "markdown",
      "source": [
        "### Importando as Bibliotecas"
      ],
      "metadata": {
        "id": "b2Y5GD3vl3c6"
      }
    },
    {
      "cell_type": "code",
      "source": [
        "import pandas as pd\n",
        "import numpy as np\n",
        "import seaborn as sns\n",
        "import plotly.express as px"
      ],
      "metadata": {
        "id": "oj1Xex76l2XS"
      },
      "execution_count": 2,
      "outputs": []
    },
    {
      "cell_type": "markdown",
      "source": [
        "### Importando os Dados"
      ],
      "metadata": {
        "id": "Ka_m42GMmmQ7"
      }
    },
    {
      "cell_type": "code",
      "source": [
        "base = pd.read_csv('/content/drive/MyDrive/Colab Notebooks/Datasets/netflix daily top 10.csv')"
      ],
      "metadata": {
        "id": "zL3S7cdxmixr"
      },
      "execution_count": 3,
      "outputs": []
    },
    {
      "cell_type": "markdown",
      "source": [
        "### Primeiras Impressões Sobre os Dados"
      ],
      "metadata": {
        "id": "PSrSuvLInJM4"
      }
    },
    {
      "cell_type": "code",
      "source": [
        "# Primeiras Linhas do Dataset\n",
        "base.head(5)"
      ],
      "metadata": {
        "id": "iHfOmHMVngCw",
        "colab": {
          "base_uri": "https://localhost:8080/",
          "height": 354
        },
        "outputId": "285208cf-04f2-4265-eb6d-a2321bfe9d00"
      },
      "execution_count": 4,
      "outputs": [
        {
          "output_type": "execute_result",
          "data": {
            "text/plain": [
              "        As of  Rank Year to Date Rank Last Week Rank  \\\n",
              "0  2020-04-01     1                 1              1   \n",
              "1  2020-04-01     2                 2              -   \n",
              "2  2020-04-01     3                 3              2   \n",
              "3  2020-04-01     4                 4              -   \n",
              "4  2020-04-01     5                 5              4   \n",
              "\n",
              "                          Title     Type Netflix Exclusive  \\\n",
              "0  Tiger King: Murder, Mayhem …  TV Show               Yes   \n",
              "1                         Ozark  TV Show               Yes   \n",
              "2                  All American  TV Show               NaN   \n",
              "3                  Blood Father    Movie               NaN   \n",
              "4                  The Platform    Movie               Yes   \n",
              "\n",
              "  Netflix Release Date  Days In Top 10  Viewership Score  \n",
              "0         Mar 20, 2020               9                90  \n",
              "1         Jul 21, 2017               5                45  \n",
              "2         Mar 28, 2019               9                76  \n",
              "3         Mar 26, 2020               5                30  \n",
              "4         Mar 20, 2020               9                55  "
            ],
            "text/html": [
              "\n",
              "  <div id=\"df-dc3f92e3-e27c-4635-a5e3-b28e0c49f5a9\">\n",
              "    <div class=\"colab-df-container\">\n",
              "      <div>\n",
              "<style scoped>\n",
              "    .dataframe tbody tr th:only-of-type {\n",
              "        vertical-align: middle;\n",
              "    }\n",
              "\n",
              "    .dataframe tbody tr th {\n",
              "        vertical-align: top;\n",
              "    }\n",
              "\n",
              "    .dataframe thead th {\n",
              "        text-align: right;\n",
              "    }\n",
              "</style>\n",
              "<table border=\"1\" class=\"dataframe\">\n",
              "  <thead>\n",
              "    <tr style=\"text-align: right;\">\n",
              "      <th></th>\n",
              "      <th>As of</th>\n",
              "      <th>Rank</th>\n",
              "      <th>Year to Date Rank</th>\n",
              "      <th>Last Week Rank</th>\n",
              "      <th>Title</th>\n",
              "      <th>Type</th>\n",
              "      <th>Netflix Exclusive</th>\n",
              "      <th>Netflix Release Date</th>\n",
              "      <th>Days In Top 10</th>\n",
              "      <th>Viewership Score</th>\n",
              "    </tr>\n",
              "  </thead>\n",
              "  <tbody>\n",
              "    <tr>\n",
              "      <th>0</th>\n",
              "      <td>2020-04-01</td>\n",
              "      <td>1</td>\n",
              "      <td>1</td>\n",
              "      <td>1</td>\n",
              "      <td>Tiger King: Murder, Mayhem …</td>\n",
              "      <td>TV Show</td>\n",
              "      <td>Yes</td>\n",
              "      <td>Mar 20, 2020</td>\n",
              "      <td>9</td>\n",
              "      <td>90</td>\n",
              "    </tr>\n",
              "    <tr>\n",
              "      <th>1</th>\n",
              "      <td>2020-04-01</td>\n",
              "      <td>2</td>\n",
              "      <td>2</td>\n",
              "      <td>-</td>\n",
              "      <td>Ozark</td>\n",
              "      <td>TV Show</td>\n",
              "      <td>Yes</td>\n",
              "      <td>Jul 21, 2017</td>\n",
              "      <td>5</td>\n",
              "      <td>45</td>\n",
              "    </tr>\n",
              "    <tr>\n",
              "      <th>2</th>\n",
              "      <td>2020-04-01</td>\n",
              "      <td>3</td>\n",
              "      <td>3</td>\n",
              "      <td>2</td>\n",
              "      <td>All American</td>\n",
              "      <td>TV Show</td>\n",
              "      <td>NaN</td>\n",
              "      <td>Mar 28, 2019</td>\n",
              "      <td>9</td>\n",
              "      <td>76</td>\n",
              "    </tr>\n",
              "    <tr>\n",
              "      <th>3</th>\n",
              "      <td>2020-04-01</td>\n",
              "      <td>4</td>\n",
              "      <td>4</td>\n",
              "      <td>-</td>\n",
              "      <td>Blood Father</td>\n",
              "      <td>Movie</td>\n",
              "      <td>NaN</td>\n",
              "      <td>Mar 26, 2020</td>\n",
              "      <td>5</td>\n",
              "      <td>30</td>\n",
              "    </tr>\n",
              "    <tr>\n",
              "      <th>4</th>\n",
              "      <td>2020-04-01</td>\n",
              "      <td>5</td>\n",
              "      <td>5</td>\n",
              "      <td>4</td>\n",
              "      <td>The Platform</td>\n",
              "      <td>Movie</td>\n",
              "      <td>Yes</td>\n",
              "      <td>Mar 20, 2020</td>\n",
              "      <td>9</td>\n",
              "      <td>55</td>\n",
              "    </tr>\n",
              "  </tbody>\n",
              "</table>\n",
              "</div>\n",
              "      <button class=\"colab-df-convert\" onclick=\"convertToInteractive('df-dc3f92e3-e27c-4635-a5e3-b28e0c49f5a9')\"\n",
              "              title=\"Convert this dataframe to an interactive table.\"\n",
              "              style=\"display:none;\">\n",
              "        \n",
              "  <svg xmlns=\"http://www.w3.org/2000/svg\" height=\"24px\"viewBox=\"0 0 24 24\"\n",
              "       width=\"24px\">\n",
              "    <path d=\"M0 0h24v24H0V0z\" fill=\"none\"/>\n",
              "    <path d=\"M18.56 5.44l.94 2.06.94-2.06 2.06-.94-2.06-.94-.94-2.06-.94 2.06-2.06.94zm-11 1L8.5 8.5l.94-2.06 2.06-.94-2.06-.94L8.5 2.5l-.94 2.06-2.06.94zm10 10l.94 2.06.94-2.06 2.06-.94-2.06-.94-.94-2.06-.94 2.06-2.06.94z\"/><path d=\"M17.41 7.96l-1.37-1.37c-.4-.4-.92-.59-1.43-.59-.52 0-1.04.2-1.43.59L10.3 9.45l-7.72 7.72c-.78.78-.78 2.05 0 2.83L4 21.41c.39.39.9.59 1.41.59.51 0 1.02-.2 1.41-.59l7.78-7.78 2.81-2.81c.8-.78.8-2.07 0-2.86zM5.41 20L4 18.59l7.72-7.72 1.47 1.35L5.41 20z\"/>\n",
              "  </svg>\n",
              "      </button>\n",
              "      \n",
              "  <style>\n",
              "    .colab-df-container {\n",
              "      display:flex;\n",
              "      flex-wrap:wrap;\n",
              "      gap: 12px;\n",
              "    }\n",
              "\n",
              "    .colab-df-convert {\n",
              "      background-color: #E8F0FE;\n",
              "      border: none;\n",
              "      border-radius: 50%;\n",
              "      cursor: pointer;\n",
              "      display: none;\n",
              "      fill: #1967D2;\n",
              "      height: 32px;\n",
              "      padding: 0 0 0 0;\n",
              "      width: 32px;\n",
              "    }\n",
              "\n",
              "    .colab-df-convert:hover {\n",
              "      background-color: #E2EBFA;\n",
              "      box-shadow: 0px 1px 2px rgba(60, 64, 67, 0.3), 0px 1px 3px 1px rgba(60, 64, 67, 0.15);\n",
              "      fill: #174EA6;\n",
              "    }\n",
              "\n",
              "    [theme=dark] .colab-df-convert {\n",
              "      background-color: #3B4455;\n",
              "      fill: #D2E3FC;\n",
              "    }\n",
              "\n",
              "    [theme=dark] .colab-df-convert:hover {\n",
              "      background-color: #434B5C;\n",
              "      box-shadow: 0px 1px 3px 1px rgba(0, 0, 0, 0.15);\n",
              "      filter: drop-shadow(0px 1px 2px rgba(0, 0, 0, 0.3));\n",
              "      fill: #FFFFFF;\n",
              "    }\n",
              "  </style>\n",
              "\n",
              "      <script>\n",
              "        const buttonEl =\n",
              "          document.querySelector('#df-dc3f92e3-e27c-4635-a5e3-b28e0c49f5a9 button.colab-df-convert');\n",
              "        buttonEl.style.display =\n",
              "          google.colab.kernel.accessAllowed ? 'block' : 'none';\n",
              "\n",
              "        async function convertToInteractive(key) {\n",
              "          const element = document.querySelector('#df-dc3f92e3-e27c-4635-a5e3-b28e0c49f5a9');\n",
              "          const dataTable =\n",
              "            await google.colab.kernel.invokeFunction('convertToInteractive',\n",
              "                                                     [key], {});\n",
              "          if (!dataTable) return;\n",
              "\n",
              "          const docLinkHtml = 'Like what you see? Visit the ' +\n",
              "            '<a target=\"_blank\" href=https://colab.research.google.com/notebooks/data_table.ipynb>data table notebook</a>'\n",
              "            + ' to learn more about interactive tables.';\n",
              "          element.innerHTML = '';\n",
              "          dataTable['output_type'] = 'display_data';\n",
              "          await google.colab.output.renderOutput(dataTable, element);\n",
              "          const docLink = document.createElement('div');\n",
              "          docLink.innerHTML = docLinkHtml;\n",
              "          element.appendChild(docLink);\n",
              "        }\n",
              "      </script>\n",
              "    </div>\n",
              "  </div>\n",
              "  "
            ]
          },
          "metadata": {},
          "execution_count": 4
        }
      ]
    },
    {
      "cell_type": "code",
      "source": [
        "# Ultimas Linhas do Dataset\n",
        "base.tail()"
      ],
      "metadata": {
        "id": "0MKT_Zz6npNP",
        "colab": {
          "base_uri": "https://localhost:8080/",
          "height": 354
        },
        "outputId": "6e839dd1-a35e-4688-8c1a-a91e0716b8a4"
      },
      "execution_count": 5,
      "outputs": [
        {
          "output_type": "execute_result",
          "data": {
            "text/plain": [
              "           As of  Rank Year to Date Rank Last Week Rank                Title  \\\n",
              "7095  2022-03-11     6                 5              1  Worst Roommate Ever   \n",
              "7096  2022-03-11     7                 7              2    Vikings: Valhalla   \n",
              "7097  2022-03-11     8                 8              -              Shooter   \n",
              "7098  2022-03-11     9                 9              7              Shrek 2   \n",
              "7099  2022-03-11    10                10              -                Shrek   \n",
              "\n",
              "         Type Netflix Exclusive Netflix Release Date  Days In Top 10  \\\n",
              "7095  TV Show               Yes          Mar 1, 2022              10   \n",
              "7096  TV Show               Yes         Feb 25, 2022              14   \n",
              "7097    Movie               NaN          Aug 1, 2014               3   \n",
              "7098    Movie               NaN          Mar 1, 2022              10   \n",
              "7099    Movie               NaN          May 1, 2018               7   \n",
              "\n",
              "      Viewership Score  \n",
              "7095                81  \n",
              "7096               100  \n",
              "7097                 7  \n",
              "7098                33  \n",
              "7099                12  "
            ],
            "text/html": [
              "\n",
              "  <div id=\"df-c650c926-c6e8-4acc-a28f-66a912c92d12\">\n",
              "    <div class=\"colab-df-container\">\n",
              "      <div>\n",
              "<style scoped>\n",
              "    .dataframe tbody tr th:only-of-type {\n",
              "        vertical-align: middle;\n",
              "    }\n",
              "\n",
              "    .dataframe tbody tr th {\n",
              "        vertical-align: top;\n",
              "    }\n",
              "\n",
              "    .dataframe thead th {\n",
              "        text-align: right;\n",
              "    }\n",
              "</style>\n",
              "<table border=\"1\" class=\"dataframe\">\n",
              "  <thead>\n",
              "    <tr style=\"text-align: right;\">\n",
              "      <th></th>\n",
              "      <th>As of</th>\n",
              "      <th>Rank</th>\n",
              "      <th>Year to Date Rank</th>\n",
              "      <th>Last Week Rank</th>\n",
              "      <th>Title</th>\n",
              "      <th>Type</th>\n",
              "      <th>Netflix Exclusive</th>\n",
              "      <th>Netflix Release Date</th>\n",
              "      <th>Days In Top 10</th>\n",
              "      <th>Viewership Score</th>\n",
              "    </tr>\n",
              "  </thead>\n",
              "  <tbody>\n",
              "    <tr>\n",
              "      <th>7095</th>\n",
              "      <td>2022-03-11</td>\n",
              "      <td>6</td>\n",
              "      <td>5</td>\n",
              "      <td>1</td>\n",
              "      <td>Worst Roommate Ever</td>\n",
              "      <td>TV Show</td>\n",
              "      <td>Yes</td>\n",
              "      <td>Mar 1, 2022</td>\n",
              "      <td>10</td>\n",
              "      <td>81</td>\n",
              "    </tr>\n",
              "    <tr>\n",
              "      <th>7096</th>\n",
              "      <td>2022-03-11</td>\n",
              "      <td>7</td>\n",
              "      <td>7</td>\n",
              "      <td>2</td>\n",
              "      <td>Vikings: Valhalla</td>\n",
              "      <td>TV Show</td>\n",
              "      <td>Yes</td>\n",
              "      <td>Feb 25, 2022</td>\n",
              "      <td>14</td>\n",
              "      <td>100</td>\n",
              "    </tr>\n",
              "    <tr>\n",
              "      <th>7097</th>\n",
              "      <td>2022-03-11</td>\n",
              "      <td>8</td>\n",
              "      <td>8</td>\n",
              "      <td>-</td>\n",
              "      <td>Shooter</td>\n",
              "      <td>Movie</td>\n",
              "      <td>NaN</td>\n",
              "      <td>Aug 1, 2014</td>\n",
              "      <td>3</td>\n",
              "      <td>7</td>\n",
              "    </tr>\n",
              "    <tr>\n",
              "      <th>7098</th>\n",
              "      <td>2022-03-11</td>\n",
              "      <td>9</td>\n",
              "      <td>9</td>\n",
              "      <td>7</td>\n",
              "      <td>Shrek 2</td>\n",
              "      <td>Movie</td>\n",
              "      <td>NaN</td>\n",
              "      <td>Mar 1, 2022</td>\n",
              "      <td>10</td>\n",
              "      <td>33</td>\n",
              "    </tr>\n",
              "    <tr>\n",
              "      <th>7099</th>\n",
              "      <td>2022-03-11</td>\n",
              "      <td>10</td>\n",
              "      <td>10</td>\n",
              "      <td>-</td>\n",
              "      <td>Shrek</td>\n",
              "      <td>Movie</td>\n",
              "      <td>NaN</td>\n",
              "      <td>May 1, 2018</td>\n",
              "      <td>7</td>\n",
              "      <td>12</td>\n",
              "    </tr>\n",
              "  </tbody>\n",
              "</table>\n",
              "</div>\n",
              "      <button class=\"colab-df-convert\" onclick=\"convertToInteractive('df-c650c926-c6e8-4acc-a28f-66a912c92d12')\"\n",
              "              title=\"Convert this dataframe to an interactive table.\"\n",
              "              style=\"display:none;\">\n",
              "        \n",
              "  <svg xmlns=\"http://www.w3.org/2000/svg\" height=\"24px\"viewBox=\"0 0 24 24\"\n",
              "       width=\"24px\">\n",
              "    <path d=\"M0 0h24v24H0V0z\" fill=\"none\"/>\n",
              "    <path d=\"M18.56 5.44l.94 2.06.94-2.06 2.06-.94-2.06-.94-.94-2.06-.94 2.06-2.06.94zm-11 1L8.5 8.5l.94-2.06 2.06-.94-2.06-.94L8.5 2.5l-.94 2.06-2.06.94zm10 10l.94 2.06.94-2.06 2.06-.94-2.06-.94-.94-2.06-.94 2.06-2.06.94z\"/><path d=\"M17.41 7.96l-1.37-1.37c-.4-.4-.92-.59-1.43-.59-.52 0-1.04.2-1.43.59L10.3 9.45l-7.72 7.72c-.78.78-.78 2.05 0 2.83L4 21.41c.39.39.9.59 1.41.59.51 0 1.02-.2 1.41-.59l7.78-7.78 2.81-2.81c.8-.78.8-2.07 0-2.86zM5.41 20L4 18.59l7.72-7.72 1.47 1.35L5.41 20z\"/>\n",
              "  </svg>\n",
              "      </button>\n",
              "      \n",
              "  <style>\n",
              "    .colab-df-container {\n",
              "      display:flex;\n",
              "      flex-wrap:wrap;\n",
              "      gap: 12px;\n",
              "    }\n",
              "\n",
              "    .colab-df-convert {\n",
              "      background-color: #E8F0FE;\n",
              "      border: none;\n",
              "      border-radius: 50%;\n",
              "      cursor: pointer;\n",
              "      display: none;\n",
              "      fill: #1967D2;\n",
              "      height: 32px;\n",
              "      padding: 0 0 0 0;\n",
              "      width: 32px;\n",
              "    }\n",
              "\n",
              "    .colab-df-convert:hover {\n",
              "      background-color: #E2EBFA;\n",
              "      box-shadow: 0px 1px 2px rgba(60, 64, 67, 0.3), 0px 1px 3px 1px rgba(60, 64, 67, 0.15);\n",
              "      fill: #174EA6;\n",
              "    }\n",
              "\n",
              "    [theme=dark] .colab-df-convert {\n",
              "      background-color: #3B4455;\n",
              "      fill: #D2E3FC;\n",
              "    }\n",
              "\n",
              "    [theme=dark] .colab-df-convert:hover {\n",
              "      background-color: #434B5C;\n",
              "      box-shadow: 0px 1px 3px 1px rgba(0, 0, 0, 0.15);\n",
              "      filter: drop-shadow(0px 1px 2px rgba(0, 0, 0, 0.3));\n",
              "      fill: #FFFFFF;\n",
              "    }\n",
              "  </style>\n",
              "\n",
              "      <script>\n",
              "        const buttonEl =\n",
              "          document.querySelector('#df-c650c926-c6e8-4acc-a28f-66a912c92d12 button.colab-df-convert');\n",
              "        buttonEl.style.display =\n",
              "          google.colab.kernel.accessAllowed ? 'block' : 'none';\n",
              "\n",
              "        async function convertToInteractive(key) {\n",
              "          const element = document.querySelector('#df-c650c926-c6e8-4acc-a28f-66a912c92d12');\n",
              "          const dataTable =\n",
              "            await google.colab.kernel.invokeFunction('convertToInteractive',\n",
              "                                                     [key], {});\n",
              "          if (!dataTable) return;\n",
              "\n",
              "          const docLinkHtml = 'Like what you see? Visit the ' +\n",
              "            '<a target=\"_blank\" href=https://colab.research.google.com/notebooks/data_table.ipynb>data table notebook</a>'\n",
              "            + ' to learn more about interactive tables.';\n",
              "          element.innerHTML = '';\n",
              "          dataTable['output_type'] = 'display_data';\n",
              "          await google.colab.output.renderOutput(dataTable, element);\n",
              "          const docLink = document.createElement('div');\n",
              "          docLink.innerHTML = docLinkHtml;\n",
              "          element.appendChild(docLink);\n",
              "        }\n",
              "      </script>\n",
              "    </div>\n",
              "  </div>\n",
              "  "
            ]
          },
          "metadata": {},
          "execution_count": 5
        }
      ]
    },
    {
      "cell_type": "code",
      "source": [
        "# Alterando Nome das Colunas\n",
        "base.columns = ['A partir de', 'Classificacao', 'Classificaçao do ano ate a data', 'Classificaçao da ultima semana', 'Titulo', 'Tipo',\n",
        "       'Exclusivo Netflix', 'Data de lancamento Netflix', 'Dias no Top 10',\n",
        "       'Pontuaçao de audiencia']"
      ],
      "metadata": {
        "id": "EmLCRPHEy8a_"
      },
      "execution_count": 6,
      "outputs": []
    },
    {
      "cell_type": "code",
      "source": [
        "# Tamanho do Dataset\n",
        "base.shape"
      ],
      "metadata": {
        "id": "P0VWANlyn0qp",
        "colab": {
          "base_uri": "https://localhost:8080/"
        },
        "outputId": "e7307ce1-943e-4ab6-b543-63366c528ab5"
      },
      "execution_count": 7,
      "outputs": [
        {
          "output_type": "execute_result",
          "data": {
            "text/plain": [
              "(7100, 10)"
            ]
          },
          "metadata": {},
          "execution_count": 7
        }
      ]
    },
    {
      "cell_type": "code",
      "source": [
        "# Informações Gerais Sobre o Dataset\n",
        "base.info()"
      ],
      "metadata": {
        "colab": {
          "base_uri": "https://localhost:8080/"
        },
        "id": "9sDrkt31n_qY",
        "outputId": "0e5a4ad1-986b-47a0-f2ed-5c633aeb6c5e"
      },
      "execution_count": 8,
      "outputs": [
        {
          "output_type": "stream",
          "name": "stdout",
          "text": [
            "<class 'pandas.core.frame.DataFrame'>\n",
            "RangeIndex: 7100 entries, 0 to 7099\n",
            "Data columns (total 10 columns):\n",
            " #   Column                           Non-Null Count  Dtype \n",
            "---  ------                           --------------  ----- \n",
            " 0   A partir de                      7100 non-null   object\n",
            " 1   Classificacao                    7100 non-null   int64 \n",
            " 2   Classificaçao do ano ate a data  7100 non-null   object\n",
            " 3   Classificaçao da ultima semana   7100 non-null   object\n",
            " 4   Titulo                           7100 non-null   object\n",
            " 5   Tipo                             7100 non-null   object\n",
            " 6   Exclusivo Netflix                4599 non-null   object\n",
            " 7   Data de lancamento Netflix       7100 non-null   object\n",
            " 8   Dias no Top 10                   7100 non-null   int64 \n",
            " 9   Pontuaçao de audiencia           7100 non-null   int64 \n",
            "dtypes: int64(3), object(7)\n",
            "memory usage: 554.8+ KB\n"
          ]
        }
      ]
    },
    {
      "cell_type": "code",
      "source": [
        "# Contando Valores Nulos\n",
        "base.isnull().sum()"
      ],
      "metadata": {
        "colab": {
          "base_uri": "https://localhost:8080/"
        },
        "id": "g-1QUAIlpqHm",
        "outputId": "ef32e600-c4e2-427f-e43e-acc95e1dab55"
      },
      "execution_count": 9,
      "outputs": [
        {
          "output_type": "execute_result",
          "data": {
            "text/plain": [
              "A partir de                           0\n",
              "Classificacao                         0\n",
              "Classificaçao do ano ate a data       0\n",
              "Classificaçao da ultima semana        0\n",
              "Titulo                                0\n",
              "Tipo                                  0\n",
              "Exclusivo Netflix                  2501\n",
              "Data de lancamento Netflix            0\n",
              "Dias no Top 10                        0\n",
              "Pontuaçao de audiencia                0\n",
              "dtype: int64"
            ]
          },
          "metadata": {},
          "execution_count": 9
        }
      ]
    },
    {
      "cell_type": "markdown",
      "source": [
        "#### Limpeza e tratamento dos dados"
      ],
      "metadata": {
        "id": "TvhsqgZcQJex"
      }
    },
    {
      "cell_type": "code",
      "source": [
        "# Etendendo os Valores Nulos da Coluna Netflix Exclusive\n",
        "base['Exclusivo Netflix'].value_counts()"
      ],
      "metadata": {
        "colab": {
          "base_uri": "https://localhost:8080/"
        },
        "id": "8-4W334Wq4eN",
        "outputId": "f654f867-28cc-4427-f5de-bb64ae169af3"
      },
      "execution_count": 10,
      "outputs": [
        {
          "output_type": "execute_result",
          "data": {
            "text/plain": [
              "Yes    4599\n",
              "Name: Exclusivo Netflix, dtype: int64"
            ]
          },
          "metadata": {},
          "execution_count": 10
        }
      ]
    },
    {
      "cell_type": "code",
      "source": [
        "# Tratando Valores Ausentes\n",
        "base['Exclusivo Netflix'].fillna('Not', inplace= True)"
      ],
      "metadata": {
        "id": "4zfnqXSRG5D7"
      },
      "execution_count": 11,
      "outputs": []
    },
    {
      "cell_type": "code",
      "source": [
        "# Ecluindo colunas indesejadas\n",
        "base.drop(columns=['A partir de', 'Classificaçao do ano ate a data', 'Classificaçao da ultima semana', 'Data de lancamento Netflix'], inplace=True)"
      ],
      "metadata": {
        "id": "UyslgFuaF6x_"
      },
      "execution_count": 12,
      "outputs": []
    },
    {
      "cell_type": "markdown",
      "source": [
        "### Estatísticas Descritivas"
      ],
      "metadata": {
        "id": "Ugur6Z3fxgyp"
      }
    },
    {
      "cell_type": "markdown",
      "source": [
        "#### Resumo dos dados"
      ],
      "metadata": {
        "id": "9351dud8Qhz4"
      }
    },
    {
      "cell_type": "code",
      "source": [
        "base.describe()"
      ],
      "metadata": {
        "colab": {
          "base_uri": "https://localhost:8080/",
          "height": 300
        },
        "id": "RiQsQ_gNswTs",
        "outputId": "92c19f9c-ea0f-458c-ff5b-7d74b738ea7d"
      },
      "execution_count": 13,
      "outputs": [
        {
          "output_type": "execute_result",
          "data": {
            "text/plain": [
              "       Classificacao  Dias no Top 10  Pontuaçao de audiencia\n",
              "count    7100.000000     7100.000000             7100.000000\n",
              "mean        5.500000       24.123662              122.790141\n",
              "std         2.872484       58.473789              213.861642\n",
              "min         1.000000        1.000000                1.000000\n",
              "25%         3.000000        3.000000               19.000000\n",
              "50%         5.500000        7.000000               50.000000\n",
              "75%         8.000000       18.000000              128.000000\n",
              "max        10.000000      428.000000             1474.000000"
            ],
            "text/html": [
              "\n",
              "  <div id=\"df-f19acd15-8558-4f65-b5f2-075750bc87c3\">\n",
              "    <div class=\"colab-df-container\">\n",
              "      <div>\n",
              "<style scoped>\n",
              "    .dataframe tbody tr th:only-of-type {\n",
              "        vertical-align: middle;\n",
              "    }\n",
              "\n",
              "    .dataframe tbody tr th {\n",
              "        vertical-align: top;\n",
              "    }\n",
              "\n",
              "    .dataframe thead th {\n",
              "        text-align: right;\n",
              "    }\n",
              "</style>\n",
              "<table border=\"1\" class=\"dataframe\">\n",
              "  <thead>\n",
              "    <tr style=\"text-align: right;\">\n",
              "      <th></th>\n",
              "      <th>Classificacao</th>\n",
              "      <th>Dias no Top 10</th>\n",
              "      <th>Pontuaçao de audiencia</th>\n",
              "    </tr>\n",
              "  </thead>\n",
              "  <tbody>\n",
              "    <tr>\n",
              "      <th>count</th>\n",
              "      <td>7100.000000</td>\n",
              "      <td>7100.000000</td>\n",
              "      <td>7100.000000</td>\n",
              "    </tr>\n",
              "    <tr>\n",
              "      <th>mean</th>\n",
              "      <td>5.500000</td>\n",
              "      <td>24.123662</td>\n",
              "      <td>122.790141</td>\n",
              "    </tr>\n",
              "    <tr>\n",
              "      <th>std</th>\n",
              "      <td>2.872484</td>\n",
              "      <td>58.473789</td>\n",
              "      <td>213.861642</td>\n",
              "    </tr>\n",
              "    <tr>\n",
              "      <th>min</th>\n",
              "      <td>1.000000</td>\n",
              "      <td>1.000000</td>\n",
              "      <td>1.000000</td>\n",
              "    </tr>\n",
              "    <tr>\n",
              "      <th>25%</th>\n",
              "      <td>3.000000</td>\n",
              "      <td>3.000000</td>\n",
              "      <td>19.000000</td>\n",
              "    </tr>\n",
              "    <tr>\n",
              "      <th>50%</th>\n",
              "      <td>5.500000</td>\n",
              "      <td>7.000000</td>\n",
              "      <td>50.000000</td>\n",
              "    </tr>\n",
              "    <tr>\n",
              "      <th>75%</th>\n",
              "      <td>8.000000</td>\n",
              "      <td>18.000000</td>\n",
              "      <td>128.000000</td>\n",
              "    </tr>\n",
              "    <tr>\n",
              "      <th>max</th>\n",
              "      <td>10.000000</td>\n",
              "      <td>428.000000</td>\n",
              "      <td>1474.000000</td>\n",
              "    </tr>\n",
              "  </tbody>\n",
              "</table>\n",
              "</div>\n",
              "      <button class=\"colab-df-convert\" onclick=\"convertToInteractive('df-f19acd15-8558-4f65-b5f2-075750bc87c3')\"\n",
              "              title=\"Convert this dataframe to an interactive table.\"\n",
              "              style=\"display:none;\">\n",
              "        \n",
              "  <svg xmlns=\"http://www.w3.org/2000/svg\" height=\"24px\"viewBox=\"0 0 24 24\"\n",
              "       width=\"24px\">\n",
              "    <path d=\"M0 0h24v24H0V0z\" fill=\"none\"/>\n",
              "    <path d=\"M18.56 5.44l.94 2.06.94-2.06 2.06-.94-2.06-.94-.94-2.06-.94 2.06-2.06.94zm-11 1L8.5 8.5l.94-2.06 2.06-.94-2.06-.94L8.5 2.5l-.94 2.06-2.06.94zm10 10l.94 2.06.94-2.06 2.06-.94-2.06-.94-.94-2.06-.94 2.06-2.06.94z\"/><path d=\"M17.41 7.96l-1.37-1.37c-.4-.4-.92-.59-1.43-.59-.52 0-1.04.2-1.43.59L10.3 9.45l-7.72 7.72c-.78.78-.78 2.05 0 2.83L4 21.41c.39.39.9.59 1.41.59.51 0 1.02-.2 1.41-.59l7.78-7.78 2.81-2.81c.8-.78.8-2.07 0-2.86zM5.41 20L4 18.59l7.72-7.72 1.47 1.35L5.41 20z\"/>\n",
              "  </svg>\n",
              "      </button>\n",
              "      \n",
              "  <style>\n",
              "    .colab-df-container {\n",
              "      display:flex;\n",
              "      flex-wrap:wrap;\n",
              "      gap: 12px;\n",
              "    }\n",
              "\n",
              "    .colab-df-convert {\n",
              "      background-color: #E8F0FE;\n",
              "      border: none;\n",
              "      border-radius: 50%;\n",
              "      cursor: pointer;\n",
              "      display: none;\n",
              "      fill: #1967D2;\n",
              "      height: 32px;\n",
              "      padding: 0 0 0 0;\n",
              "      width: 32px;\n",
              "    }\n",
              "\n",
              "    .colab-df-convert:hover {\n",
              "      background-color: #E2EBFA;\n",
              "      box-shadow: 0px 1px 2px rgba(60, 64, 67, 0.3), 0px 1px 3px 1px rgba(60, 64, 67, 0.15);\n",
              "      fill: #174EA6;\n",
              "    }\n",
              "\n",
              "    [theme=dark] .colab-df-convert {\n",
              "      background-color: #3B4455;\n",
              "      fill: #D2E3FC;\n",
              "    }\n",
              "\n",
              "    [theme=dark] .colab-df-convert:hover {\n",
              "      background-color: #434B5C;\n",
              "      box-shadow: 0px 1px 3px 1px rgba(0, 0, 0, 0.15);\n",
              "      filter: drop-shadow(0px 1px 2px rgba(0, 0, 0, 0.3));\n",
              "      fill: #FFFFFF;\n",
              "    }\n",
              "  </style>\n",
              "\n",
              "      <script>\n",
              "        const buttonEl =\n",
              "          document.querySelector('#df-f19acd15-8558-4f65-b5f2-075750bc87c3 button.colab-df-convert');\n",
              "        buttonEl.style.display =\n",
              "          google.colab.kernel.accessAllowed ? 'block' : 'none';\n",
              "\n",
              "        async function convertToInteractive(key) {\n",
              "          const element = document.querySelector('#df-f19acd15-8558-4f65-b5f2-075750bc87c3');\n",
              "          const dataTable =\n",
              "            await google.colab.kernel.invokeFunction('convertToInteractive',\n",
              "                                                     [key], {});\n",
              "          if (!dataTable) return;\n",
              "\n",
              "          const docLinkHtml = 'Like what you see? Visit the ' +\n",
              "            '<a target=\"_blank\" href=https://colab.research.google.com/notebooks/data_table.ipynb>data table notebook</a>'\n",
              "            + ' to learn more about interactive tables.';\n",
              "          element.innerHTML = '';\n",
              "          dataTable['output_type'] = 'display_data';\n",
              "          await google.colab.output.renderOutput(dataTable, element);\n",
              "          const docLink = document.createElement('div');\n",
              "          docLink.innerHTML = docLinkHtml;\n",
              "          element.appendChild(docLink);\n",
              "        }\n",
              "      </script>\n",
              "    </div>\n",
              "  </div>\n",
              "  "
            ]
          },
          "metadata": {},
          "execution_count": 13
        }
      ]
    },
    {
      "cell_type": "markdown",
      "source": [
        "#### Histograma da variável Dias no Top 10"
      ],
      "metadata": {
        "id": "BBctsVGFQlJw"
      }
    },
    {
      "cell_type": "code",
      "source": [
        "# Histograma Dias no Top 10\n",
        "px.histogram(base, x='Dias no Top 10', width=500, height=500)"
      ],
      "metadata": {
        "id": "PCMN-wG-Q7x3",
        "colab": {
          "base_uri": "https://localhost:8080/",
          "height": 517
        },
        "outputId": "ff78ccf4-4cde-48bd-e5f4-58c47f124889"
      },
      "execution_count": 14,
      "outputs": [
        {
          "output_type": "display_data",
          "data": {
            "text/html": [
              "<html>\n",
              "<head><meta charset=\"utf-8\" /></head>\n",
              "<body>\n",
              "    <div>            <script src=\"https://cdnjs.cloudflare.com/ajax/libs/mathjax/2.7.5/MathJax.js?config=TeX-AMS-MML_SVG\"></script><script type=\"text/javascript\">if (window.MathJax) {MathJax.Hub.Config({SVG: {font: \"STIX-Web\"}});}</script>                <script type=\"text/javascript\">window.PlotlyConfig = {MathJaxConfig: 'local'};</script>\n",
              "        <script src=\"https://cdn.plot.ly/plotly-2.8.3.min.js\"></script>                <div id=\"3ebed1e3-1bb9-4fc9-a255-d4dcc899464b\" class=\"plotly-graph-div\" style=\"height:500px; width:500px;\"></div>            <script type=\"text/javascript\">                                    window.PLOTLYENV=window.PLOTLYENV || {};                                    if (document.getElementById(\"3ebed1e3-1bb9-4fc9-a255-d4dcc899464b\")) {                    Plotly.newPlot(                        \"3ebed1e3-1bb9-4fc9-a255-d4dcc899464b\",                        [{\"alignmentgroup\":\"True\",\"bingroup\":\"x\",\"hovertemplate\":\"Dias no Top 10=%{x}<br>count=%{y}<extra></extra>\",\"legendgroup\":\"\",\"marker\":{\"color\":\"#636efa\",\"pattern\":{\"shape\":\"\"}},\"name\":\"\",\"offsetgroup\":\"\",\"orientation\":\"v\",\"showlegend\":false,\"x\":[9,5,9,5,9,4,2,9,4,4,10,6,10,1,1,6,1,3,10,5,11,7,11,2,2,2,4,1,1,7,12,8,1,12,1,3,3,3,5,2,13,9,2,2,13,4,4,4,1,6,14,10,3,2,3,14,5,5,5,1,15,11,4,3,4,15,1,6,6,1,16,12,5,2,4,5,16,2,7,2,17,13,3,5,6,6,17,3,8,3,18,14,4,6,7,18,7,4,9,1,19,15,7,5,8,1,19,8,5,10,20,16,2,8,6,9,1,20,6,2,21,2,17,9,3,10,1,7,21,1,22,18,3,11,22,4,8,2,10,7,23,19,4,1,12,23,9,5,3,11,24,20,5,2,1,1,24,13,10,12,1,25,2,21,2,6,25,14,3,11,2,26,3,22,1,1,7,3,26,15,3,2,27,4,2,23,4,8,1,16,4,3,5,28,3,24,2,5,9,1,4,6,5,3,29,4,25,6,27,2,5,7,6,4,5,30,26,28,7,1,6,8,5,1,7,27,31,6,1,2,2,9,7,6,28,8,32,7,2,3,1,3,10,8,7,29,9,33,3,8,2,11,4,8,9,34,30,4,10,1,3,12,1,5,9,10,1,2,31,35,4,13,2,2,6,1,10,11,32,3,5,2,14,3,7,11,33,3,12,4,3,6,15,4,1,8,12,34,5,13,4,1,16,7,2,5,9,13,35,14,2,5,17,8,3,6,10,1,36,14,3,6,18,9,2,1,1,4,1,7,4,19,2,3,7,10,2,5,8,2,20,5,3,8,4,3,11,1,9,6,21,4,2,6,9,1,5,4,12,10,22,5,2,10,1,7,1,3,5,6,23,6,2,2,3,11,6,4,8,37,1,24,7,3,3,1,12,4,7,15,2,25,2,8,4,4,8,5,13,13,3,26,1,3,9,5,14,9,5,38,4,2,27,4,10,1,39,6,14,11,5,3,28,5,1,2,1,11,40,1,6,1,29,4,2,2,3,6,41,12,2,7,1,30,5,3,4,42,3,13,3,8,2,31,1,6,4,5,43,4,4,9,3,2,32,1,7,1,5,5,5,10,4,2,3,33,1,2,8,6,1,6,5,11,2,4,34,3,3,44,2,7,6,12,1,5,35,3,4,4,3,2,7,13,8,1,6,36,4,5,4,3,8,14,9,2,7,37,5,6,5,4,1,9,15,10,3,8,38,1,5,6,2,11,2,16,4,10,9,39,6,7,3,12,3,17,5,1,11,10,7,8,1,4,2,4,13,18,12,6,2,8,9,3,5,19,13,5,7,14,1,3,9,10,20,14,4,6,8,6,2,4,10,11,21,15,5,9,7,40,1,3,5,11,12,22,16,10,8,6,2,4,6,12,13,23,9,17,11,7,3,5,13,7,14,24,18,10,8,12,4,6,14,15,8,19,25,1,13,41,5,7,1,15,16,2,1,1,9,20,6,8,2,16,17,2,3,2,10,21,7,9,3,17,3,18,3,4,1,22,1,8,10,4,1,2,19,18,4,4,2,9,2,11,5,1,3,20,5,19,3,10,3,1,12,2,6,4,6,21,4,2,11,13,3,7,4,5,22,1,5,3,12,14,4,8,5,6,23,2,6,4,13,15,5,9,24,7,3,6,7,5,14,16,6,25,10,8,4,1,6,8,1,15,1,1,17,26,7,11,2,7,9,1,16,2,2,18,27,8,3,8,10,2,17,3,3,19,28,9,9,11,4,3,18,4,4,29,20,12,10,12,5,4,19,5,30,5,1,21,11,13,1,6,20,5,31,6,6,2,12,14,1,2,21,32,7,7,1,6,1,13,2,15,1,3,22,1,33,2,2,14,3,2,2,16,23,3,1,34,3,15,4,3,3,2,17,1,24,4,4,5,16,3,4,4,18,2,35,25,5,6,4,17,5,5,1,19,3,36,6,7,5,18,6,2,6,20,4,37,7,8,19,6,7,3,21,1,7,38,8,1,20,9,7,2,4,8,1,22,2,9,3,21,10,8,9,2,5,1,3,10,22,4,11,2,3,9,10,6,11,4,23,12,4,5,10,11,3,7,12,5,1,13,24,5,12,11,1,8,1,13,1,2,6,14,25,6,1,39,2,2,14,1,2,1,3,7,26,15,3,2,3,1,15,3,1,4,8,27,4,3,2,4,2,16,4,2,5,28,5,4,3,5,3,5,17,3,1,1,6,5,4,4,6,18,6,2,4,2,7,6,5,5,19,7,3,7,1,1,8,7,2,6,2,6,20,4,8,8,9,3,8,7,7,3,21,5,9,22,1,10,4,9,1,1,8,8,22,4,2,11,5,2,10,2,9,5,9,23,3,12,3,6,11,3,6,24,10,10,4,4,7,13,12,4,11,25,7,11,5,5,8,1,14,13,26,12,5,1,6,2,6,9,15,14,1,27,13,6,1,7,3,7,10,16,2,15,28,14,2,1,8,4,8,11,17,3,16,29,2,3,9,9,5,4,12,18,17,30,3,4,10,1,10,5,6,19,13,1,4,2,5,11,6,11,14,7,2,20,5,3,6,7,12,12,3,21,15,1,6,4,1,8,7,13,1,22,4,16,2,7,5,2,9,14,17,5,2,8,1,3,8,6,3,10,1,15,1,6,2,4,9,7,2,2,4,11,13,16,3,5,8,10,1,3,3,14,17,5,4,2,6,9,4,11,4,18,12,3,5,3,5,10,12,7,1,5,13,4,4,6,2,11,6,13,8,6,14,5,5,7,7,12,3,14,1,9,1,15,1,6,8,8,13,4,15,2,2,1,2,7,9,14,9,5,3,2,16,1,3,8,1,15,10,2,3,10,6,17,4,9,4,16,3,11,1,1,2,11,5,10,2,1,5,17,1,4,12,2,6,11,1,2,3,2,6,1,18,5,7,2,1,12,2,3,3,4,7,19,8,3,2,1,13,1,1,3,4,20,9,4,3,2,14,2,2,4,5,21,10,5,3,4,15,3,3,5,6,22,11,1,6,4,5,16,4,4,6,1,2,12,7,6,5,17,2,5,5,7,3,13,8,7,18,6,6,8,6,1,4,14,2,9,8,19,1,7,7,9,1,5,15,3,1,9,2,20,1,10,2,2,6,16,4,2,3,11,21,10,3,3,7,17,3,5,4,22,12,11,4,4,18,4,6,8,5,23,12,1,5,5,19,5,7,9,6,24,1,2,6,6,20,6,8,1,10,2,25,1,7,7,21,7,2,9,2,3,11,26,1,8,8,3,22,3,1,10,8,1,2,9,2,4,9,23,4,11,1,2,3,10,5,3,24,10,5,2,12,3,4,11,6,25,3,4,11,1,6,13,5,26,4,12,7,12,5,2,1,7,6,5,27,13,1,2,3,13,8,6,7,2,6,1,28,4,14,3,1,14,1,8,3,1,2,7,29,15,2,5,2,9,2,4,1,3,30,16,3,8,3,2,10,3,5,31,17,4,4,9,4,3,11,6,4,5,32,5,1,10,5,1,1,12,4,2,6,7,33,1,6,2,2,2,13,5,1,7,1,34,7,3,1,3,3,2,14,2,6,8,8,2,4,1,4,4,3,15,3,9,9,2,3,5,5,5,4,4,16,10,3,10,4,6,6,5,6,17,1,1,4,11,5,7,7,6,7,18,2,2,5,12,6,1,8,8,8,19,7,11,6,13,2,1,7,9,9,9,12,20,7,1,14,2,3,13,8,10,1,10,8,2,15,1,3,4,1,1,2,1,9,2,3,16,4,5,3,2,2,2,10,3,17,4,5,4,3,6,3,3,11,4,18,5,6,5,4,4,14,4,12,19,5,6,7,6,5,1,15,1,1,13,20,7,6,1,1,8,1,2,2,14,2,2,21,8,2,7,9,1,1,1,3,3,2,15,22,3,9,8,2,2,3,4,4,16,10,23,4,9,3,4,3,5,5,24,11,17,5,1,4,4,5,6,25,6,18,2,12,1,5,5,6,7,26,3,2,19,13,7,6,1,6,7,8,4,27,3,20,16,7,2,1,7,9,8,5,28,4,17,3,8,2,8,10,9,1,6,18,29,4,9,3,9,10,11,1,30,19,1,10,5,4,2,10,1,2,11,12,31,11,6,5,2,3,11,3,20,32,7,12,3,7,6,4,12,21,4,8,33,1,13,4,8,5,7,1,22,13,1,2,14,1,9,6,2,2,5,1,23,3,15,2,1,10,3,2,3,7,24,4,2,16,3,1,11,4,4,2,25,5,3,2,17,1,4,12,3,5,26,6,4,3,18,2,1,5,1,27,4,7,5,4,3,19,1,2,2,6,28,1,8,6,5,2,4,20,29,3,3,2,9,7,6,3,1,5,21,30,4,3,1,8,10,7,2,4,3,22,6,2,4,9,11,8,5,3,23,7,4,3,5,10,6,12,9,4,8,24,31,4,6,11,10,5,7,13,9,25,32,5,7,12,11,6,10,14,33,8,26,6,8,13,12,7,1,11,1,34,15,7,9,14,2,13,8,2,12,1,35,8,10,3,1,15,1,5,14,3,13,9,11,2,4,16,2,15,14,36,6,10,12,3,17,5,3,16,15,1,37,11,23,13,18,4,17,6,38,16,2,24,12,19,14,18,39,17,5,1,1,25,13,1,1,20,2,15,2,19,40,26,14,2,2,3,1,3,41,21,20,27,3,1,15,3,1,2,7,4,1,2,28,2,4,2,4,16,5,16,3,3,3,3,29,5,17,5,6,17,4,4,4,4,30,18,6,7,42,6,21,5,5,5,1,31,19,8,7,43,22,1,6,2,6,6,20,9,32,44,8,2,7,3,7,7,1,10,21,33,45,3,8,8,8,4,2,8,1,22,1,4,9,2,2,18,3,9,23,5,9,5,10,3,3,4,10,24,10,6,19,11,6,1,4,46,11,4,25,11,5,12,7,2,5,47,12,1,1,12,26,13,3,2,8,1,2,48,1,6,13,14,1,3,4,9,2,2,49,3,1,15,2,2,4,5,9,3,3,10,50,16,3,3,6,5,10,4,11,4,1,17,4,4,6,7,5,12,5,2,51,18,5,6,5,7,52,8,6,3,13,19,6,7,8,1,6,53,9,1,1,20,2,7,8,9,1,54,7,2,2,21,3,2,8,9,1,55,10,3,3,22,4,3,9,10,2,56,11,4,4,23,1,4,10,1,5,5,11,1,11,1,24,2,6,5,2,2,11,57,6,2,25,1,3,7,58,3,6,1,7,3,1,26,2,6,4,59,8,2,4,4,2,27,3,7,1,60,9,5,5,5,1,3,28,4,8,2,61,10,6,6,2,4,29,5,12,9,11,62,3,7,5,3,30,6,12,10,13,4,7,8,6,31,4,7,13,11,1,5,8,9,32,7,5,8,12,14,1,6,63,1,10,33,1,8,15,9,13,6,2,1,2,11,34,2,16,9,14,10,1,2,3,3,35,12,17,2,10,1,15,3,1,4,36,13,4,18,14,3,1,2,4,37,5,14,19,2,4,5,2,3,5,38,15,3,6,20,6,5,3,4,6,1,39,16,21,7,4,4,64,5,2,7,40,17,1,22,5,65,1,6,2,3,2,41,8,18,1,23,66,7,3,1,2,42,24,19,9,3,4,1,1,8,4,2,43,10,3,20,6,2,2,9,5,3,11,7,44,4,21,3,3,10,6,4,12,45,8,5,22,4,4,11,7,5,46,1,9,67,23,5,5,2,12,1,47,68,10,8,24,6,6,3,2,13,1,48,69,11,25,4,7,7,2,14,3,49,70,12,26,5,3,8,8,1,15,4,13,50,71,6,2,4,14,5,9,9,16,13,51,7,3,5,15,17,10,10,52,14,6,1,6,8,11,18,4,16,72,53,11,2,7,1,9,19,12,17,73,54,5,3,8,2,10,18,20,74,13,55,1,4,3,9,2,1,19,75,21,11,56,1,5,4,3,20,10,2,76,22,57,2,6,21,4,5,3,11,77,15,58,3,22,7,6,4,5,12,78,16,59,23,1,7,79,5,13,4,8,6,60,1,24,80,8,2,14,61,17,1,7,1,2,25,81,18,9,15,62,2,6,2,26,19,3,7,82,1,9,10,3,3,27,1,1,20,4,8,10,2,83,4,2,2,5,84,28,63,21,11,23,3,5,3,6,85,1,64,12,24,29,4,4,6,2,7,86,65,13,25,16,5,5,3,7,87,66,8,14,26,1,6,6,4,8,88,67,9,15,27,1,7,5,7,1,9,89,68,1,2,2,34,8,2,6,8,10,1,1,69,90,35,9,2,3,9,2,7,1,1,70,36,10,3,4,3,10,2,2,8,71,37,11,5,4,4,11,3,91,72,3,38,12,1,6,5,12,5,4,92,73,39,13,2,13,6,7,6,93,5,1,14,40,3,1,14,1,8,7,2,94,15,41,2,4,15,2,3,1,95,9,16,42,2,5,16,3,3,4,96,7,17,43,3,4,17,6,4,5,1,97,18,44,4,2,18,5,98,6,7,1,19,5,45,3,19,99,6,7,2,8,20,6,1,46,4,20,100,3,8,7,2,21,7,47,5,21,101,4,9,8,3,1,22,8,6,48,1,22,1,102,2,4,23,9,2,7,2,49,23,103,3,5,24,8,10,3,3,50,1,24,4,6,25,4,9,2,11,4,51,1,7,5,26,3,5,10,12,2,52,5,8,27,6,6,4,11,13,3,1,53,28,9,1,7,2,7,12,5,14,4,1,3,29,10,2,14,8,8,6,13,2,4,30,11,3,1,15,9,9,7,3,5,31,12,2,4,10,8,16,5,4,6,32,1,13,11,17,5,1,6,5,2,33,7,14,12,6,7,2,104,6,3,34,8,15,13,7,1,8,105,7,4,35,9,2,8,9,14,106,16,1,8,36,5,1,1,3,10,9,10,2,2,2,37,6,9,4,11,11,10,3,3,3,38,7,10,5,12,12,11,4,39,4,4,11,8,6,12,107,15,40,5,5,5,12,13,7,108,9,16,1,41,6,6,14,6,8,13,109,17,2,42,1,15,110,9,7,7,14,18,3,43,1,2,111,16,10,8,8,19,4,2,44,1,3,9,9,112,11,20,5,2,3,45,4,113,17,1,12,1,6,3,1,46,114,18,1,4,5,13,7,2,4,2,47,115,19,14,21,6,1,8,3,5,3,48,116,20,15,22,2,9,4,6,4,1,49,117,21,1,1,3,5,10,7,5,2,118,2,50,4,2,11,6,6,8,3,51,3,119,5,3,12,7,7,9,4,4,52,120,6,8,13,4,1,10,8,5,121,53,7,9,1,14,2,5,11,122,1,54,2,8,10,3,15,1,6,12,123,55,2,3,11,9,16,4,124,7,13,56,1,3,4,12,10,17,5,125,1,57,2,4,5,13,11,18,2,6,126,58,3,5,6,14,12,19,1,3,7,127,4,6,7,15,20,2,13,4,128,8,5,7,8,16,21,129,14,3,5,9,6,8,9,17,1,22,130,15,1,4,2,7,9,18,10,2,23,131,1,16,3,1,8,10,3,19,11,24,132,2,4,2,9,4,11,20,3,12,25,133,5,3,10,5,12,21,13,4,26,134,6,4,1,13,22,6,11,14,135,27,7,5,2,14,23,15,7,12,136,1,8,1,6,3,24,15,1,16,137,13,9,2,2,7,25,16,4,138,17,1,10,3,1,3,8,26,17,2,139,1,11,4,2,4,9,3,2,18,27,14,12,5,3,4,3,5,19,10,28,15,13,6,29,5,4,140,20,4,18,6,14,7,30,141,6,1,21,5,19,7,15,1,31,142,2,8,22,20,6,7,16,2,32,143,3,1,23,21,9,7,17,3,33,144,4,2,24,22,10,8,1,18,1,4,5,3,145,34,1,25,2,19,2,5,6,4,146,2,26,35,3,20,3,1,6,147,36,5,3,7,4,21,4,2,1,7,148,37,6,4,5,22,3,2,5,1,149,8,38,1,6,23,3,4,1,6,2,150,2,39,7,2,4,24,3,7,5,151,1,3,8,3,5,25,4,8,6,152,2,4,4,5,9,26,6,1,3,9,1,5,5,27,6,10,2,7,2,153,10,4,6,28,7,11,8,3,154,3,11,40,29,7,8,155,4,12,12,9,4,41,30,1,8,156,9,5,13,13,42,1,2,31,157,14,9,1,2,10,11,6,1,2,15,1,3,10,11,10,1,1,2,3,1,3,32,4,12,158,2,1,3,4,2,33,4,2,159,13,5,3,4,5,3,34,5,3,160,14,6,4,6,5,4,35,6,4,161,7,15,1,7,6,5,36,162,1,7,5,2,8,8,7,1,6,1,2,1,37,163,8,9,2,3,8,2,7,1,1,164,2,10,3,1,4,2,2,9,8,2,1,2,11,4,5,3,1,2,165,1,38,3,12,4,5,2,6,3,2,1,166,4,13,5,6,3,3,167,4,2,7,14,5,1,6,168,7,4,4,3,5,1,15,2,6,7,169,1,8,4,5,2,3,16,2,8,7,170,9,5,6,3,4,17,3,9,7,171,6,8,10,4,5,18,10,4,1,172,1,39,8,5,6,19,11,2,173,2,5,40,9,6,1,1,1,20,7,174,12,3,6,2,2,7,2,1,175,21,4,13,8,3,3,8,3,2,176,22,5,14,9,1,4,9,4,3,4,177,7,23,6,2,4,5,10,5,5,178,24,7,15,3,5,6,6,6,179,11,25,8,16,6,4,180,7,7,12,7,9,26,17,8,7,5,181,8,13,10,18,27,8,9,8,1,182,1,6,11,9,19,28,1,2,10,9,183,2,7,12,20,14,2,3,3,10,11,184,8,15,13,21,3,4,4,11,12,185,9,16,22,14,4,5,5,12,13,186,23,15,1,41,5,6,6,13,14,187,24,16,2,42,6,15,7,14,7,188,17,3,43,25,7,16,1,189,15,8,1,8,18,44,1,8,2,17,190,2,9,16,9,1,2,9,3,1,18,1,1,191,3,2,3,10,4,2,19,2,2,192,4,3,4,11,3,3,3,5,20,4,1,193,5,12,12,4,4,4,5,6,21,194,6,13,13,5,5,5,6,7,22,195,1,7,14,23,14,6,196,7,6,6,1,2,8,15,15,7,24,197,1,8,2,9,3,16,16,2,8,198,25,1,3,10,4,2,17,17,3,9,1,199,4,11,5,3,18,2,18,4,200,10,5,12,3,6,19,19,4,201,5,11,6,1,13,4,7,202,20,20,5,12,2,7,5,14,1,203,8,21,21,6,1,3,8,15,6,1,2,204,1,1,2,4,9,16,1,2,7,2,205,3,3,5,10,2,17,3,3,8,2,206,4,6,11,3,18,4,4,9,3,207,5,7,12,10,19,5,208,4,4,5,29,6,8,13,11,20,209,5,6,5,30,7,9,14,12,1,210,21,6,6,1,31,8,18,10,22,211,15,13,2,2,32,9,19,23,11,3,212,16,14,3,33,10,4,20,24,12,17,15,213,4,34,11,5,21,25,13,18,16,214,5,1,35,215,22,17,14,19,26,6,6,2,36,216,23,18,27,15,20,7,3,7,1,1,37,217,28,24,19,16,21,4,1,8,2,2,1,218,38,29,23,2,5,9,3,3,2,219,30,39,24,3,6,4,10,4,3,220,31,40,25,4,7,5,11,1,5,4,221,41,26,5,2,8,222,6,12,6,5,42,27,6,3,9,223,1,7,13,7,6,28,4,7,10,2,224,8,14,8,1,29,1,5,8,11,225,3,15,1,2,2,30,6,4,9,12,226,1,16,2,3,31,5,7,227,13,10,2,17,3,4,32,6,8,228,14,11,3,4,1,5,33,7,9,229,15,12,4,5,18,6,1,34,230,10,8,16,13,6,2,7,2,1,35,231,11,9,17,14,14,8,2,3,1,15,232,36,18,15,10,3,9,2,4,16,233,37,16,19,11,4,10,3,5,17,234,38,17,1,20,5,4,11,18,6,235,39,18,2,1,6,5,12,19,7,236,40,7,19,2,7,6,13,8,20,237,41,3,20,8,8,7,14,9,238,21,1,42,9,21,1,9,8,15,239,10,2,1,10,22,2,10,9,16,3,2,240,11,11,23,3,11,10,17,4,3,241,1,12,12,4,12,11,18,4,242,5,13,2,13,5,13,12,243,19,5,3,6,14,43,14,6,16,244,13,1,20,6,4,7,15,7,17,2,245,14,21,5,8,7,1,16,8,18,3,1,246,15,22,6,2,17,9,2,4,19,247,16,7,23,3,18,10,3,5,20,248,8,17,24,19,4,4,13,11,249,21,6,18,25,20,5,5,14,12,250,22,7,19,26,21,23,6,6,13,15,251,1,20,8,22,24,7,7,2,14,252,16,1,21,23,8,1,25,8,15,2,253,3,17,24,2,9,26,9,16,1,254,3,4,25,10,3,2,27,10,4,17,255,1,26,11,4,3,28,2,11,5,256,18,27,12,29,4,5,257,6,3,1,12,28,13,5,30,258,6,7,4,2,13,29,14,1,6,31,259,1,7,5,3,28,30,15,1,1,2,260,8,32,7,29,31,16,2,2,2,9,261,3,8,30,32,3,17,3,3,10,262,9,4,31,33,4,18,4,4,263,11,33,1,32,34,5,19,264,5,5,2,12,34,33,35,1,20,6,265,1,6,3,13,34,15,2,36,2,21,7,266,4,7,16,35,1,3,3,37,1,22,8,267,36,17,4,2,4,2,38,1,23,268,37,18,3,5,5,39,3,2,24,1,38,19,4,40,6,3,2,1,6,1,39,20,5,41,4,7,2,3,2,25,40,21,6,42,5,8,3,4,3,26,41,22,43,7,6,4,5,9,1,4,42,23,44,8,1,1,5,7,269,6,2,43,45,24,1,2,1,270,6,5,3,44,46,2,25,2,7,271,3,8,4,45,47,3,26,272,3,8,9,7,29,5,46,48,27,273,4,1,4,9,30,10,6,47,49,274,14,28,2,5,31,11,48,1,7,50,15,275,42,3,43,32,12,2,49,276,16,51,8,4,44,33,3,13,1,50,277,17,52,9,45,34,1,4,14,2,51,278,53,18,46,35,2,3,5,15,52,279,19,54,47,36,4,3,1,280,16,53,6,20,48,37,1,5,4,2,281,54,17,21,49,38,2,3,6,5,1,282,55,18,50,1,39,3,2,1,4,7,283,6,51,2,40,4,2,3,5,8,7,284,3,52,41,3,5,4,9,6,8,285,53,4,42,4,6,5,286,7,10,1,54,5,43,5,7,287,2,6,8,11,55,6,44,6,8,288,3,7,9,12,1,56,7,45,7,289,1,9,4,10,2,8,57,46,1,1,8,290,2,10,3,2,9,58,2,47,9,291,3,11,3,4,10,59,48,3,10,4,292,12,4,60,11,49,5,4,11,293,1,13,61,5,50,12,6,5,294,12,2,14,62,51,13,6,295,7,6,13,3,1,63,52,14,296,7,4,7,8,14,2,1,1,15,64,53,297,5,1,8,9,2,2,16,65,55,54,2,298,6,9,3,3,56,3,66,17,55,299,7,1,4,4,57,4,56,67,18,300,1,8,5,58,5,5,57,68,301,19,2,9,6,59,1,6,58,6,69,302,20,1,2,7,60,2,7,59,303,70,7,21,1,3,1,61,8,3,8,304,22,60,2,4,2,9,62,4,9,23,305,61,3,5,3,63,10,5,306,10,24,62,6,4,4,64,307,63,11,6,71,25,7,5,65,5,308,64,12,72,26,7,8,6,66,1,6,309,1,1,65,27,9,1,2,67,7,2,2,310,7,66,10,17,2,3,3,3,68,8,311,28,11,18,4,3,4,4,69,9,312,1,12,19,5,4,5,5,70,2,1,313,13,6,20,5,2,71,3,6,6,314,14,7,21,72,6,315,4,3,7,7,15,8,22,73,26,316,5,7,4,1,16,9,23,27,317,74,2,6,8,5,1,44,17,10,318,28,24,7,75,3,2,45,11,18,319,8,1,29,25,4,3,46,19,12,2,320,5,1,9,76,4,47,20,13,3,321,6,2,10,77,48,5,21,14,4,322,78,3,11,7,49,22,6,30,15,323,79,5,4,12,50,23,1,7,31,324,16,80,1,5,1,2,51,24,8,32,325,2,6,13,2,3,25,52,9,3,326,1,33,7,3,2,4,26,53,10,1,327,34,4,4,3,5,27,54,11,2,328,35,5,4,5,28,55,6,3,329,36,12,14,5,6,29,56,7,4,330,37,13,15,6,7,1,1,1,38,30,57,331,8,7,2,8,2,1,1,1,2,39,332,8,2,2,2,3,3,9,3,333,31,9,3,3,3,4,10,4,4,32,334,10,4,4,4,5,11,335,5,5,33,11,5,1,5,6,5,12,336,6,34,2,1,6,6,7,7,29,9,21,14,12,6,3,2,7,13,8,7,337,40,13,1,1,7,8,4,1,15,338,14,14,2,2,8,9,2,5,1,339,9,15,3,3,9,2,10,3,6,340,10,16,2,4,4,10,3,4,341,11,1,17,3,5,5,11,4,5,342,12,2,18,4,6,1,6,1,12,3,343,5,19,7,5,2,2,7,13,4,344,6,20,8,3,6,8,3,5,16,14,345,21,9,4,7,9,4,6,15,346,13,22,10,5,8,10,5,7,16,1,347,23,11,6,9,27,2,17,11,348,9,24,12,7,28,10,3,18,10,349,15,25,13,29,8,11,4,19,350,11,16,26,14,30,9,12,5,351,20,12,17,1,27,15,31,10,352,17,13,1,1,2,28,16,32,2,11,353,2,1,18,3,29,17,33,3,2,354,12,3,6,4,30,18,34,355,4,3,7,13,4,5,31,19,35,356,4,5,8,23,5,6,32,20,36,357,5,1,24,9,14,7,33,21,2,37,358,25,6,15,10,8,34,22,1,359,38,3,19,26,16,9,35,23,2,1,1,4,360,27,39,10,36,3,24,2,2,5,28,40,361,11,37,4,25,3,29,362,3,41,6,12,38,26,5,4,30,4,363,42,1,13,39,27,6,5,2,5,364,31,1,14,40,28,7,2,3,6,6,365,32,15,41,3,29,8,1,20,7,4,366,16,2,42,4,30,8,5,9,367,1,3,17,43,31,5,10,9,6,368,2,4,18,44,32,11,3,369,1,33,6,19,5,45,4,2,33,12,370,1,34,1,20,3,46,6,5,34,371,13,2,2,21,4,47,6,7,35,372,1,14,3,1,14,22,48,5,1,21,2,8,4,2,15,23,2,49,6,3,9,373,3,5,16,3,24,50,7,4,1,36,4,17,6,4,25,5,51,374,8,37,5,18,5,7,26,52,6,375,38,9,6,19,6,8,27,53,376,7,39,1,7,20,7,9,28,54,1,377,2,40,1,8,21,8,22,29,10,55,378,2,2,9,22,11,2,9,3,56,30,1,3,10,23,10,12,2,31,57,3,379,4,11,11,32,24,58,41,380,13,3,5,12,33,1,12,42,59,381,25,14,6,36,13,34,43,1,382,60,13,26,37,7,2,2,14,35,44,383,2,61,8,38,1,1,3,3,23,15,384,45,9,39,2,2,4,4,4,46,16,62,10,3,40,3,5,5,47,5,17,63,4,11,41,4,6,6,1,48,385,18,5,12,7,42,5,2,386,49,19,7,1,1,8,6,13,8,43,6,1,387,2,2,14,9,7,2,9,7,44,64,3,3,10,15,1,10,8,3,24,65,4,4,11,16,11,2,4,9,66,1,5,5,12,12,3,17,10,1,5,2,6,13,13,6,4,3,11,18,6,388,7,14,14,7,4,5,12,19,389,7,1,8,1,15,15,1,1,5,8,6,2,9,2,16,16,2,1,390,6,7,26,3,3,10,25,17,17,3,391,2,27,4,11,4,26,18,4,3,20,18,28,5,12,19,5,27,4,5,19,21,29,6,20,13,392,20,28,6,6,5,30,7,21,14,393,21,7,29,7,1,31,8,22,15,394,22,1,2,30,8,32,9,23,1,395,16,2,3,23,31,1,10,24,33,2,396,3,1,17,22,2,1,11,2,34,25,4,3,23,397,3,2,3,12,26,35,5,4,1,1,4,3,4,27,13,2,6,36,398,2,5,4,5,28,3,14,7,399,37,3,6,5,1,6,4,29,15,400,8,38,7,1,2,6,5,7,30,401,16,39,6,8,3,2,8,7,31,4,402,17,7,9,3,4,9,8,5,32,403,18,8,10,4,10,5,6,9,33,404,19,9,11,11,6,34,5,7,405,10,20,10,12,12,35,7,406,8,1,6,21,11,22,13,13,36,407,8,9,9,22,12,23,14,14,10,408,37,1,9,22,1,13,24,11,23,15,15,8,409,1,2,14,25,12,16,1,24,9,38,1,3,15,26,2,17,39,2,16,410,2,4,16,27,3,18,40,1,3,411,17,5,17,28,4,19,41,2,412,18,4,6,18,29,1,5,20,3,42,413,19,7,19,30,2,6,21,43,414,20,4,54,8,20,1,10,31,1,3,7,415,55,9,2,21,11,2,32,1,4,22,56,10,3,22,12,3,2,33,5,1,57,4,11,23,13,3,34,4,6,44,58,5,24,12,14,4,35,5,1,1,59,6,25,13,15,36,2,5,10,11,60,7,26,14,16,3,37,12,6,11,61,8,15,27,1,17,4,13,38,12,62,9,16,28,2,14,5,18,13,39,63,10,17,29,3,15,6,40,19,14,64,11,30,4,18,16,41,20,7,15,65,12,31,1,19,5,42,17,21,8,1,66,13,2,32,20,43,18,6,416,2,1,67,14,3,33,21,44,417,19,3,2,68,1,15,22,4,34,45,418,4,3,2,69,16,23,5,35,46,45,3,5,4,70,17,24,36,6,46,47,4,6,1,5,71,18,37,47,25,48,5,7,2,6,72,19,1,38,48,26,6,35,8,3,7,73,20,2,49,39,7,36,1,9,74,50,8,1,4,3,51,8,37,2,10,75,2,419,40,9,52,9,38,3,11,76,3,10,41,1,53,10,39,4,12,77,4,2,42,420,54,11,40,5,13,78,421,43,3,1,55,12,41,6,14,422,79,2,44,4,56,13,43,7,15,423,80,3,5,45,57,14,44,1,424,16,8,1,81,6,58,1,1,1,1,15,45,425,2,7,2,59,2,2,2,16,46,8,3,17,3,3,60,3,3,17,47,9,4,1,4,4,61,4,4,18,48,2,426,1,5,5,1,62,5,5,1,1,2,19,2,6,6,63,6,2,1,6,2,1,7,7,3,64,2,7,3,3,7,16,20,8,4,8,65,4,3,8,8,1,21,9,5,9,66,4,5,9,9,2,22,10,67,6,10,5,6,10,3,10,23,11,68,7,6,11,7,11,4,17,24,12,69,7,8,12,8,11,18,12,25,13,70,8,9,8,9,13,6,12,26,14,9,71,9,10,10,14,7,13,1,27,19,1,15,72,10,11,11,10,2,20,28,2,16,73,11,12,12,11,3,21,29,17,3,13,74,13,12,12,4,22,30,18,75,13,14,4,13,14,5,23,31,19,76,14,15,15,14,1,6,24,32,1,77,20,1,2,16,15,7,25,33,2,78,1,3,21,2,17,8,26,1,34,1,26,3,79,22,18,9,27,2,35,2,27,80,23,3,19,10,28,3,36,28,3,81,4,24,4,11,29,37,4,4,29,25,82,20,5,12,30,38,5,83,30,5,26,21,6,13,31,4,39,84,27,6,31,22,6,14,32,5,40,85,23,28,7,32,427,1,33,15,1,6,41,24,86,8,29,2,2,16,34,42,1,7,25,9,87,3,3,17,35,2,43,88,8,26,10,4,18,4,36,3,44,89,27,428,9,5,1,19,5,37,1,1,1,45,4,2,6,20,6,38,10,2,2,1,2,3,7,21,1,7,39,3,11,2,3,40,1,4,22,8,2,8,4,12,1,2,5,41,23,9,3,9,5,2,3,3,6,24,42,10,4,10,6,3,4,4,25,7,43,23,11,5,7,4,11,5,24,26,8,44,12,8,5,6,1,6,12,25,27,9,45,13,2,9,6,13,7,26,28,46,10,14,3,10,7],\"xaxis\":\"x\",\"yaxis\":\"y\",\"type\":\"histogram\"}],                        {\"template\":{\"data\":{\"bar\":[{\"error_x\":{\"color\":\"#2a3f5f\"},\"error_y\":{\"color\":\"#2a3f5f\"},\"marker\":{\"line\":{\"color\":\"#E5ECF6\",\"width\":0.5},\"pattern\":{\"fillmode\":\"overlay\",\"size\":10,\"solidity\":0.2}},\"type\":\"bar\"}],\"barpolar\":[{\"marker\":{\"line\":{\"color\":\"#E5ECF6\",\"width\":0.5},\"pattern\":{\"fillmode\":\"overlay\",\"size\":10,\"solidity\":0.2}},\"type\":\"barpolar\"}],\"carpet\":[{\"aaxis\":{\"endlinecolor\":\"#2a3f5f\",\"gridcolor\":\"white\",\"linecolor\":\"white\",\"minorgridcolor\":\"white\",\"startlinecolor\":\"#2a3f5f\"},\"baxis\":{\"endlinecolor\":\"#2a3f5f\",\"gridcolor\":\"white\",\"linecolor\":\"white\",\"minorgridcolor\":\"white\",\"startlinecolor\":\"#2a3f5f\"},\"type\":\"carpet\"}],\"choropleth\":[{\"colorbar\":{\"outlinewidth\":0,\"ticks\":\"\"},\"type\":\"choropleth\"}],\"contour\":[{\"colorbar\":{\"outlinewidth\":0,\"ticks\":\"\"},\"colorscale\":[[0.0,\"#0d0887\"],[0.1111111111111111,\"#46039f\"],[0.2222222222222222,\"#7201a8\"],[0.3333333333333333,\"#9c179e\"],[0.4444444444444444,\"#bd3786\"],[0.5555555555555556,\"#d8576b\"],[0.6666666666666666,\"#ed7953\"],[0.7777777777777778,\"#fb9f3a\"],[0.8888888888888888,\"#fdca26\"],[1.0,\"#f0f921\"]],\"type\":\"contour\"}],\"contourcarpet\":[{\"colorbar\":{\"outlinewidth\":0,\"ticks\":\"\"},\"type\":\"contourcarpet\"}],\"heatmap\":[{\"colorbar\":{\"outlinewidth\":0,\"ticks\":\"\"},\"colorscale\":[[0.0,\"#0d0887\"],[0.1111111111111111,\"#46039f\"],[0.2222222222222222,\"#7201a8\"],[0.3333333333333333,\"#9c179e\"],[0.4444444444444444,\"#bd3786\"],[0.5555555555555556,\"#d8576b\"],[0.6666666666666666,\"#ed7953\"],[0.7777777777777778,\"#fb9f3a\"],[0.8888888888888888,\"#fdca26\"],[1.0,\"#f0f921\"]],\"type\":\"heatmap\"}],\"heatmapgl\":[{\"colorbar\":{\"outlinewidth\":0,\"ticks\":\"\"},\"colorscale\":[[0.0,\"#0d0887\"],[0.1111111111111111,\"#46039f\"],[0.2222222222222222,\"#7201a8\"],[0.3333333333333333,\"#9c179e\"],[0.4444444444444444,\"#bd3786\"],[0.5555555555555556,\"#d8576b\"],[0.6666666666666666,\"#ed7953\"],[0.7777777777777778,\"#fb9f3a\"],[0.8888888888888888,\"#fdca26\"],[1.0,\"#f0f921\"]],\"type\":\"heatmapgl\"}],\"histogram\":[{\"marker\":{\"pattern\":{\"fillmode\":\"overlay\",\"size\":10,\"solidity\":0.2}},\"type\":\"histogram\"}],\"histogram2d\":[{\"colorbar\":{\"outlinewidth\":0,\"ticks\":\"\"},\"colorscale\":[[0.0,\"#0d0887\"],[0.1111111111111111,\"#46039f\"],[0.2222222222222222,\"#7201a8\"],[0.3333333333333333,\"#9c179e\"],[0.4444444444444444,\"#bd3786\"],[0.5555555555555556,\"#d8576b\"],[0.6666666666666666,\"#ed7953\"],[0.7777777777777778,\"#fb9f3a\"],[0.8888888888888888,\"#fdca26\"],[1.0,\"#f0f921\"]],\"type\":\"histogram2d\"}],\"histogram2dcontour\":[{\"colorbar\":{\"outlinewidth\":0,\"ticks\":\"\"},\"colorscale\":[[0.0,\"#0d0887\"],[0.1111111111111111,\"#46039f\"],[0.2222222222222222,\"#7201a8\"],[0.3333333333333333,\"#9c179e\"],[0.4444444444444444,\"#bd3786\"],[0.5555555555555556,\"#d8576b\"],[0.6666666666666666,\"#ed7953\"],[0.7777777777777778,\"#fb9f3a\"],[0.8888888888888888,\"#fdca26\"],[1.0,\"#f0f921\"]],\"type\":\"histogram2dcontour\"}],\"mesh3d\":[{\"colorbar\":{\"outlinewidth\":0,\"ticks\":\"\"},\"type\":\"mesh3d\"}],\"parcoords\":[{\"line\":{\"colorbar\":{\"outlinewidth\":0,\"ticks\":\"\"}},\"type\":\"parcoords\"}],\"pie\":[{\"automargin\":true,\"type\":\"pie\"}],\"scatter\":[{\"marker\":{\"colorbar\":{\"outlinewidth\":0,\"ticks\":\"\"}},\"type\":\"scatter\"}],\"scatter3d\":[{\"line\":{\"colorbar\":{\"outlinewidth\":0,\"ticks\":\"\"}},\"marker\":{\"colorbar\":{\"outlinewidth\":0,\"ticks\":\"\"}},\"type\":\"scatter3d\"}],\"scattercarpet\":[{\"marker\":{\"colorbar\":{\"outlinewidth\":0,\"ticks\":\"\"}},\"type\":\"scattercarpet\"}],\"scattergeo\":[{\"marker\":{\"colorbar\":{\"outlinewidth\":0,\"ticks\":\"\"}},\"type\":\"scattergeo\"}],\"scattergl\":[{\"marker\":{\"colorbar\":{\"outlinewidth\":0,\"ticks\":\"\"}},\"type\":\"scattergl\"}],\"scattermapbox\":[{\"marker\":{\"colorbar\":{\"outlinewidth\":0,\"ticks\":\"\"}},\"type\":\"scattermapbox\"}],\"scatterpolar\":[{\"marker\":{\"colorbar\":{\"outlinewidth\":0,\"ticks\":\"\"}},\"type\":\"scatterpolar\"}],\"scatterpolargl\":[{\"marker\":{\"colorbar\":{\"outlinewidth\":0,\"ticks\":\"\"}},\"type\":\"scatterpolargl\"}],\"scatterternary\":[{\"marker\":{\"colorbar\":{\"outlinewidth\":0,\"ticks\":\"\"}},\"type\":\"scatterternary\"}],\"surface\":[{\"colorbar\":{\"outlinewidth\":0,\"ticks\":\"\"},\"colorscale\":[[0.0,\"#0d0887\"],[0.1111111111111111,\"#46039f\"],[0.2222222222222222,\"#7201a8\"],[0.3333333333333333,\"#9c179e\"],[0.4444444444444444,\"#bd3786\"],[0.5555555555555556,\"#d8576b\"],[0.6666666666666666,\"#ed7953\"],[0.7777777777777778,\"#fb9f3a\"],[0.8888888888888888,\"#fdca26\"],[1.0,\"#f0f921\"]],\"type\":\"surface\"}],\"table\":[{\"cells\":{\"fill\":{\"color\":\"#EBF0F8\"},\"line\":{\"color\":\"white\"}},\"header\":{\"fill\":{\"color\":\"#C8D4E3\"},\"line\":{\"color\":\"white\"}},\"type\":\"table\"}]},\"layout\":{\"annotationdefaults\":{\"arrowcolor\":\"#2a3f5f\",\"arrowhead\":0,\"arrowwidth\":1},\"autotypenumbers\":\"strict\",\"coloraxis\":{\"colorbar\":{\"outlinewidth\":0,\"ticks\":\"\"}},\"colorscale\":{\"diverging\":[[0,\"#8e0152\"],[0.1,\"#c51b7d\"],[0.2,\"#de77ae\"],[0.3,\"#f1b6da\"],[0.4,\"#fde0ef\"],[0.5,\"#f7f7f7\"],[0.6,\"#e6f5d0\"],[0.7,\"#b8e186\"],[0.8,\"#7fbc41\"],[0.9,\"#4d9221\"],[1,\"#276419\"]],\"sequential\":[[0.0,\"#0d0887\"],[0.1111111111111111,\"#46039f\"],[0.2222222222222222,\"#7201a8\"],[0.3333333333333333,\"#9c179e\"],[0.4444444444444444,\"#bd3786\"],[0.5555555555555556,\"#d8576b\"],[0.6666666666666666,\"#ed7953\"],[0.7777777777777778,\"#fb9f3a\"],[0.8888888888888888,\"#fdca26\"],[1.0,\"#f0f921\"]],\"sequentialminus\":[[0.0,\"#0d0887\"],[0.1111111111111111,\"#46039f\"],[0.2222222222222222,\"#7201a8\"],[0.3333333333333333,\"#9c179e\"],[0.4444444444444444,\"#bd3786\"],[0.5555555555555556,\"#d8576b\"],[0.6666666666666666,\"#ed7953\"],[0.7777777777777778,\"#fb9f3a\"],[0.8888888888888888,\"#fdca26\"],[1.0,\"#f0f921\"]]},\"colorway\":[\"#636efa\",\"#EF553B\",\"#00cc96\",\"#ab63fa\",\"#FFA15A\",\"#19d3f3\",\"#FF6692\",\"#B6E880\",\"#FF97FF\",\"#FECB52\"],\"font\":{\"color\":\"#2a3f5f\"},\"geo\":{\"bgcolor\":\"white\",\"lakecolor\":\"white\",\"landcolor\":\"#E5ECF6\",\"showlakes\":true,\"showland\":true,\"subunitcolor\":\"white\"},\"hoverlabel\":{\"align\":\"left\"},\"hovermode\":\"closest\",\"mapbox\":{\"style\":\"light\"},\"paper_bgcolor\":\"white\",\"plot_bgcolor\":\"#E5ECF6\",\"polar\":{\"angularaxis\":{\"gridcolor\":\"white\",\"linecolor\":\"white\",\"ticks\":\"\"},\"bgcolor\":\"#E5ECF6\",\"radialaxis\":{\"gridcolor\":\"white\",\"linecolor\":\"white\",\"ticks\":\"\"}},\"scene\":{\"xaxis\":{\"backgroundcolor\":\"#E5ECF6\",\"gridcolor\":\"white\",\"gridwidth\":2,\"linecolor\":\"white\",\"showbackground\":true,\"ticks\":\"\",\"zerolinecolor\":\"white\"},\"yaxis\":{\"backgroundcolor\":\"#E5ECF6\",\"gridcolor\":\"white\",\"gridwidth\":2,\"linecolor\":\"white\",\"showbackground\":true,\"ticks\":\"\",\"zerolinecolor\":\"white\"},\"zaxis\":{\"backgroundcolor\":\"#E5ECF6\",\"gridcolor\":\"white\",\"gridwidth\":2,\"linecolor\":\"white\",\"showbackground\":true,\"ticks\":\"\",\"zerolinecolor\":\"white\"}},\"shapedefaults\":{\"line\":{\"color\":\"#2a3f5f\"}},\"ternary\":{\"aaxis\":{\"gridcolor\":\"white\",\"linecolor\":\"white\",\"ticks\":\"\"},\"baxis\":{\"gridcolor\":\"white\",\"linecolor\":\"white\",\"ticks\":\"\"},\"bgcolor\":\"#E5ECF6\",\"caxis\":{\"gridcolor\":\"white\",\"linecolor\":\"white\",\"ticks\":\"\"}},\"title\":{\"x\":0.05},\"xaxis\":{\"automargin\":true,\"gridcolor\":\"white\",\"linecolor\":\"white\",\"ticks\":\"\",\"title\":{\"standoff\":15},\"zerolinecolor\":\"white\",\"zerolinewidth\":2},\"yaxis\":{\"automargin\":true,\"gridcolor\":\"white\",\"linecolor\":\"white\",\"ticks\":\"\",\"title\":{\"standoff\":15},\"zerolinecolor\":\"white\",\"zerolinewidth\":2}}},\"xaxis\":{\"anchor\":\"y\",\"domain\":[0.0,1.0],\"title\":{\"text\":\"Dias no Top 10\"}},\"yaxis\":{\"anchor\":\"x\",\"domain\":[0.0,1.0],\"title\":{\"text\":\"count\"}},\"legend\":{\"tracegroupgap\":0},\"margin\":{\"t\":60},\"barmode\":\"relative\",\"height\":500,\"width\":500},                        {\"responsive\": true}                    ).then(function(){\n",
              "                            \n",
              "var gd = document.getElementById('3ebed1e3-1bb9-4fc9-a255-d4dcc899464b');\n",
              "var x = new MutationObserver(function (mutations, observer) {{\n",
              "        var display = window.getComputedStyle(gd).display;\n",
              "        if (!display || display === 'none') {{\n",
              "            console.log([gd, 'removed!']);\n",
              "            Plotly.purge(gd);\n",
              "            observer.disconnect();\n",
              "        }}\n",
              "}});\n",
              "\n",
              "// Listen for the removal of the full notebook cells\n",
              "var notebookContainer = gd.closest('#notebook-container');\n",
              "if (notebookContainer) {{\n",
              "    x.observe(notebookContainer, {childList: true});\n",
              "}}\n",
              "\n",
              "// Listen for the clearing of the current output cell\n",
              "var outputEl = gd.closest('.output');\n",
              "if (outputEl) {{\n",
              "    x.observe(outputEl, {childList: true});\n",
              "}}\n",
              "\n",
              "                        })                };                            </script>        </div>\n",
              "</body>\n",
              "</html>"
            ]
          },
          "metadata": {}
        }
      ]
    },
    {
      "cell_type": "markdown",
      "source": [
        "#### Histograma da variável Pontuação de Audiência"
      ],
      "metadata": {
        "id": "_zsIDUGyRKGW"
      }
    },
    {
      "cell_type": "code",
      "source": [
        "hist_pontuacao_audiencia = px.histogram(base, x='Pontuaçao de audiencia', width=500, height=500)\n",
        "hist_pontuacao_audiencia.show()"
      ],
      "metadata": {
        "colab": {
          "base_uri": "https://localhost:8080/",
          "height": 517
        },
        "id": "ysJig_s6RSrn",
        "outputId": "0c91dd9c-b357-427a-88d8-a263e40e75dd"
      },
      "execution_count": 15,
      "outputs": [
        {
          "output_type": "display_data",
          "data": {
            "text/html": [
              "<html>\n",
              "<head><meta charset=\"utf-8\" /></head>\n",
              "<body>\n",
              "    <div>            <script src=\"https://cdnjs.cloudflare.com/ajax/libs/mathjax/2.7.5/MathJax.js?config=TeX-AMS-MML_SVG\"></script><script type=\"text/javascript\">if (window.MathJax) {MathJax.Hub.Config({SVG: {font: \"STIX-Web\"}});}</script>                <script type=\"text/javascript\">window.PlotlyConfig = {MathJaxConfig: 'local'};</script>\n",
              "        <script src=\"https://cdn.plot.ly/plotly-2.8.3.min.js\"></script>                <div id=\"cb985f88-85d8-4138-852f-507e743419c3\" class=\"plotly-graph-div\" style=\"height:500px; width:500px;\"></div>            <script type=\"text/javascript\">                                    window.PLOTLYENV=window.PLOTLYENV || {};                                    if (document.getElementById(\"cb985f88-85d8-4138-852f-507e743419c3\")) {                    Plotly.newPlot(                        \"cb985f88-85d8-4138-852f-507e743419c3\",                        [{\"alignmentgroup\":\"True\",\"bingroup\":\"x\",\"hovertemplate\":\"Pontua\\u00e7ao de audiencia=%{x}<br>count=%{y}<extra></extra>\",\"legendgroup\":\"\",\"marker\":{\"color\":\"#636efa\",\"pattern\":{\"shape\":\"\"}},\"name\":\"\",\"offsetgroup\":\"\",\"orientation\":\"v\",\"showlegend\":false,\"x\":[90,45,76,30,55,14,5,40,11,15,100,54,84,7,6,35,4,8,57,15,110,63,92,13,13,9,12,3,2,36,120,72,8,99,6,18,13,16,14,4,130,81,14,15,105,23,20,16,2,15,140,90,22,9,21,110,27,23,18,1,150,99,30,16,27,115,4,26,29,1,160,108,38,11,22,32,119,4,28,2,170,117,19,29,44,37,123,7,30,3,180,126,27,36,43,128,48,10,32,1,190,135,44,34,49,5,132,51,12,33,200,144,13,51,40,54,4,135,14,2,210,13,152,58,19,59,4,43,137,1,220,161,21,66,143,24,47,4,60,15,230,170,29,7,72,148,51,27,6,61,240,179,37,14,6,5,152,75,53,62,10,249,13,186,12,42,156,78,16,54,20,258,21,193,6,5,46,15,158,79,30,15,266,28,11,198,19,49,2,80,40,24,36,273,17,203,6,22,51,1,34,45,48,13,279,22,207,25,160,2,44,54,56,20,28,284,211,163,27,1,54,63,28,7,62,216,288,31,2,2,17,72,62,35,222,67,292,34,4,3,10,26,80,69,41,227,71,295,6,35,20,89,34,48,75,300,231,9,73,1,30,98,8,41,54,80,4,4,233,301,40,107,12,15,47,5,58,83,235,5,50,14,115,19,53,63,239,18,85,6,24,59,123,26,6,58,67,242,8,86,34,9,131,66,12,31,62,70,244,87,19,43,139,73,18,36,66,3,246,71,29,52,147,80,9,5,4,21,2,37,39,156,13,16,58,85,8,24,39,3,166,48,21,65,22,13,89,3,41,25,176,30,11,55,71,5,26,16,91,42,186,39,13,78,6,60,4,14,18,27,196,48,14,11,19,83,22,17,62,247,10,205,56,18,20,5,87,22,24,88,20,214,13,63,26,23,28,25,93,88,30,223,8,20,69,31,97,31,25,248,40,17,231,27,75,5,252,28,90,43,50,26,239,34,6,10,4,78,254,1,60,9,247,33,10,11,14,37,256,79,19,69,8,254,39,15,18,259,13,80,29,78,16,261,6,44,19,21,261,14,39,87,24,13,267,5,48,3,21,15,49,96,32,12,19,272,4,6,50,22,10,58,40,103,10,24,276,15,8,262,20,67,48,110,6,29,280,13,17,9,30,15,56,117,73,5,33,283,15,18,40,24,64,124,79,10,37,286,17,19,50,33,8,71,130,84,14,40,288,1,43,59,16,91,7,135,18,74,42,289,53,68,24,98,13,140,22,3,76,43,63,77,8,31,9,18,102,143,78,23,18,72,85,16,24,148,82,34,25,103,10,27,80,92,154,87,20,27,27,35,20,36,88,99,160,92,24,30,29,290,10,29,44,95,105,165,96,33,31,25,20,38,52,102,111,170,35,99,35,26,30,47,110,59,117,175,103,38,28,36,40,56,118,124,65,108,179,3,38,291,50,65,8,125,130,8,4,3,67,109,60,74,16,132,136,9,12,6,69,110,70,83,24,139,15,141,10,15,2,111,10,79,91,31,6,7,145,142,17,11,20,88,14,98,37,5,11,148,19,143,30,97,22,7,104,10,41,14,21,149,40,16,105,111,16,46,26,17,151,1,50,25,113,118,22,51,30,20,153,2,60,34,121,125,28,56,157,23,4,31,70,43,129,132,34,162,60,26,6,1,53,79,8,136,6,5,136,165,36,61,18,62,87,7,142,10,10,139,167,37,28,71,95,14,148,15,14,142,169,38,81,104,36,21,154,20,18,172,144,62,91,113,44,28,160,25,176,21,2,145,101,122,8,51,166,33,180,28,23,3,111,131,8,15,172,185,55,31,2,34,10,120,16,138,6,20,176,3,187,3,20,129,24,10,12,143,180,6,2,188,30,138,32,17,18,7,147,3,182,7,40,41,146,14,24,22,151,6,190,183,50,50,22,153,30,27,4,154,8,191,60,59,30,160,36,9,31,157,10,192,70,68,168,37,42,14,161,3,33,193,80,9,176,75,43,8,18,45,2,162,19,89,16,183,81,48,49,5,20,1,29,98,191,23,87,6,9,51,51,21,108,38,199,94,15,28,55,54,8,22,118,47,8,101,205,20,58,58,2,23,10,127,8,15,53,106,209,23,2,194,20,17,135,7,8,5,19,56,211,107,30,16,25,7,141,13,4,22,58,212,40,25,15,32,10,146,17,8,24,213,50,34,23,39,16,22,150,11,2,1,60,43,31,23,45,155,26,5,13,2,70,52,39,30,161,50,9,29,2,1,80,61,9,46,8,35,165,12,52,30,90,18,69,53,41,13,169,15,32,146,10,99,26,76,6,5,57,44,171,14,20,108,34,12,82,11,61,17,46,147,30,117,20,41,88,16,21,150,63,47,40,29,49,124,94,21,67,153,23,48,50,38,57,7,130,99,157,70,23,1,60,16,46,64,136,104,4,160,72,24,10,69,24,53,70,141,8,107,162,73,20,9,77,31,59,75,145,11,109,163,19,29,85,66,37,16,79,148,111,164,29,38,93,7,72,21,41,151,81,1,39,16,46,79,27,98,85,44,3,152,49,25,54,34,85,103,7,155,87,1,59,34,8,41,60,90,4,158,9,88,18,68,42,11,47,95,92,12,3,61,10,27,76,49,17,52,4,98,2,13,20,36,84,56,10,7,21,55,105,99,30,45,64,91,6,15,11,108,101,22,40,15,53,71,21,96,15,104,57,4,50,24,29,78,102,58,4,18,59,5,34,59,12,85,35,107,62,21,61,6,44,68,43,92,18,112,4,65,2,62,10,53,76,50,98,23,116,5,6,1,20,62,84,105,56,28,9,4,118,1,30,71,8,112,90,6,8,59,30,119,40,80,16,119,12,95,4,3,10,60,50,89,11,7,22,124,4,15,97,5,60,98,8,14,17,9,26,3,126,16,70,17,8,105,9,14,18,20,28,127,80,26,16,7,111,5,4,12,16,128,90,35,24,14,117,10,8,15,18,129,100,44,22,31,123,15,12,18,20,130,110,9,52,29,37,128,19,15,20,1,19,119,60,44,35,133,5,22,17,21,29,128,68,51,139,40,21,24,24,1,39,137,9,75,57,144,4,43,23,25,10,48,145,16,6,62,8,147,2,76,20,15,56,152,22,7,12,79,149,63,30,24,64,159,13,27,16,152,81,64,40,33,167,20,33,69,20,155,66,1,50,42,175,27,39,74,24,158,2,2,60,51,183,34,45,5,78,5,160,1,70,60,191,41,11,50,5,8,80,161,10,79,68,12,197,16,4,53,43,1,20,88,12,19,74,202,20,56,2,2,30,97,27,19,208,79,24,5,58,3,40,106,35,215,11,24,83,3,26,59,50,224,19,113,41,88,28,6,2,27,60,28,232,120,6,7,10,91,43,29,70,15,36,7,238,15,124,10,2,92,10,79,23,7,13,41,242,127,4,16,20,88,15,30,6,18,246,130,6,42,30,15,96,22,36,251,134,21,8,43,40,24,104,43,28,13,255,24,2,44,50,9,8,111,30,7,17,46,257,1,60,18,16,8,117,35,4,20,2,258,70,27,8,23,14,7,121,7,37,21,80,17,35,7,20,28,11,124,9,22,90,16,25,42,26,33,15,12,126,23,26,99,33,33,48,20,37,129,2,1,36,108,41,40,54,25,41,132,4,2,46,117,49,7,60,45,45,135,27,24,56,126,15,7,55,65,49,48,26,136,66,9,134,14,21,31,59,52,2,66,76,18,142,7,20,26,4,3,4,1,86,16,26,149,26,31,8,6,6,2,96,25,157,33,32,13,10,34,8,3,106,34,165,20,38,38,14,11,33,4,116,174,42,27,44,43,18,3,35,1,10,125,182,34,48,5,4,47,2,4,20,134,13,11,188,39,6,51,49,1,10,9,21,27,7,139,192,14,41,52,20,18,15,28,33,144,45,195,16,53,30,24,26,35,39,200,49,147,18,1,40,35,32,42,206,44,151,4,51,1,50,44,40,49,212,9,5,154,53,45,60,9,52,47,55,14,216,8,156,36,70,18,8,59,61,52,18,219,10,37,28,79,16,66,67,57,4,21,39,220,38,88,24,73,63,72,4,223,41,1,98,47,32,11,79,5,5,66,74,224,108,56,40,12,17,84,9,44,226,22,118,21,64,47,23,89,48,12,24,227,10,127,29,71,29,52,4,51,91,1,20,136,8,78,35,9,5,32,2,52,30,145,16,7,84,14,8,8,37,53,40,16,153,23,6,89,18,11,4,54,50,25,14,160,6,28,93,7,20,55,60,34,22,167,12,5,32,3,57,8,70,43,30,19,173,5,9,6,34,58,10,79,51,37,11,24,177,61,8,10,20,88,59,44,17,5,28,180,63,9,30,9,67,95,50,10,21,11,182,29,19,39,75,102,56,26,14,185,31,12,29,48,83,33,108,61,18,34,187,64,39,57,91,68,24,38,112,37,189,65,49,66,99,75,30,42,116,68,40,190,59,75,107,82,36,5,46,3,70,117,69,84,115,10,88,41,9,49,2,71,79,93,18,7,121,5,16,91,11,50,89,102,15,25,127,10,95,53,73,17,99,111,23,134,31,15,99,56,2,74,109,167,119,141,29,104,35,77,58,3,177,118,149,126,110,82,62,32,2,1,187,127,8,7,155,7,130,4,112,83,197,136,16,14,10,5,11,86,157,113,207,23,8,143,22,5,9,20,12,1,11,216,16,30,11,27,147,15,132,10,21,25,19,223,36,152,31,18,134,11,31,28,33,230,158,41,22,89,33,114,41,37,41,7,236,163,26,44,91,115,10,50,15,44,47,168,30,239,93,45,20,59,23,51,53,5,34,171,241,94,30,68,28,60,29,10,55,3,173,1,40,77,11,8,140,15,64,176,31,56,50,86,19,15,21,69,180,59,33,141,96,59,8,26,100,74,19,183,36,22,106,68,16,33,106,79,4,3,38,184,116,25,12,75,6,8,110,3,35,80,126,9,20,32,81,8,10,113,10,1,136,18,9,27,38,33,12,13,83,114,146,27,17,45,33,38,16,86,15,1,156,26,35,40,51,21,90,18,3,115,166,35,29,42,46,120,55,21,5,91,176,44,37,53,6,47,124,58,2,1,186,15,52,44,59,5,128,50,4,2,196,24,13,59,50,5,132,62,6,3,206,33,21,66,56,10,136,65,8,4,216,9,29,73,6,13,37,41,2,57,10,225,17,20,35,11,6,76,138,38,20,234,8,24,26,143,15,38,2,39,30,9,242,15,20,29,147,29,4,16,40,18,250,22,26,5,151,32,31,17,50,9,26,257,28,31,9,154,34,32,60,18,34,264,34,46,35,37,156,10,70,43,26,271,40,42,39,49,12,33,80,52,279,33,46,47,43,3,14,34,90,288,60,40,52,48,51,3,16,157,10,99,296,7,66,56,56,51,42,4,10,19,107,303,13,61,70,54,58,1,20,28,21,310,113,66,5,73,2,55,30,9,36,317,119,26,70,52,7,1,19,39,325,43,125,75,5,10,28,3,29,48,333,132,11,48,79,31,12,4,39,57,8,340,138,84,52,14,6,158,49,17,65,347,144,5,88,9,160,1,59,14,25,8,353,70,148,3,90,161,69,23,8,10,359,95,152,73,10,26,10,9,77,30,14,364,77,13,154,10,20,18,85,37,20,82,14,367,15,155,30,27,93,44,26,87,371,17,17,156,40,36,101,51,32,376,4,20,163,157,50,45,12,108,6,381,167,23,53,158,60,54,20,13,114,5,385,170,25,159,30,69,62,12,120,18,389,173,27,160,40,21,70,76,6,125,22,30,391,174,50,15,29,37,28,81,74,128,89,392,60,24,37,44,134,79,85,395,91,29,10,46,68,86,140,29,48,177,397,86,20,55,8,75,146,91,52,180,399,30,30,64,16,82,58,151,184,94,401,1,40,25,72,8,6,63,188,154,84,402,10,49,33,15,69,77,10,191,156,403,20,58,77,22,39,15,81,194,93,404,30,86,66,46,21,27,85,197,95,405,96,9,54,204,27,90,34,69,29,406,10,105,212,61,15,95,410,98,2,30,10,19,113,219,104,66,99,413,4,13,20,122,112,26,19,224,4,37,68,5,30,131,8,7,118,31,23,40,6,225,40,17,15,38,231,136,417,121,70,157,27,49,23,45,237,5,421,73,159,137,37,32,57,12,51,242,425,76,161,100,47,41,20,64,248,430,55,79,163,1,57,50,28,71,254,435,59,82,165,1,67,37,58,7,77,259,439,3,3,2,237,76,15,44,64,82,4,3,441,260,247,85,12,22,70,8,48,3,2,442,257,94,20,29,14,75,7,5,50,443,267,103,37,27,20,80,11,263,445,6,277,112,8,44,33,85,24,14,265,446,287,121,16,92,30,49,37,268,16,1,131,296,24,7,98,5,53,33,3,269,141,305,15,31,104,10,7,3,271,54,151,314,11,38,110,20,14,10,273,38,161,323,19,21,116,43,24,13,2,274,171,332,27,9,122,26,278,16,45,1,181,36,340,16,128,283,30,19,3,46,191,45,8,347,22,133,287,6,21,31,18,200,53,354,28,138,291,9,23,32,28,9,208,60,34,359,4,141,2,292,19,37,216,67,8,39,8,362,143,293,29,46,224,46,73,13,12,365,2,144,39,55,232,20,52,7,77,15,367,1,65,48,240,14,26,57,81,4,369,16,75,249,56,33,20,62,85,7,2,370,259,84,8,63,8,38,66,23,87,8,10,17,267,91,14,96,42,66,25,67,20,26,275,98,20,5,100,69,44,26,30,35,283,105,11,25,48,29,102,9,40,44,291,7,111,53,106,12,2,10,50,16,299,51,117,58,16,13,4,294,60,25,307,58,123,63,20,3,15,295,70,34,315,65,9,25,19,66,297,124,10,79,323,41,6,5,13,68,27,20,20,14,14,330,47,84,17,71,22,28,30,23,22,337,53,89,21,74,24,29,40,346,30,30,95,58,25,32,299,67,356,49,38,37,101,37,29,302,60,68,10,365,45,45,43,54,33,104,304,69,20,374,8,50,310,38,49,48,106,70,30,383,8,15,316,55,42,52,50,71,40,17,391,7,21,57,54,319,44,72,50,16,25,398,27,324,59,3,46,1,60,25,8,405,330,64,4,28,29,47,70,17,33,11,411,335,68,50,74,30,10,79,25,40,17,416,339,71,52,75,20,88,33,47,23,5,420,342,73,1,10,29,41,95,53,28,5,345,7,421,39,19,103,48,34,58,9,424,9,346,49,28,111,55,40,63,13,12,426,347,59,64,119,35,6,68,44,16,349,427,69,73,8,126,12,40,72,352,2,428,18,78,81,19,132,5,44,75,354,429,15,27,89,85,138,24,358,47,77,430,10,24,35,96,91,143,28,361,2,431,20,33,43,103,97,148,6,31,363,432,30,42,51,110,103,153,4,9,33,364,40,51,59,117,159,9,107,12,366,34,50,60,67,124,165,371,111,12,14,35,60,69,75,131,6,170,375,114,2,13,16,69,77,138,81,7,174,378,2,115,26,9,77,84,13,143,85,177,380,3,36,18,85,20,90,148,7,88,179,381,46,27,93,27,96,153,92,10,181,382,56,36,8,103,159,32,97,95,384,182,66,45,16,110,165,100,36,100,386,1,76,9,53,23,171,115,4,103,388,101,86,18,12,60,177,120,27,391,105,1,96,27,8,19,66,182,124,4,393,1,106,36,16,26,72,9,5,127,184,102,116,45,24,16,11,31,131,75,186,103,126,54,194,23,30,398,135,14,107,32,136,63,202,405,29,5,139,17,109,33,146,9,210,412,11,68,143,112,19,30,156,18,218,419,17,5,147,115,70,20,166,27,226,426,23,10,151,118,72,21,10,175,8,34,29,15,430,229,2,152,20,184,16,41,35,20,434,5,154,230,30,193,24,7,47,439,234,23,7,36,40,202,32,14,6,52,443,237,25,8,50,211,22,13,38,5,447,55,239,1,60,220,21,29,6,43,9,450,3,240,70,15,29,227,15,48,33,453,2,4,80,24,37,234,21,53,37,456,4,5,34,30,88,241,43,5,8,56,2,6,44,250,38,95,11,48,6,459,58,9,54,259,46,102,54,11,463,14,60,241,269,63,54,470,17,107,64,57,16,242,279,9,71,477,60,22,111,67,244,1,19,288,485,118,77,5,5,63,35,23,10,14,126,7,11,82,67,60,2,1,20,28,8,21,294,16,39,488,9,1,30,37,16,301,27,6,492,42,18,10,40,46,24,308,33,11,496,45,20,11,56,49,32,315,39,16,500,23,47,1,66,58,40,322,506,5,43,19,3,24,76,67,8,47,6,10,4,325,508,44,86,17,18,74,10,52,4,3,510,7,96,26,8,25,10,9,78,55,5,1,18,105,34,32,15,5,5,513,2,326,28,114,23,41,11,37,9,5,2,514,38,123,31,48,17,10,518,12,4,38,133,47,8,38,524,53,21,13,6,13,10,142,16,54,44,529,4,56,8,22,20,25,150,11,50,59,533,59,10,14,30,34,158,18,56,19,537,13,61,60,40,43,166,63,24,5,541,3,328,20,50,52,174,70,9,546,9,27,330,21,60,9,8,7,180,57,550,73,11,28,19,17,68,14,6,555,184,14,75,58,29,26,76,21,12,560,188,17,77,59,10,38,84,33,18,26,564,31,190,18,20,27,46,91,39,31,568,193,20,78,30,36,54,38,45,573,95,196,22,79,46,39,581,61,44,100,49,25,198,80,54,55,47,588,67,105,29,83,200,50,64,64,8,595,6,52,33,70,85,201,10,17,72,71,601,11,56,36,87,106,20,26,19,78,78,606,60,109,38,88,30,35,27,85,84,611,64,112,90,39,40,44,35,92,90,616,94,42,2,331,50,53,43,99,96,621,98,45,4,332,60,105,61,106,49,626,49,7,334,99,70,114,8,633,112,66,4,52,51,335,10,79,16,121,639,9,70,115,54,1,20,88,24,7,127,5,4,642,11,2,30,97,32,14,133,10,8,645,13,3,40,106,22,15,16,37,137,6,2,646,50,115,94,29,22,20,10,40,139,647,60,124,102,36,28,25,14,43,141,648,10,69,110,148,130,41,652,17,27,29,10,19,77,117,136,46,152,655,2,18,20,86,27,124,142,7,50,658,154,1,30,95,35,8,130,147,11,53,2,659,40,104,43,15,136,7,151,14,661,54,50,113,15,50,142,156,19,664,16,55,60,9,121,22,56,669,146,159,21,56,19,69,30,128,6,674,60,149,161,22,10,28,77,135,36,5,10,677,2,1,20,37,85,142,6,7,40,4,679,11,30,46,93,13,148,12,8,43,7,680,40,55,101,20,154,17,12,46,9,681,50,64,109,53,160,17,685,12,22,18,211,59,72,116,59,165,689,15,19,23,221,68,80,123,65,5,693,168,17,24,10,230,76,113,86,173,697,126,67,6,20,239,84,120,179,91,10,700,128,68,30,248,92,17,126,184,95,131,70,701,40,257,100,24,132,189,99,134,72,702,50,9,265,709,138,77,103,137,191,25,60,18,273,716,144,82,195,106,139,26,28,69,8,7,279,721,199,147,84,107,146,37,8,76,14,12,4,724,281,200,166,17,45,83,20,17,8,727,202,282,176,26,53,27,89,22,12,730,204,283,186,35,61,34,95,5,26,15,732,284,196,44,13,68,738,39,99,29,17,285,206,53,21,75,744,5,33,102,41,18,216,30,61,82,11,749,37,105,43,1,226,9,38,68,88,754,15,108,2,2,19,235,46,22,74,93,758,3,110,3,29,244,30,53,764,98,78,6,112,4,39,253,38,60,770,103,82,9,6,1,49,262,46,67,776,108,86,12,8,113,59,9,270,783,73,51,112,89,10,2,69,18,8,277,789,78,55,115,91,68,79,17,26,7,93,794,281,118,70,56,27,88,15,33,99,799,285,73,120,57,37,97,23,40,105,804,289,76,2,121,47,32,105,112,46,809,293,79,4,1,57,41,113,119,34,814,297,49,81,2,67,50,121,41,125,819,301,5,83,50,77,59,129,48,825,130,4,304,39,84,10,86,67,136,831,53,8,3,41,131,20,95,75,143,14,8,835,56,43,132,30,104,83,150,20,13,839,3,58,44,40,113,91,157,19,844,24,61,5,45,50,122,99,851,163,24,9,27,63,305,132,59,96,858,105,5,167,27,11,28,142,68,104,12,864,110,171,14,30,28,10,151,76,111,18,5,868,113,173,15,20,160,84,12,24,116,872,116,17,174,30,169,92,19,30,121,876,20,118,175,179,39,27,73,98,881,125,33,120,176,189,48,35,80,104,886,129,36,122,177,199,138,43,55,110,85,890,3,124,37,209,147,51,62,9,115,894,88,2,125,219,60,8,154,68,120,6,897,11,89,229,17,68,161,74,125,4,900,8,12,239,77,25,11,167,79,12,128,902,1,249,86,33,18,173,6,83,15,904,129,259,95,181,25,39,909,19,9,2,84,269,104,33,188,915,44,23,12,4,85,279,113,8,40,194,920,4,47,14,5,175,288,121,7,6,13,924,50,196,41,185,297,129,13,13,9,54,927,15,42,195,306,21,136,19,14,58,930,44,16,205,315,29,143,25,19,934,61,198,1,215,324,37,150,940,30,23,4,63,199,225,333,8,157,43,945,4,33,6,64,235,99,16,340,10,162,47,948,8,34,109,244,8,23,16,345,4,165,49,949,254,118,31,15,22,9,349,3,167,950,264,127,17,29,37,354,19,6,169,1,274,136,25,361,35,11,5,3,39,1,284,145,33,368,17,40,7,8,3,170,294,154,41,375,23,45,11,11,5,171,304,163,383,48,29,16,15,48,2,6,314,172,391,55,6,5,20,32,952,16,16,323,399,179,6,10,4,955,22,7,26,332,407,11,185,11,26,958,12,33,36,341,415,18,191,963,15,29,35,17,173,45,349,422,197,968,22,3,17,30,183,49,53,356,428,973,42,200,5,23,193,58,364,7,59,433,46,976,293,6,303,202,66,14,370,981,50,436,61,7,313,211,22,73,6,375,985,53,438,62,323,220,8,29,79,11,379,988,440,54,333,229,16,18,35,84,383,991,56,441,343,238,26,23,6,996,88,386,37,57,353,247,8,33,29,11,1000,389,90,58,363,256,16,18,39,34,4,1003,391,91,373,9,264,23,10,5,22,42,1005,35,383,18,272,30,11,15,26,45,37,1006,28,392,280,18,36,20,49,29,39,1007,402,37,288,25,42,25,1011,32,51,1,412,46,296,32,48,1016,5,28,34,52,422,55,304,39,54,1021,9,31,36,53,10,431,63,311,45,1026,4,57,11,37,20,72,439,318,6,5,49,1029,6,58,30,15,80,446,11,323,53,1032,8,59,25,39,88,453,329,16,57,11,1034,60,35,462,96,336,45,21,61,1037,2,61,472,44,344,103,51,26,1041,64,4,62,482,353,111,51,1047,56,30,67,6,1,492,362,119,1054,57,11,34,59,69,2,10,9,127,499,368,1059,15,3,36,60,20,18,135,506,447,373,7,1062,17,37,30,27,455,14,512,140,377,1065,19,1,40,36,463,21,383,517,144,1068,2,20,50,472,44,28,389,522,1072,147,4,21,60,481,8,51,395,33,526,1075,149,1,18,69,489,8,57,400,1079,529,35,150,10,27,8,496,75,13,61,1082,152,401,20,36,16,82,502,18,65,155,1084,402,30,45,24,509,88,23,1088,68,157,403,55,39,32,516,1094,408,92,26,531,158,65,48,524,39,1100,413,96,534,160,27,75,57,532,7,45,1105,4,3,415,161,85,9,11,539,63,12,8,1108,47,416,95,89,17,18,18,13,543,66,1110,162,105,98,26,24,24,18,547,69,1112,1,115,107,34,31,30,23,551,4,2,1113,125,43,115,38,8,556,8,26,32,1114,135,52,123,563,44,1119,12,11,28,33,145,61,131,570,160,1124,16,47,13,1,155,70,139,167,1130,575,5,19,49,14,10,314,163,77,1136,172,143,22,577,6,20,323,85,170,1142,27,4,175,145,7,30,332,178,92,10,1147,11,3,29,578,40,341,186,99,16,1152,15,6,31,579,351,49,194,106,22,1157,583,9,33,16,361,203,57,182,112,1162,587,25,11,34,371,212,8,64,188,1167,116,590,2,12,10,17,379,219,70,193,1171,5,14,35,20,26,227,386,76,10,1175,3,195,15,30,12,34,234,392,81,4,1178,197,11,40,21,42,241,398,86,8,1181,199,12,31,49,249,405,48,13,1185,202,88,36,41,58,257,412,54,18,1189,205,90,37,51,67,8,7,6,210,261,415,1191,55,61,17,75,14,6,5,4,9,212,1192,71,13,13,13,23,19,79,12,1194,262,81,22,21,20,25,84,27,15,264,1195,91,30,30,27,31,89,1199,30,17,265,101,39,8,37,37,32,93,1202,32,266,18,9,40,44,43,37,166,58,123,91,111,48,26,16,46,98,47,47,1204,213,121,9,8,55,52,31,4,55,1206,99,131,18,16,62,58,9,35,3,1208,48,141,27,24,69,9,63,13,38,1210,49,151,10,32,34,75,14,17,1213,65,1,161,19,40,41,81,19,21,1216,67,2,171,28,48,7,47,5,85,5,1218,20,181,57,36,14,11,52,89,8,1220,21,191,66,22,43,58,16,12,58,91,1221,201,75,30,50,64,21,16,94,1223,68,211,84,38,57,70,26,20,97,2,1224,221,93,46,64,167,7,101,73,1226,25,231,102,54,174,70,12,105,28,1228,74,241,111,182,61,76,17,109,1231,30,75,251,120,190,68,82,22,1235,112,32,76,10,260,128,197,74,1240,62,85,2,1,20,269,136,204,8,79,1244,4,2,63,30,278,144,211,14,7,1248,82,6,7,40,287,152,218,1254,19,11,10,84,7,50,296,160,225,1260,16,23,13,113,8,60,305,168,232,1266,21,4,116,15,85,70,314,176,11,238,1271,120,24,87,16,80,323,184,7,1277,243,15,66,122,88,90,332,192,14,6,5,19,1280,124,244,100,341,22,199,12,10,23,127,246,1281,110,350,30,206,18,132,1285,13,248,24,120,359,214,37,24,137,17,1288,250,1,130,368,222,44,30,6,21,1291,139,1,140,377,230,51,7,11,34,24,1293,140,150,386,15,237,57,5,70,27,13,1294,160,14,394,22,243,32,17,60,1296,1,24,169,402,250,28,65,36,20,1298,2,34,178,410,257,71,7,1302,3,142,29,188,43,418,14,9,262,75,1305,2,143,10,197,17,425,49,19,266,1308,77,3,20,206,25,432,25,54,270,1311,2,78,30,9,102,213,438,30,4,73,4,55,40,18,110,220,10,443,34,7,57,1312,28,49,118,17,226,448,38,10,2,271,38,127,57,24,232,15,452,1315,40,272,48,136,32,64,238,457,19,1318,274,41,58,145,40,71,244,462,1322,22,276,1,68,154,48,78,250,467,4,1325,3,277,10,77,162,55,79,255,82,470,1327,5,20,86,170,89,8,60,9,473,257,1,30,95,178,67,95,6,261,476,10,1328,40,76,103,268,184,481,281,1331,97,4,50,85,276,7,109,286,485,1334,186,98,60,310,93,283,292,5,1338,488,111,187,320,69,15,12,99,288,296,1341,9,489,79,329,8,7,18,20,83,102,1343,297,89,338,16,14,16,23,24,300,104,490,99,25,346,21,29,21,304,27,106,491,35,108,354,28,35,26,4,307,1345,107,45,117,43,361,34,9,1349,310,109,27,10,9,31,52,123,48,365,37,2,1350,20,18,131,38,58,7,52,40,367,492,30,27,46,138,6,57,62,10,85,493,40,36,54,145,63,11,14,65,495,1,50,45,62,70,17,150,69,3,16,2,60,71,78,52,23,7,73,153,18,1351,70,87,79,59,13,28,77,156,1353,19,10,79,8,94,85,5,4,16,61,29,20,88,16,101,91,9,4,1356,18,30,155,29,24,95,153,106,95,12,1358,5,165,38,103,31,159,111,16,8,158,96,175,47,111,118,37,164,12,19,98,159,185,56,126,118,1364,103,168,40,21,13,195,65,134,125,1370,108,44,171,23,1,205,74,142,132,1376,113,4,4,173,45,215,83,150,7,1382,137,8,7,115,174,10,92,158,222,13,1387,12,3,139,160,20,9,100,10,228,163,16,16,162,1388,30,18,18,107,169,233,20,19,2,1,40,27,26,176,113,6,24,236,1390,3,50,36,34,183,12,118,28,1393,238,4,60,45,8,41,18,188,122,1396,30,239,70,9,16,52,24,46,192,1399,124,240,34,79,24,16,52,57,196,7,1401,125,44,88,24,31,58,62,11,199,1403,126,54,97,32,65,37,16,66,202,1405,127,64,106,73,44,208,37,20,1408,68,128,74,115,81,215,50,1413,24,3,39,129,84,166,123,88,221,1418,54,26,26,130,94,175,131,95,32,1423,225,3,56,122,10,103,183,39,128,136,99,22,1425,1,20,112,191,46,142,5,132,25,227,1,30,121,199,12,148,232,5,102,1427,4,40,130,207,19,154,237,4,8,1429,103,50,139,215,26,160,242,8,1432,105,9,60,148,223,7,32,165,12,245,1434,106,70,157,231,14,38,170,249,1437,108,13,380,79,165,7,44,236,4,17,40,1438,390,88,15,172,50,9,240,3,19,171,400,97,17,179,56,20,7,243,21,1,410,26,105,186,62,12,247,23,23,250,420,35,194,112,68,17,251,26,2,1,430,44,202,119,74,256,6,20,34,39,440,53,210,126,80,11,260,42,22,35,450,62,134,217,6,85,15,45,262,36,460,71,142,224,12,50,19,88,38,263,470,80,150,231,18,55,23,266,90,39,480,89,239,25,156,60,270,93,25,40,490,98,247,7,162,30,274,63,95,26,10,499,106,14,253,167,278,66,32,1439,20,9,507,113,20,258,171,281,1441,67,30,18,515,7,119,176,24,261,283,1442,40,27,15,522,125,181,28,264,285,263,25,49,35,529,131,186,268,31,265,286,35,58,8,42,535,136,272,268,188,287,45,67,16,49,541,141,4,275,270,189,55,208,75,23,55,546,145,7,272,276,65,217,8,82,552,277,59,3,25,8,287,74,225,15,88,557,7,1445,278,60,297,83,233,22,94,562,11,63,280,1,307,92,241,29,100,567,15,4,282,1446,317,101,249,36,106,572,1450,285,6,1,327,110,257,43,112,1455,576,4,287,7,337,119,273,50,118,1460,580,7,9,288,347,128,281,7,1466,123,54,3,582,10,357,9,8,7,6,133,285,1469,5,11,19,366,16,14,12,138,289,14,7,124,29,25,374,19,20,143,293,17,9,1,39,34,382,26,26,148,297,4,1471,1,49,43,8,389,32,31,4,3,3,149,18,58,51,396,38,8,4,34,6,1,61,67,26,403,10,43,12,9,36,63,153,70,34,74,409,17,14,46,38,1,163,79,42,81,415,19,21,49,40,2,173,88,423,49,87,24,25,52,4,41,183,97,431,56,30,92,29,55,6,64,193,106,439,37,62,97,33,76,66,56,203,115,447,44,68,27,37,100,18,77,213,124,35,454,50,73,41,103,20,78,10,222,99,7,130,459,54,44,75,36,20,108,230,14,136,464,58,47,77,37,30,117,238,143,20,52,468,80,60,38,40,126,246,150,474,65,56,23,40,81,50,135,254,157,480,70,60,84,42,1,60,144,262,7,486,162,4,4,62,71,70,153,270,14,492,5,8,165,6,63,80,162,8,277,6,188,18,495,167,64,90,171,16,284,12,193,499,170,8,65,100,180,24,291,199,17,503,11,172,9,110,189,299,31,23,204,176,506,67,10,120,198,307,38,512,209,27,179,69,11,130,207,26,314,518,184,31,212,71,39,140,216,34,321,524,76,188,34,214,1472,10,225,148,7,40,326,80,527,36,189,20,16,156,232,332,5,44,83,38,528,26,29,164,239,11,337,532,47,85,39,36,173,37,246,17,342,536,88,1474,48,46,9,181,44,252,5,4,3,344,18,19,55,189,51,258,53,9,6,2,5,29,64,197,7,57,263,13,56,4,6,273,9,37,204,70,12,61,16,58,1,19,46,281,211,76,17,65,19,3,7,29,55,219,288,82,22,69,22,5,8,39,228,63,295,124,87,26,25,7,70,49,133,236,70,301,92,29,10,28,1,59,52,141,243,76,306,96,4,31,11,62,68,149,250,312,81,100,7,33,12],\"xaxis\":\"x\",\"yaxis\":\"y\",\"type\":\"histogram\"}],                        {\"template\":{\"data\":{\"bar\":[{\"error_x\":{\"color\":\"#2a3f5f\"},\"error_y\":{\"color\":\"#2a3f5f\"},\"marker\":{\"line\":{\"color\":\"#E5ECF6\",\"width\":0.5},\"pattern\":{\"fillmode\":\"overlay\",\"size\":10,\"solidity\":0.2}},\"type\":\"bar\"}],\"barpolar\":[{\"marker\":{\"line\":{\"color\":\"#E5ECF6\",\"width\":0.5},\"pattern\":{\"fillmode\":\"overlay\",\"size\":10,\"solidity\":0.2}},\"type\":\"barpolar\"}],\"carpet\":[{\"aaxis\":{\"endlinecolor\":\"#2a3f5f\",\"gridcolor\":\"white\",\"linecolor\":\"white\",\"minorgridcolor\":\"white\",\"startlinecolor\":\"#2a3f5f\"},\"baxis\":{\"endlinecolor\":\"#2a3f5f\",\"gridcolor\":\"white\",\"linecolor\":\"white\",\"minorgridcolor\":\"white\",\"startlinecolor\":\"#2a3f5f\"},\"type\":\"carpet\"}],\"choropleth\":[{\"colorbar\":{\"outlinewidth\":0,\"ticks\":\"\"},\"type\":\"choropleth\"}],\"contour\":[{\"colorbar\":{\"outlinewidth\":0,\"ticks\":\"\"},\"colorscale\":[[0.0,\"#0d0887\"],[0.1111111111111111,\"#46039f\"],[0.2222222222222222,\"#7201a8\"],[0.3333333333333333,\"#9c179e\"],[0.4444444444444444,\"#bd3786\"],[0.5555555555555556,\"#d8576b\"],[0.6666666666666666,\"#ed7953\"],[0.7777777777777778,\"#fb9f3a\"],[0.8888888888888888,\"#fdca26\"],[1.0,\"#f0f921\"]],\"type\":\"contour\"}],\"contourcarpet\":[{\"colorbar\":{\"outlinewidth\":0,\"ticks\":\"\"},\"type\":\"contourcarpet\"}],\"heatmap\":[{\"colorbar\":{\"outlinewidth\":0,\"ticks\":\"\"},\"colorscale\":[[0.0,\"#0d0887\"],[0.1111111111111111,\"#46039f\"],[0.2222222222222222,\"#7201a8\"],[0.3333333333333333,\"#9c179e\"],[0.4444444444444444,\"#bd3786\"],[0.5555555555555556,\"#d8576b\"],[0.6666666666666666,\"#ed7953\"],[0.7777777777777778,\"#fb9f3a\"],[0.8888888888888888,\"#fdca26\"],[1.0,\"#f0f921\"]],\"type\":\"heatmap\"}],\"heatmapgl\":[{\"colorbar\":{\"outlinewidth\":0,\"ticks\":\"\"},\"colorscale\":[[0.0,\"#0d0887\"],[0.1111111111111111,\"#46039f\"],[0.2222222222222222,\"#7201a8\"],[0.3333333333333333,\"#9c179e\"],[0.4444444444444444,\"#bd3786\"],[0.5555555555555556,\"#d8576b\"],[0.6666666666666666,\"#ed7953\"],[0.7777777777777778,\"#fb9f3a\"],[0.8888888888888888,\"#fdca26\"],[1.0,\"#f0f921\"]],\"type\":\"heatmapgl\"}],\"histogram\":[{\"marker\":{\"pattern\":{\"fillmode\":\"overlay\",\"size\":10,\"solidity\":0.2}},\"type\":\"histogram\"}],\"histogram2d\":[{\"colorbar\":{\"outlinewidth\":0,\"ticks\":\"\"},\"colorscale\":[[0.0,\"#0d0887\"],[0.1111111111111111,\"#46039f\"],[0.2222222222222222,\"#7201a8\"],[0.3333333333333333,\"#9c179e\"],[0.4444444444444444,\"#bd3786\"],[0.5555555555555556,\"#d8576b\"],[0.6666666666666666,\"#ed7953\"],[0.7777777777777778,\"#fb9f3a\"],[0.8888888888888888,\"#fdca26\"],[1.0,\"#f0f921\"]],\"type\":\"histogram2d\"}],\"histogram2dcontour\":[{\"colorbar\":{\"outlinewidth\":0,\"ticks\":\"\"},\"colorscale\":[[0.0,\"#0d0887\"],[0.1111111111111111,\"#46039f\"],[0.2222222222222222,\"#7201a8\"],[0.3333333333333333,\"#9c179e\"],[0.4444444444444444,\"#bd3786\"],[0.5555555555555556,\"#d8576b\"],[0.6666666666666666,\"#ed7953\"],[0.7777777777777778,\"#fb9f3a\"],[0.8888888888888888,\"#fdca26\"],[1.0,\"#f0f921\"]],\"type\":\"histogram2dcontour\"}],\"mesh3d\":[{\"colorbar\":{\"outlinewidth\":0,\"ticks\":\"\"},\"type\":\"mesh3d\"}],\"parcoords\":[{\"line\":{\"colorbar\":{\"outlinewidth\":0,\"ticks\":\"\"}},\"type\":\"parcoords\"}],\"pie\":[{\"automargin\":true,\"type\":\"pie\"}],\"scatter\":[{\"marker\":{\"colorbar\":{\"outlinewidth\":0,\"ticks\":\"\"}},\"type\":\"scatter\"}],\"scatter3d\":[{\"line\":{\"colorbar\":{\"outlinewidth\":0,\"ticks\":\"\"}},\"marker\":{\"colorbar\":{\"outlinewidth\":0,\"ticks\":\"\"}},\"type\":\"scatter3d\"}],\"scattercarpet\":[{\"marker\":{\"colorbar\":{\"outlinewidth\":0,\"ticks\":\"\"}},\"type\":\"scattercarpet\"}],\"scattergeo\":[{\"marker\":{\"colorbar\":{\"outlinewidth\":0,\"ticks\":\"\"}},\"type\":\"scattergeo\"}],\"scattergl\":[{\"marker\":{\"colorbar\":{\"outlinewidth\":0,\"ticks\":\"\"}},\"type\":\"scattergl\"}],\"scattermapbox\":[{\"marker\":{\"colorbar\":{\"outlinewidth\":0,\"ticks\":\"\"}},\"type\":\"scattermapbox\"}],\"scatterpolar\":[{\"marker\":{\"colorbar\":{\"outlinewidth\":0,\"ticks\":\"\"}},\"type\":\"scatterpolar\"}],\"scatterpolargl\":[{\"marker\":{\"colorbar\":{\"outlinewidth\":0,\"ticks\":\"\"}},\"type\":\"scatterpolargl\"}],\"scatterternary\":[{\"marker\":{\"colorbar\":{\"outlinewidth\":0,\"ticks\":\"\"}},\"type\":\"scatterternary\"}],\"surface\":[{\"colorbar\":{\"outlinewidth\":0,\"ticks\":\"\"},\"colorscale\":[[0.0,\"#0d0887\"],[0.1111111111111111,\"#46039f\"],[0.2222222222222222,\"#7201a8\"],[0.3333333333333333,\"#9c179e\"],[0.4444444444444444,\"#bd3786\"],[0.5555555555555556,\"#d8576b\"],[0.6666666666666666,\"#ed7953\"],[0.7777777777777778,\"#fb9f3a\"],[0.8888888888888888,\"#fdca26\"],[1.0,\"#f0f921\"]],\"type\":\"surface\"}],\"table\":[{\"cells\":{\"fill\":{\"color\":\"#EBF0F8\"},\"line\":{\"color\":\"white\"}},\"header\":{\"fill\":{\"color\":\"#C8D4E3\"},\"line\":{\"color\":\"white\"}},\"type\":\"table\"}]},\"layout\":{\"annotationdefaults\":{\"arrowcolor\":\"#2a3f5f\",\"arrowhead\":0,\"arrowwidth\":1},\"autotypenumbers\":\"strict\",\"coloraxis\":{\"colorbar\":{\"outlinewidth\":0,\"ticks\":\"\"}},\"colorscale\":{\"diverging\":[[0,\"#8e0152\"],[0.1,\"#c51b7d\"],[0.2,\"#de77ae\"],[0.3,\"#f1b6da\"],[0.4,\"#fde0ef\"],[0.5,\"#f7f7f7\"],[0.6,\"#e6f5d0\"],[0.7,\"#b8e186\"],[0.8,\"#7fbc41\"],[0.9,\"#4d9221\"],[1,\"#276419\"]],\"sequential\":[[0.0,\"#0d0887\"],[0.1111111111111111,\"#46039f\"],[0.2222222222222222,\"#7201a8\"],[0.3333333333333333,\"#9c179e\"],[0.4444444444444444,\"#bd3786\"],[0.5555555555555556,\"#d8576b\"],[0.6666666666666666,\"#ed7953\"],[0.7777777777777778,\"#fb9f3a\"],[0.8888888888888888,\"#fdca26\"],[1.0,\"#f0f921\"]],\"sequentialminus\":[[0.0,\"#0d0887\"],[0.1111111111111111,\"#46039f\"],[0.2222222222222222,\"#7201a8\"],[0.3333333333333333,\"#9c179e\"],[0.4444444444444444,\"#bd3786\"],[0.5555555555555556,\"#d8576b\"],[0.6666666666666666,\"#ed7953\"],[0.7777777777777778,\"#fb9f3a\"],[0.8888888888888888,\"#fdca26\"],[1.0,\"#f0f921\"]]},\"colorway\":[\"#636efa\",\"#EF553B\",\"#00cc96\",\"#ab63fa\",\"#FFA15A\",\"#19d3f3\",\"#FF6692\",\"#B6E880\",\"#FF97FF\",\"#FECB52\"],\"font\":{\"color\":\"#2a3f5f\"},\"geo\":{\"bgcolor\":\"white\",\"lakecolor\":\"white\",\"landcolor\":\"#E5ECF6\",\"showlakes\":true,\"showland\":true,\"subunitcolor\":\"white\"},\"hoverlabel\":{\"align\":\"left\"},\"hovermode\":\"closest\",\"mapbox\":{\"style\":\"light\"},\"paper_bgcolor\":\"white\",\"plot_bgcolor\":\"#E5ECF6\",\"polar\":{\"angularaxis\":{\"gridcolor\":\"white\",\"linecolor\":\"white\",\"ticks\":\"\"},\"bgcolor\":\"#E5ECF6\",\"radialaxis\":{\"gridcolor\":\"white\",\"linecolor\":\"white\",\"ticks\":\"\"}},\"scene\":{\"xaxis\":{\"backgroundcolor\":\"#E5ECF6\",\"gridcolor\":\"white\",\"gridwidth\":2,\"linecolor\":\"white\",\"showbackground\":true,\"ticks\":\"\",\"zerolinecolor\":\"white\"},\"yaxis\":{\"backgroundcolor\":\"#E5ECF6\",\"gridcolor\":\"white\",\"gridwidth\":2,\"linecolor\":\"white\",\"showbackground\":true,\"ticks\":\"\",\"zerolinecolor\":\"white\"},\"zaxis\":{\"backgroundcolor\":\"#E5ECF6\",\"gridcolor\":\"white\",\"gridwidth\":2,\"linecolor\":\"white\",\"showbackground\":true,\"ticks\":\"\",\"zerolinecolor\":\"white\"}},\"shapedefaults\":{\"line\":{\"color\":\"#2a3f5f\"}},\"ternary\":{\"aaxis\":{\"gridcolor\":\"white\",\"linecolor\":\"white\",\"ticks\":\"\"},\"baxis\":{\"gridcolor\":\"white\",\"linecolor\":\"white\",\"ticks\":\"\"},\"bgcolor\":\"#E5ECF6\",\"caxis\":{\"gridcolor\":\"white\",\"linecolor\":\"white\",\"ticks\":\"\"}},\"title\":{\"x\":0.05},\"xaxis\":{\"automargin\":true,\"gridcolor\":\"white\",\"linecolor\":\"white\",\"ticks\":\"\",\"title\":{\"standoff\":15},\"zerolinecolor\":\"white\",\"zerolinewidth\":2},\"yaxis\":{\"automargin\":true,\"gridcolor\":\"white\",\"linecolor\":\"white\",\"ticks\":\"\",\"title\":{\"standoff\":15},\"zerolinecolor\":\"white\",\"zerolinewidth\":2}}},\"xaxis\":{\"anchor\":\"y\",\"domain\":[0.0,1.0],\"title\":{\"text\":\"Pontua\\u00e7ao de audiencia\"}},\"yaxis\":{\"anchor\":\"x\",\"domain\":[0.0,1.0],\"title\":{\"text\":\"count\"}},\"legend\":{\"tracegroupgap\":0},\"margin\":{\"t\":60},\"barmode\":\"relative\",\"height\":500,\"width\":500},                        {\"responsive\": true}                    ).then(function(){\n",
              "                            \n",
              "var gd = document.getElementById('cb985f88-85d8-4138-852f-507e743419c3');\n",
              "var x = new MutationObserver(function (mutations, observer) {{\n",
              "        var display = window.getComputedStyle(gd).display;\n",
              "        if (!display || display === 'none') {{\n",
              "            console.log([gd, 'removed!']);\n",
              "            Plotly.purge(gd);\n",
              "            observer.disconnect();\n",
              "        }}\n",
              "}});\n",
              "\n",
              "// Listen for the removal of the full notebook cells\n",
              "var notebookContainer = gd.closest('#notebook-container');\n",
              "if (notebookContainer) {{\n",
              "    x.observe(notebookContainer, {childList: true});\n",
              "}}\n",
              "\n",
              "// Listen for the clearing of the current output cell\n",
              "var outputEl = gd.closest('.output');\n",
              "if (outputEl) {{\n",
              "    x.observe(outputEl, {childList: true});\n",
              "}}\n",
              "\n",
              "                        })                };                            </script>        </div>\n",
              "</body>\n",
              "</html>"
            ]
          },
          "metadata": {}
        }
      ]
    },
    {
      "cell_type": "markdown",
      "source": [
        "#### Boxplot da variável Pontuação de Audiência"
      ],
      "metadata": {
        "id": "p6XEPhiURmpv"
      }
    },
    {
      "cell_type": "code",
      "source": [
        "# Boxplot de Pontuação de Audiência\n",
        "px.box(base, y='Pontuaçao de audiencia', width=500, height=500)"
      ],
      "metadata": {
        "id": "vLS9meSDRt1P",
        "outputId": "ea479cd4-76d7-42c7-812b-c2b73243e275",
        "colab": {
          "base_uri": "https://localhost:8080/",
          "height": 517
        }
      },
      "execution_count": 16,
      "outputs": [
        {
          "output_type": "display_data",
          "data": {
            "text/html": [
              "<html>\n",
              "<head><meta charset=\"utf-8\" /></head>\n",
              "<body>\n",
              "    <div>            <script src=\"https://cdnjs.cloudflare.com/ajax/libs/mathjax/2.7.5/MathJax.js?config=TeX-AMS-MML_SVG\"></script><script type=\"text/javascript\">if (window.MathJax) {MathJax.Hub.Config({SVG: {font: \"STIX-Web\"}});}</script>                <script type=\"text/javascript\">window.PlotlyConfig = {MathJaxConfig: 'local'};</script>\n",
              "        <script src=\"https://cdn.plot.ly/plotly-2.8.3.min.js\"></script>                <div id=\"9a41bbb5-5b20-4f41-93c9-7047d15371af\" class=\"plotly-graph-div\" style=\"height:500px; width:500px;\"></div>            <script type=\"text/javascript\">                                    window.PLOTLYENV=window.PLOTLYENV || {};                                    if (document.getElementById(\"9a41bbb5-5b20-4f41-93c9-7047d15371af\")) {                    Plotly.newPlot(                        \"9a41bbb5-5b20-4f41-93c9-7047d15371af\",                        [{\"alignmentgroup\":\"True\",\"hovertemplate\":\"Pontua\\u00e7ao de audiencia=%{y}<extra></extra>\",\"legendgroup\":\"\",\"marker\":{\"color\":\"#636efa\"},\"name\":\"\",\"notched\":false,\"offsetgroup\":\"\",\"orientation\":\"v\",\"showlegend\":false,\"x0\":\" \",\"xaxis\":\"x\",\"y\":[90,45,76,30,55,14,5,40,11,15,100,54,84,7,6,35,4,8,57,15,110,63,92,13,13,9,12,3,2,36,120,72,8,99,6,18,13,16,14,4,130,81,14,15,105,23,20,16,2,15,140,90,22,9,21,110,27,23,18,1,150,99,30,16,27,115,4,26,29,1,160,108,38,11,22,32,119,4,28,2,170,117,19,29,44,37,123,7,30,3,180,126,27,36,43,128,48,10,32,1,190,135,44,34,49,5,132,51,12,33,200,144,13,51,40,54,4,135,14,2,210,13,152,58,19,59,4,43,137,1,220,161,21,66,143,24,47,4,60,15,230,170,29,7,72,148,51,27,6,61,240,179,37,14,6,5,152,75,53,62,10,249,13,186,12,42,156,78,16,54,20,258,21,193,6,5,46,15,158,79,30,15,266,28,11,198,19,49,2,80,40,24,36,273,17,203,6,22,51,1,34,45,48,13,279,22,207,25,160,2,44,54,56,20,28,284,211,163,27,1,54,63,28,7,62,216,288,31,2,2,17,72,62,35,222,67,292,34,4,3,10,26,80,69,41,227,71,295,6,35,20,89,34,48,75,300,231,9,73,1,30,98,8,41,54,80,4,4,233,301,40,107,12,15,47,5,58,83,235,5,50,14,115,19,53,63,239,18,85,6,24,59,123,26,6,58,67,242,8,86,34,9,131,66,12,31,62,70,244,87,19,43,139,73,18,36,66,3,246,71,29,52,147,80,9,5,4,21,2,37,39,156,13,16,58,85,8,24,39,3,166,48,21,65,22,13,89,3,41,25,176,30,11,55,71,5,26,16,91,42,186,39,13,78,6,60,4,14,18,27,196,48,14,11,19,83,22,17,62,247,10,205,56,18,20,5,87,22,24,88,20,214,13,63,26,23,28,25,93,88,30,223,8,20,69,31,97,31,25,248,40,17,231,27,75,5,252,28,90,43,50,26,239,34,6,10,4,78,254,1,60,9,247,33,10,11,14,37,256,79,19,69,8,254,39,15,18,259,13,80,29,78,16,261,6,44,19,21,261,14,39,87,24,13,267,5,48,3,21,15,49,96,32,12,19,272,4,6,50,22,10,58,40,103,10,24,276,15,8,262,20,67,48,110,6,29,280,13,17,9,30,15,56,117,73,5,33,283,15,18,40,24,64,124,79,10,37,286,17,19,50,33,8,71,130,84,14,40,288,1,43,59,16,91,7,135,18,74,42,289,53,68,24,98,13,140,22,3,76,43,63,77,8,31,9,18,102,143,78,23,18,72,85,16,24,148,82,34,25,103,10,27,80,92,154,87,20,27,27,35,20,36,88,99,160,92,24,30,29,290,10,29,44,95,105,165,96,33,31,25,20,38,52,102,111,170,35,99,35,26,30,47,110,59,117,175,103,38,28,36,40,56,118,124,65,108,179,3,38,291,50,65,8,125,130,8,4,3,67,109,60,74,16,132,136,9,12,6,69,110,70,83,24,139,15,141,10,15,2,111,10,79,91,31,6,7,145,142,17,11,20,88,14,98,37,5,11,148,19,143,30,97,22,7,104,10,41,14,21,149,40,16,105,111,16,46,26,17,151,1,50,25,113,118,22,51,30,20,153,2,60,34,121,125,28,56,157,23,4,31,70,43,129,132,34,162,60,26,6,1,53,79,8,136,6,5,136,165,36,61,18,62,87,7,142,10,10,139,167,37,28,71,95,14,148,15,14,142,169,38,81,104,36,21,154,20,18,172,144,62,91,113,44,28,160,25,176,21,2,145,101,122,8,51,166,33,180,28,23,3,111,131,8,15,172,185,55,31,2,34,10,120,16,138,6,20,176,3,187,3,20,129,24,10,12,143,180,6,2,188,30,138,32,17,18,7,147,3,182,7,40,41,146,14,24,22,151,6,190,183,50,50,22,153,30,27,4,154,8,191,60,59,30,160,36,9,31,157,10,192,70,68,168,37,42,14,161,3,33,193,80,9,176,75,43,8,18,45,2,162,19,89,16,183,81,48,49,5,20,1,29,98,191,23,87,6,9,51,51,21,108,38,199,94,15,28,55,54,8,22,118,47,8,101,205,20,58,58,2,23,10,127,8,15,53,106,209,23,2,194,20,17,135,7,8,5,19,56,211,107,30,16,25,7,141,13,4,22,58,212,40,25,15,32,10,146,17,8,24,213,50,34,23,39,16,22,150,11,2,1,60,43,31,23,45,155,26,5,13,2,70,52,39,30,161,50,9,29,2,1,80,61,9,46,8,35,165,12,52,30,90,18,69,53,41,13,169,15,32,146,10,99,26,76,6,5,57,44,171,14,20,108,34,12,82,11,61,17,46,147,30,117,20,41,88,16,21,150,63,47,40,29,49,124,94,21,67,153,23,48,50,38,57,7,130,99,157,70,23,1,60,16,46,64,136,104,4,160,72,24,10,69,24,53,70,141,8,107,162,73,20,9,77,31,59,75,145,11,109,163,19,29,85,66,37,16,79,148,111,164,29,38,93,7,72,21,41,151,81,1,39,16,46,79,27,98,85,44,3,152,49,25,54,34,85,103,7,155,87,1,59,34,8,41,60,90,4,158,9,88,18,68,42,11,47,95,92,12,3,61,10,27,76,49,17,52,4,98,2,13,20,36,84,56,10,7,21,55,105,99,30,45,64,91,6,15,11,108,101,22,40,15,53,71,21,96,15,104,57,4,50,24,29,78,102,58,4,18,59,5,34,59,12,85,35,107,62,21,61,6,44,68,43,92,18,112,4,65,2,62,10,53,76,50,98,23,116,5,6,1,20,62,84,105,56,28,9,4,118,1,30,71,8,112,90,6,8,59,30,119,40,80,16,119,12,95,4,3,10,60,50,89,11,7,22,124,4,15,97,5,60,98,8,14,17,9,26,3,126,16,70,17,8,105,9,14,18,20,28,127,80,26,16,7,111,5,4,12,16,128,90,35,24,14,117,10,8,15,18,129,100,44,22,31,123,15,12,18,20,130,110,9,52,29,37,128,19,15,20,1,19,119,60,44,35,133,5,22,17,21,29,128,68,51,139,40,21,24,24,1,39,137,9,75,57,144,4,43,23,25,10,48,145,16,6,62,8,147,2,76,20,15,56,152,22,7,12,79,149,63,30,24,64,159,13,27,16,152,81,64,40,33,167,20,33,69,20,155,66,1,50,42,175,27,39,74,24,158,2,2,60,51,183,34,45,5,78,5,160,1,70,60,191,41,11,50,5,8,80,161,10,79,68,12,197,16,4,53,43,1,20,88,12,19,74,202,20,56,2,2,30,97,27,19,208,79,24,5,58,3,40,106,35,215,11,24,83,3,26,59,50,224,19,113,41,88,28,6,2,27,60,28,232,120,6,7,10,91,43,29,70,15,36,7,238,15,124,10,2,92,10,79,23,7,13,41,242,127,4,16,20,88,15,30,6,18,246,130,6,42,30,15,96,22,36,251,134,21,8,43,40,24,104,43,28,13,255,24,2,44,50,9,8,111,30,7,17,46,257,1,60,18,16,8,117,35,4,20,2,258,70,27,8,23,14,7,121,7,37,21,80,17,35,7,20,28,11,124,9,22,90,16,25,42,26,33,15,12,126,23,26,99,33,33,48,20,37,129,2,1,36,108,41,40,54,25,41,132,4,2,46,117,49,7,60,45,45,135,27,24,56,126,15,7,55,65,49,48,26,136,66,9,134,14,21,31,59,52,2,66,76,18,142,7,20,26,4,3,4,1,86,16,26,149,26,31,8,6,6,2,96,25,157,33,32,13,10,34,8,3,106,34,165,20,38,38,14,11,33,4,116,174,42,27,44,43,18,3,35,1,10,125,182,34,48,5,4,47,2,4,20,134,13,11,188,39,6,51,49,1,10,9,21,27,7,139,192,14,41,52,20,18,15,28,33,144,45,195,16,53,30,24,26,35,39,200,49,147,18,1,40,35,32,42,206,44,151,4,51,1,50,44,40,49,212,9,5,154,53,45,60,9,52,47,55,14,216,8,156,36,70,18,8,59,61,52,18,219,10,37,28,79,16,66,67,57,4,21,39,220,38,88,24,73,63,72,4,223,41,1,98,47,32,11,79,5,5,66,74,224,108,56,40,12,17,84,9,44,226,22,118,21,64,47,23,89,48,12,24,227,10,127,29,71,29,52,4,51,91,1,20,136,8,78,35,9,5,32,2,52,30,145,16,7,84,14,8,8,37,53,40,16,153,23,6,89,18,11,4,54,50,25,14,160,6,28,93,7,20,55,60,34,22,167,12,5,32,3,57,8,70,43,30,19,173,5,9,6,34,58,10,79,51,37,11,24,177,61,8,10,20,88,59,44,17,5,28,180,63,9,30,9,67,95,50,10,21,11,182,29,19,39,75,102,56,26,14,185,31,12,29,48,83,33,108,61,18,34,187,64,39,57,91,68,24,38,112,37,189,65,49,66,99,75,30,42,116,68,40,190,59,75,107,82,36,5,46,3,70,117,69,84,115,10,88,41,9,49,2,71,79,93,18,7,121,5,16,91,11,50,89,102,15,25,127,10,95,53,73,17,99,111,23,134,31,15,99,56,2,74,109,167,119,141,29,104,35,77,58,3,177,118,149,126,110,82,62,32,2,1,187,127,8,7,155,7,130,4,112,83,197,136,16,14,10,5,11,86,157,113,207,23,8,143,22,5,9,20,12,1,11,216,16,30,11,27,147,15,132,10,21,25,19,223,36,152,31,18,134,11,31,28,33,230,158,41,22,89,33,114,41,37,41,7,236,163,26,44,91,115,10,50,15,44,47,168,30,239,93,45,20,59,23,51,53,5,34,171,241,94,30,68,28,60,29,10,55,3,173,1,40,77,11,8,140,15,64,176,31,56,50,86,19,15,21,69,180,59,33,141,96,59,8,26,100,74,19,183,36,22,106,68,16,33,106,79,4,3,38,184,116,25,12,75,6,8,110,3,35,80,126,9,20,32,81,8,10,113,10,1,136,18,9,27,38,33,12,13,83,114,146,27,17,45,33,38,16,86,15,1,156,26,35,40,51,21,90,18,3,115,166,35,29,42,46,120,55,21,5,91,176,44,37,53,6,47,124,58,2,1,186,15,52,44,59,5,128,50,4,2,196,24,13,59,50,5,132,62,6,3,206,33,21,66,56,10,136,65,8,4,216,9,29,73,6,13,37,41,2,57,10,225,17,20,35,11,6,76,138,38,20,234,8,24,26,143,15,38,2,39,30,9,242,15,20,29,147,29,4,16,40,18,250,22,26,5,151,32,31,17,50,9,26,257,28,31,9,154,34,32,60,18,34,264,34,46,35,37,156,10,70,43,26,271,40,42,39,49,12,33,80,52,279,33,46,47,43,3,14,34,90,288,60,40,52,48,51,3,16,157,10,99,296,7,66,56,56,51,42,4,10,19,107,303,13,61,70,54,58,1,20,28,21,310,113,66,5,73,2,55,30,9,36,317,119,26,70,52,7,1,19,39,325,43,125,75,5,10,28,3,29,48,333,132,11,48,79,31,12,4,39,57,8,340,138,84,52,14,6,158,49,17,65,347,144,5,88,9,160,1,59,14,25,8,353,70,148,3,90,161,69,23,8,10,359,95,152,73,10,26,10,9,77,30,14,364,77,13,154,10,20,18,85,37,20,82,14,367,15,155,30,27,93,44,26,87,371,17,17,156,40,36,101,51,32,376,4,20,163,157,50,45,12,108,6,381,167,23,53,158,60,54,20,13,114,5,385,170,25,159,30,69,62,12,120,18,389,173,27,160,40,21,70,76,6,125,22,30,391,174,50,15,29,37,28,81,74,128,89,392,60,24,37,44,134,79,85,395,91,29,10,46,68,86,140,29,48,177,397,86,20,55,8,75,146,91,52,180,399,30,30,64,16,82,58,151,184,94,401,1,40,25,72,8,6,63,188,154,84,402,10,49,33,15,69,77,10,191,156,403,20,58,77,22,39,15,81,194,93,404,30,86,66,46,21,27,85,197,95,405,96,9,54,204,27,90,34,69,29,406,10,105,212,61,15,95,410,98,2,30,10,19,113,219,104,66,99,413,4,13,20,122,112,26,19,224,4,37,68,5,30,131,8,7,118,31,23,40,6,225,40,17,15,38,231,136,417,121,70,157,27,49,23,45,237,5,421,73,159,137,37,32,57,12,51,242,425,76,161,100,47,41,20,64,248,430,55,79,163,1,57,50,28,71,254,435,59,82,165,1,67,37,58,7,77,259,439,3,3,2,237,76,15,44,64,82,4,3,441,260,247,85,12,22,70,8,48,3,2,442,257,94,20,29,14,75,7,5,50,443,267,103,37,27,20,80,11,263,445,6,277,112,8,44,33,85,24,14,265,446,287,121,16,92,30,49,37,268,16,1,131,296,24,7,98,5,53,33,3,269,141,305,15,31,104,10,7,3,271,54,151,314,11,38,110,20,14,10,273,38,161,323,19,21,116,43,24,13,2,274,171,332,27,9,122,26,278,16,45,1,181,36,340,16,128,283,30,19,3,46,191,45,8,347,22,133,287,6,21,31,18,200,53,354,28,138,291,9,23,32,28,9,208,60,34,359,4,141,2,292,19,37,216,67,8,39,8,362,143,293,29,46,224,46,73,13,12,365,2,144,39,55,232,20,52,7,77,15,367,1,65,48,240,14,26,57,81,4,369,16,75,249,56,33,20,62,85,7,2,370,259,84,8,63,8,38,66,23,87,8,10,17,267,91,14,96,42,66,25,67,20,26,275,98,20,5,100,69,44,26,30,35,283,105,11,25,48,29,102,9,40,44,291,7,111,53,106,12,2,10,50,16,299,51,117,58,16,13,4,294,60,25,307,58,123,63,20,3,15,295,70,34,315,65,9,25,19,66,297,124,10,79,323,41,6,5,13,68,27,20,20,14,14,330,47,84,17,71,22,28,30,23,22,337,53,89,21,74,24,29,40,346,30,30,95,58,25,32,299,67,356,49,38,37,101,37,29,302,60,68,10,365,45,45,43,54,33,104,304,69,20,374,8,50,310,38,49,48,106,70,30,383,8,15,316,55,42,52,50,71,40,17,391,7,21,57,54,319,44,72,50,16,25,398,27,324,59,3,46,1,60,25,8,405,330,64,4,28,29,47,70,17,33,11,411,335,68,50,74,30,10,79,25,40,17,416,339,71,52,75,20,88,33,47,23,5,420,342,73,1,10,29,41,95,53,28,5,345,7,421,39,19,103,48,34,58,9,424,9,346,49,28,111,55,40,63,13,12,426,347,59,64,119,35,6,68,44,16,349,427,69,73,8,126,12,40,72,352,2,428,18,78,81,19,132,5,44,75,354,429,15,27,89,85,138,24,358,47,77,430,10,24,35,96,91,143,28,361,2,431,20,33,43,103,97,148,6,31,363,432,30,42,51,110,103,153,4,9,33,364,40,51,59,117,159,9,107,12,366,34,50,60,67,124,165,371,111,12,14,35,60,69,75,131,6,170,375,114,2,13,16,69,77,138,81,7,174,378,2,115,26,9,77,84,13,143,85,177,380,3,36,18,85,20,90,148,7,88,179,381,46,27,93,27,96,153,92,10,181,382,56,36,8,103,159,32,97,95,384,182,66,45,16,110,165,100,36,100,386,1,76,9,53,23,171,115,4,103,388,101,86,18,12,60,177,120,27,391,105,1,96,27,8,19,66,182,124,4,393,1,106,36,16,26,72,9,5,127,184,102,116,45,24,16,11,31,131,75,186,103,126,54,194,23,30,398,135,14,107,32,136,63,202,405,29,5,139,17,109,33,146,9,210,412,11,68,143,112,19,30,156,18,218,419,17,5,147,115,70,20,166,27,226,426,23,10,151,118,72,21,10,175,8,34,29,15,430,229,2,152,20,184,16,41,35,20,434,5,154,230,30,193,24,7,47,439,234,23,7,36,40,202,32,14,6,52,443,237,25,8,50,211,22,13,38,5,447,55,239,1,60,220,21,29,6,43,9,450,3,240,70,15,29,227,15,48,33,453,2,4,80,24,37,234,21,53,37,456,4,5,34,30,88,241,43,5,8,56,2,6,44,250,38,95,11,48,6,459,58,9,54,259,46,102,54,11,463,14,60,241,269,63,54,470,17,107,64,57,16,242,279,9,71,477,60,22,111,67,244,1,19,288,485,118,77,5,5,63,35,23,10,14,126,7,11,82,67,60,2,1,20,28,8,21,294,16,39,488,9,1,30,37,16,301,27,6,492,42,18,10,40,46,24,308,33,11,496,45,20,11,56,49,32,315,39,16,500,23,47,1,66,58,40,322,506,5,43,19,3,24,76,67,8,47,6,10,4,325,508,44,86,17,18,74,10,52,4,3,510,7,96,26,8,25,10,9,78,55,5,1,18,105,34,32,15,5,5,513,2,326,28,114,23,41,11,37,9,5,2,514,38,123,31,48,17,10,518,12,4,38,133,47,8,38,524,53,21,13,6,13,10,142,16,54,44,529,4,56,8,22,20,25,150,11,50,59,533,59,10,14,30,34,158,18,56,19,537,13,61,60,40,43,166,63,24,5,541,3,328,20,50,52,174,70,9,546,9,27,330,21,60,9,8,7,180,57,550,73,11,28,19,17,68,14,6,555,184,14,75,58,29,26,76,21,12,560,188,17,77,59,10,38,84,33,18,26,564,31,190,18,20,27,46,91,39,31,568,193,20,78,30,36,54,38,45,573,95,196,22,79,46,39,581,61,44,100,49,25,198,80,54,55,47,588,67,105,29,83,200,50,64,64,8,595,6,52,33,70,85,201,10,17,72,71,601,11,56,36,87,106,20,26,19,78,78,606,60,109,38,88,30,35,27,85,84,611,64,112,90,39,40,44,35,92,90,616,94,42,2,331,50,53,43,99,96,621,98,45,4,332,60,105,61,106,49,626,49,7,334,99,70,114,8,633,112,66,4,52,51,335,10,79,16,121,639,9,70,115,54,1,20,88,24,7,127,5,4,642,11,2,30,97,32,14,133,10,8,645,13,3,40,106,22,15,16,37,137,6,2,646,50,115,94,29,22,20,10,40,139,647,60,124,102,36,28,25,14,43,141,648,10,69,110,148,130,41,652,17,27,29,10,19,77,117,136,46,152,655,2,18,20,86,27,124,142,7,50,658,154,1,30,95,35,8,130,147,11,53,2,659,40,104,43,15,136,7,151,14,661,54,50,113,15,50,142,156,19,664,16,55,60,9,121,22,56,669,146,159,21,56,19,69,30,128,6,674,60,149,161,22,10,28,77,135,36,5,10,677,2,1,20,37,85,142,6,7,40,4,679,11,30,46,93,13,148,12,8,43,7,680,40,55,101,20,154,17,12,46,9,681,50,64,109,53,160,17,685,12,22,18,211,59,72,116,59,165,689,15,19,23,221,68,80,123,65,5,693,168,17,24,10,230,76,113,86,173,697,126,67,6,20,239,84,120,179,91,10,700,128,68,30,248,92,17,126,184,95,131,70,701,40,257,100,24,132,189,99,134,72,702,50,9,265,709,138,77,103,137,191,25,60,18,273,716,144,82,195,106,139,26,28,69,8,7,279,721,199,147,84,107,146,37,8,76,14,12,4,724,281,200,166,17,45,83,20,17,8,727,202,282,176,26,53,27,89,22,12,730,204,283,186,35,61,34,95,5,26,15,732,284,196,44,13,68,738,39,99,29,17,285,206,53,21,75,744,5,33,102,41,18,216,30,61,82,11,749,37,105,43,1,226,9,38,68,88,754,15,108,2,2,19,235,46,22,74,93,758,3,110,3,29,244,30,53,764,98,78,6,112,4,39,253,38,60,770,103,82,9,6,1,49,262,46,67,776,108,86,12,8,113,59,9,270,783,73,51,112,89,10,2,69,18,8,277,789,78,55,115,91,68,79,17,26,7,93,794,281,118,70,56,27,88,15,33,99,799,285,73,120,57,37,97,23,40,105,804,289,76,2,121,47,32,105,112,46,809,293,79,4,1,57,41,113,119,34,814,297,49,81,2,67,50,121,41,125,819,301,5,83,50,77,59,129,48,825,130,4,304,39,84,10,86,67,136,831,53,8,3,41,131,20,95,75,143,14,8,835,56,43,132,30,104,83,150,20,13,839,3,58,44,40,113,91,157,19,844,24,61,5,45,50,122,99,851,163,24,9,27,63,305,132,59,96,858,105,5,167,27,11,28,142,68,104,12,864,110,171,14,30,28,10,151,76,111,18,5,868,113,173,15,20,160,84,12,24,116,872,116,17,174,30,169,92,19,30,121,876,20,118,175,179,39,27,73,98,881,125,33,120,176,189,48,35,80,104,886,129,36,122,177,199,138,43,55,110,85,890,3,124,37,209,147,51,62,9,115,894,88,2,125,219,60,8,154,68,120,6,897,11,89,229,17,68,161,74,125,4,900,8,12,239,77,25,11,167,79,12,128,902,1,249,86,33,18,173,6,83,15,904,129,259,95,181,25,39,909,19,9,2,84,269,104,33,188,915,44,23,12,4,85,279,113,8,40,194,920,4,47,14,5,175,288,121,7,6,13,924,50,196,41,185,297,129,13,13,9,54,927,15,42,195,306,21,136,19,14,58,930,44,16,205,315,29,143,25,19,934,61,198,1,215,324,37,150,940,30,23,4,63,199,225,333,8,157,43,945,4,33,6,64,235,99,16,340,10,162,47,948,8,34,109,244,8,23,16,345,4,165,49,949,254,118,31,15,22,9,349,3,167,950,264,127,17,29,37,354,19,6,169,1,274,136,25,361,35,11,5,3,39,1,284,145,33,368,17,40,7,8,3,170,294,154,41,375,23,45,11,11,5,171,304,163,383,48,29,16,15,48,2,6,314,172,391,55,6,5,20,32,952,16,16,323,399,179,6,10,4,955,22,7,26,332,407,11,185,11,26,958,12,33,36,341,415,18,191,963,15,29,35,17,173,45,349,422,197,968,22,3,17,30,183,49,53,356,428,973,42,200,5,23,193,58,364,7,59,433,46,976,293,6,303,202,66,14,370,981,50,436,61,7,313,211,22,73,6,375,985,53,438,62,323,220,8,29,79,11,379,988,440,54,333,229,16,18,35,84,383,991,56,441,343,238,26,23,6,996,88,386,37,57,353,247,8,33,29,11,1000,389,90,58,363,256,16,18,39,34,4,1003,391,91,373,9,264,23,10,5,22,42,1005,35,383,18,272,30,11,15,26,45,37,1006,28,392,280,18,36,20,49,29,39,1007,402,37,288,25,42,25,1011,32,51,1,412,46,296,32,48,1016,5,28,34,52,422,55,304,39,54,1021,9,31,36,53,10,431,63,311,45,1026,4,57,11,37,20,72,439,318,6,5,49,1029,6,58,30,15,80,446,11,323,53,1032,8,59,25,39,88,453,329,16,57,11,1034,60,35,462,96,336,45,21,61,1037,2,61,472,44,344,103,51,26,1041,64,4,62,482,353,111,51,1047,56,30,67,6,1,492,362,119,1054,57,11,34,59,69,2,10,9,127,499,368,1059,15,3,36,60,20,18,135,506,447,373,7,1062,17,37,30,27,455,14,512,140,377,1065,19,1,40,36,463,21,383,517,144,1068,2,20,50,472,44,28,389,522,1072,147,4,21,60,481,8,51,395,33,526,1075,149,1,18,69,489,8,57,400,1079,529,35,150,10,27,8,496,75,13,61,1082,152,401,20,36,16,82,502,18,65,155,1084,402,30,45,24,509,88,23,1088,68,157,403,55,39,32,516,1094,408,92,26,531,158,65,48,524,39,1100,413,96,534,160,27,75,57,532,7,45,1105,4,3,415,161,85,9,11,539,63,12,8,1108,47,416,95,89,17,18,18,13,543,66,1110,162,105,98,26,24,24,18,547,69,1112,1,115,107,34,31,30,23,551,4,2,1113,125,43,115,38,8,556,8,26,32,1114,135,52,123,563,44,1119,12,11,28,33,145,61,131,570,160,1124,16,47,13,1,155,70,139,167,1130,575,5,19,49,14,10,314,163,77,1136,172,143,22,577,6,20,323,85,170,1142,27,4,175,145,7,30,332,178,92,10,1147,11,3,29,578,40,341,186,99,16,1152,15,6,31,579,351,49,194,106,22,1157,583,9,33,16,361,203,57,182,112,1162,587,25,11,34,371,212,8,64,188,1167,116,590,2,12,10,17,379,219,70,193,1171,5,14,35,20,26,227,386,76,10,1175,3,195,15,30,12,34,234,392,81,4,1178,197,11,40,21,42,241,398,86,8,1181,199,12,31,49,249,405,48,13,1185,202,88,36,41,58,257,412,54,18,1189,205,90,37,51,67,8,7,6,210,261,415,1191,55,61,17,75,14,6,5,4,9,212,1192,71,13,13,13,23,19,79,12,1194,262,81,22,21,20,25,84,27,15,264,1195,91,30,30,27,31,89,1199,30,17,265,101,39,8,37,37,32,93,1202,32,266,18,9,40,44,43,37,166,58,123,91,111,48,26,16,46,98,47,47,1204,213,121,9,8,55,52,31,4,55,1206,99,131,18,16,62,58,9,35,3,1208,48,141,27,24,69,9,63,13,38,1210,49,151,10,32,34,75,14,17,1213,65,1,161,19,40,41,81,19,21,1216,67,2,171,28,48,7,47,5,85,5,1218,20,181,57,36,14,11,52,89,8,1220,21,191,66,22,43,58,16,12,58,91,1221,201,75,30,50,64,21,16,94,1223,68,211,84,38,57,70,26,20,97,2,1224,221,93,46,64,167,7,101,73,1226,25,231,102,54,174,70,12,105,28,1228,74,241,111,182,61,76,17,109,1231,30,75,251,120,190,68,82,22,1235,112,32,76,10,260,128,197,74,1240,62,85,2,1,20,269,136,204,8,79,1244,4,2,63,30,278,144,211,14,7,1248,82,6,7,40,287,152,218,1254,19,11,10,84,7,50,296,160,225,1260,16,23,13,113,8,60,305,168,232,1266,21,4,116,15,85,70,314,176,11,238,1271,120,24,87,16,80,323,184,7,1277,243,15,66,122,88,90,332,192,14,6,5,19,1280,124,244,100,341,22,199,12,10,23,127,246,1281,110,350,30,206,18,132,1285,13,248,24,120,359,214,37,24,137,17,1288,250,1,130,368,222,44,30,6,21,1291,139,1,140,377,230,51,7,11,34,24,1293,140,150,386,15,237,57,5,70,27,13,1294,160,14,394,22,243,32,17,60,1296,1,24,169,402,250,28,65,36,20,1298,2,34,178,410,257,71,7,1302,3,142,29,188,43,418,14,9,262,75,1305,2,143,10,197,17,425,49,19,266,1308,77,3,20,206,25,432,25,54,270,1311,2,78,30,9,102,213,438,30,4,73,4,55,40,18,110,220,10,443,34,7,57,1312,28,49,118,17,226,448,38,10,2,271,38,127,57,24,232,15,452,1315,40,272,48,136,32,64,238,457,19,1318,274,41,58,145,40,71,244,462,1322,22,276,1,68,154,48,78,250,467,4,1325,3,277,10,77,162,55,79,255,82,470,1327,5,20,86,170,89,8,60,9,473,257,1,30,95,178,67,95,6,261,476,10,1328,40,76,103,268,184,481,281,1331,97,4,50,85,276,7,109,286,485,1334,186,98,60,310,93,283,292,5,1338,488,111,187,320,69,15,12,99,288,296,1341,9,489,79,329,8,7,18,20,83,102,1343,297,89,338,16,14,16,23,24,300,104,490,99,25,346,21,29,21,304,27,106,491,35,108,354,28,35,26,4,307,1345,107,45,117,43,361,34,9,1349,310,109,27,10,9,31,52,123,48,365,37,2,1350,20,18,131,38,58,7,52,40,367,492,30,27,46,138,6,57,62,10,85,493,40,36,54,145,63,11,14,65,495,1,50,45,62,70,17,150,69,3,16,2,60,71,78,52,23,7,73,153,18,1351,70,87,79,59,13,28,77,156,1353,19,10,79,8,94,85,5,4,16,61,29,20,88,16,101,91,9,4,1356,18,30,155,29,24,95,153,106,95,12,1358,5,165,38,103,31,159,111,16,8,158,96,175,47,111,118,37,164,12,19,98,159,185,56,126,118,1364,103,168,40,21,13,195,65,134,125,1370,108,44,171,23,1,205,74,142,132,1376,113,4,4,173,45,215,83,150,7,1382,137,8,7,115,174,10,92,158,222,13,1387,12,3,139,160,20,9,100,10,228,163,16,16,162,1388,30,18,18,107,169,233,20,19,2,1,40,27,26,176,113,6,24,236,1390,3,50,36,34,183,12,118,28,1393,238,4,60,45,8,41,18,188,122,1396,30,239,70,9,16,52,24,46,192,1399,124,240,34,79,24,16,52,57,196,7,1401,125,44,88,24,31,58,62,11,199,1403,126,54,97,32,65,37,16,66,202,1405,127,64,106,73,44,208,37,20,1408,68,128,74,115,81,215,50,1413,24,3,39,129,84,166,123,88,221,1418,54,26,26,130,94,175,131,95,32,1423,225,3,56,122,10,103,183,39,128,136,99,22,1425,1,20,112,191,46,142,5,132,25,227,1,30,121,199,12,148,232,5,102,1427,4,40,130,207,19,154,237,4,8,1429,103,50,139,215,26,160,242,8,1432,105,9,60,148,223,7,32,165,12,245,1434,106,70,157,231,14,38,170,249,1437,108,13,380,79,165,7,44,236,4,17,40,1438,390,88,15,172,50,9,240,3,19,171,400,97,17,179,56,20,7,243,21,1,410,26,105,186,62,12,247,23,23,250,420,35,194,112,68,17,251,26,2,1,430,44,202,119,74,256,6,20,34,39,440,53,210,126,80,11,260,42,22,35,450,62,134,217,6,85,15,45,262,36,460,71,142,224,12,50,19,88,38,263,470,80,150,231,18,55,23,266,90,39,480,89,239,25,156,60,270,93,25,40,490,98,247,7,162,30,274,63,95,26,10,499,106,14,253,167,278,66,32,1439,20,9,507,113,20,258,171,281,1441,67,30,18,515,7,119,176,24,261,283,1442,40,27,15,522,125,181,28,264,285,263,25,49,35,529,131,186,268,31,265,286,35,58,8,42,535,136,272,268,188,287,45,67,16,49,541,141,4,275,270,189,55,208,75,23,55,546,145,7,272,276,65,217,8,82,552,277,59,3,25,8,287,74,225,15,88,557,7,1445,278,60,297,83,233,22,94,562,11,63,280,1,307,92,241,29,100,567,15,4,282,1446,317,101,249,36,106,572,1450,285,6,1,327,110,257,43,112,1455,576,4,287,7,337,119,273,50,118,1460,580,7,9,288,347,128,281,7,1466,123,54,3,582,10,357,9,8,7,6,133,285,1469,5,11,19,366,16,14,12,138,289,14,7,124,29,25,374,19,20,143,293,17,9,1,39,34,382,26,26,148,297,4,1471,1,49,43,8,389,32,31,4,3,3,149,18,58,51,396,38,8,4,34,6,1,61,67,26,403,10,43,12,9,36,63,153,70,34,74,409,17,14,46,38,1,163,79,42,81,415,19,21,49,40,2,173,88,423,49,87,24,25,52,4,41,183,97,431,56,30,92,29,55,6,64,193,106,439,37,62,97,33,76,66,56,203,115,447,44,68,27,37,100,18,77,213,124,35,454,50,73,41,103,20,78,10,222,99,7,130,459,54,44,75,36,20,108,230,14,136,464,58,47,77,37,30,117,238,143,20,52,468,80,60,38,40,126,246,150,474,65,56,23,40,81,50,135,254,157,480,70,60,84,42,1,60,144,262,7,486,162,4,4,62,71,70,153,270,14,492,5,8,165,6,63,80,162,8,277,6,188,18,495,167,64,90,171,16,284,12,193,499,170,8,65,100,180,24,291,199,17,503,11,172,9,110,189,299,31,23,204,176,506,67,10,120,198,307,38,512,209,27,179,69,11,130,207,26,314,518,184,31,212,71,39,140,216,34,321,524,76,188,34,214,1472,10,225,148,7,40,326,80,527,36,189,20,16,156,232,332,5,44,83,38,528,26,29,164,239,11,337,532,47,85,39,36,173,37,246,17,342,536,88,1474,48,46,9,181,44,252,5,4,3,344,18,19,55,189,51,258,53,9,6,2,5,29,64,197,7,57,263,13,56,4,6,273,9,37,204,70,12,61,16,58,1,19,46,281,211,76,17,65,19,3,7,29,55,219,288,82,22,69,22,5,8,39,228,63,295,124,87,26,25,7,70,49,133,236,70,301,92,29,10,28,1,59,52,141,243,76,306,96,4,31,11,62,68,149,250,312,81,100,7,33,12],\"y0\":\" \",\"yaxis\":\"y\",\"type\":\"box\"}],                        {\"template\":{\"data\":{\"bar\":[{\"error_x\":{\"color\":\"#2a3f5f\"},\"error_y\":{\"color\":\"#2a3f5f\"},\"marker\":{\"line\":{\"color\":\"#E5ECF6\",\"width\":0.5},\"pattern\":{\"fillmode\":\"overlay\",\"size\":10,\"solidity\":0.2}},\"type\":\"bar\"}],\"barpolar\":[{\"marker\":{\"line\":{\"color\":\"#E5ECF6\",\"width\":0.5},\"pattern\":{\"fillmode\":\"overlay\",\"size\":10,\"solidity\":0.2}},\"type\":\"barpolar\"}],\"carpet\":[{\"aaxis\":{\"endlinecolor\":\"#2a3f5f\",\"gridcolor\":\"white\",\"linecolor\":\"white\",\"minorgridcolor\":\"white\",\"startlinecolor\":\"#2a3f5f\"},\"baxis\":{\"endlinecolor\":\"#2a3f5f\",\"gridcolor\":\"white\",\"linecolor\":\"white\",\"minorgridcolor\":\"white\",\"startlinecolor\":\"#2a3f5f\"},\"type\":\"carpet\"}],\"choropleth\":[{\"colorbar\":{\"outlinewidth\":0,\"ticks\":\"\"},\"type\":\"choropleth\"}],\"contour\":[{\"colorbar\":{\"outlinewidth\":0,\"ticks\":\"\"},\"colorscale\":[[0.0,\"#0d0887\"],[0.1111111111111111,\"#46039f\"],[0.2222222222222222,\"#7201a8\"],[0.3333333333333333,\"#9c179e\"],[0.4444444444444444,\"#bd3786\"],[0.5555555555555556,\"#d8576b\"],[0.6666666666666666,\"#ed7953\"],[0.7777777777777778,\"#fb9f3a\"],[0.8888888888888888,\"#fdca26\"],[1.0,\"#f0f921\"]],\"type\":\"contour\"}],\"contourcarpet\":[{\"colorbar\":{\"outlinewidth\":0,\"ticks\":\"\"},\"type\":\"contourcarpet\"}],\"heatmap\":[{\"colorbar\":{\"outlinewidth\":0,\"ticks\":\"\"},\"colorscale\":[[0.0,\"#0d0887\"],[0.1111111111111111,\"#46039f\"],[0.2222222222222222,\"#7201a8\"],[0.3333333333333333,\"#9c179e\"],[0.4444444444444444,\"#bd3786\"],[0.5555555555555556,\"#d8576b\"],[0.6666666666666666,\"#ed7953\"],[0.7777777777777778,\"#fb9f3a\"],[0.8888888888888888,\"#fdca26\"],[1.0,\"#f0f921\"]],\"type\":\"heatmap\"}],\"heatmapgl\":[{\"colorbar\":{\"outlinewidth\":0,\"ticks\":\"\"},\"colorscale\":[[0.0,\"#0d0887\"],[0.1111111111111111,\"#46039f\"],[0.2222222222222222,\"#7201a8\"],[0.3333333333333333,\"#9c179e\"],[0.4444444444444444,\"#bd3786\"],[0.5555555555555556,\"#d8576b\"],[0.6666666666666666,\"#ed7953\"],[0.7777777777777778,\"#fb9f3a\"],[0.8888888888888888,\"#fdca26\"],[1.0,\"#f0f921\"]],\"type\":\"heatmapgl\"}],\"histogram\":[{\"marker\":{\"pattern\":{\"fillmode\":\"overlay\",\"size\":10,\"solidity\":0.2}},\"type\":\"histogram\"}],\"histogram2d\":[{\"colorbar\":{\"outlinewidth\":0,\"ticks\":\"\"},\"colorscale\":[[0.0,\"#0d0887\"],[0.1111111111111111,\"#46039f\"],[0.2222222222222222,\"#7201a8\"],[0.3333333333333333,\"#9c179e\"],[0.4444444444444444,\"#bd3786\"],[0.5555555555555556,\"#d8576b\"],[0.6666666666666666,\"#ed7953\"],[0.7777777777777778,\"#fb9f3a\"],[0.8888888888888888,\"#fdca26\"],[1.0,\"#f0f921\"]],\"type\":\"histogram2d\"}],\"histogram2dcontour\":[{\"colorbar\":{\"outlinewidth\":0,\"ticks\":\"\"},\"colorscale\":[[0.0,\"#0d0887\"],[0.1111111111111111,\"#46039f\"],[0.2222222222222222,\"#7201a8\"],[0.3333333333333333,\"#9c179e\"],[0.4444444444444444,\"#bd3786\"],[0.5555555555555556,\"#d8576b\"],[0.6666666666666666,\"#ed7953\"],[0.7777777777777778,\"#fb9f3a\"],[0.8888888888888888,\"#fdca26\"],[1.0,\"#f0f921\"]],\"type\":\"histogram2dcontour\"}],\"mesh3d\":[{\"colorbar\":{\"outlinewidth\":0,\"ticks\":\"\"},\"type\":\"mesh3d\"}],\"parcoords\":[{\"line\":{\"colorbar\":{\"outlinewidth\":0,\"ticks\":\"\"}},\"type\":\"parcoords\"}],\"pie\":[{\"automargin\":true,\"type\":\"pie\"}],\"scatter\":[{\"marker\":{\"colorbar\":{\"outlinewidth\":0,\"ticks\":\"\"}},\"type\":\"scatter\"}],\"scatter3d\":[{\"line\":{\"colorbar\":{\"outlinewidth\":0,\"ticks\":\"\"}},\"marker\":{\"colorbar\":{\"outlinewidth\":0,\"ticks\":\"\"}},\"type\":\"scatter3d\"}],\"scattercarpet\":[{\"marker\":{\"colorbar\":{\"outlinewidth\":0,\"ticks\":\"\"}},\"type\":\"scattercarpet\"}],\"scattergeo\":[{\"marker\":{\"colorbar\":{\"outlinewidth\":0,\"ticks\":\"\"}},\"type\":\"scattergeo\"}],\"scattergl\":[{\"marker\":{\"colorbar\":{\"outlinewidth\":0,\"ticks\":\"\"}},\"type\":\"scattergl\"}],\"scattermapbox\":[{\"marker\":{\"colorbar\":{\"outlinewidth\":0,\"ticks\":\"\"}},\"type\":\"scattermapbox\"}],\"scatterpolar\":[{\"marker\":{\"colorbar\":{\"outlinewidth\":0,\"ticks\":\"\"}},\"type\":\"scatterpolar\"}],\"scatterpolargl\":[{\"marker\":{\"colorbar\":{\"outlinewidth\":0,\"ticks\":\"\"}},\"type\":\"scatterpolargl\"}],\"scatterternary\":[{\"marker\":{\"colorbar\":{\"outlinewidth\":0,\"ticks\":\"\"}},\"type\":\"scatterternary\"}],\"surface\":[{\"colorbar\":{\"outlinewidth\":0,\"ticks\":\"\"},\"colorscale\":[[0.0,\"#0d0887\"],[0.1111111111111111,\"#46039f\"],[0.2222222222222222,\"#7201a8\"],[0.3333333333333333,\"#9c179e\"],[0.4444444444444444,\"#bd3786\"],[0.5555555555555556,\"#d8576b\"],[0.6666666666666666,\"#ed7953\"],[0.7777777777777778,\"#fb9f3a\"],[0.8888888888888888,\"#fdca26\"],[1.0,\"#f0f921\"]],\"type\":\"surface\"}],\"table\":[{\"cells\":{\"fill\":{\"color\":\"#EBF0F8\"},\"line\":{\"color\":\"white\"}},\"header\":{\"fill\":{\"color\":\"#C8D4E3\"},\"line\":{\"color\":\"white\"}},\"type\":\"table\"}]},\"layout\":{\"annotationdefaults\":{\"arrowcolor\":\"#2a3f5f\",\"arrowhead\":0,\"arrowwidth\":1},\"autotypenumbers\":\"strict\",\"coloraxis\":{\"colorbar\":{\"outlinewidth\":0,\"ticks\":\"\"}},\"colorscale\":{\"diverging\":[[0,\"#8e0152\"],[0.1,\"#c51b7d\"],[0.2,\"#de77ae\"],[0.3,\"#f1b6da\"],[0.4,\"#fde0ef\"],[0.5,\"#f7f7f7\"],[0.6,\"#e6f5d0\"],[0.7,\"#b8e186\"],[0.8,\"#7fbc41\"],[0.9,\"#4d9221\"],[1,\"#276419\"]],\"sequential\":[[0.0,\"#0d0887\"],[0.1111111111111111,\"#46039f\"],[0.2222222222222222,\"#7201a8\"],[0.3333333333333333,\"#9c179e\"],[0.4444444444444444,\"#bd3786\"],[0.5555555555555556,\"#d8576b\"],[0.6666666666666666,\"#ed7953\"],[0.7777777777777778,\"#fb9f3a\"],[0.8888888888888888,\"#fdca26\"],[1.0,\"#f0f921\"]],\"sequentialminus\":[[0.0,\"#0d0887\"],[0.1111111111111111,\"#46039f\"],[0.2222222222222222,\"#7201a8\"],[0.3333333333333333,\"#9c179e\"],[0.4444444444444444,\"#bd3786\"],[0.5555555555555556,\"#d8576b\"],[0.6666666666666666,\"#ed7953\"],[0.7777777777777778,\"#fb9f3a\"],[0.8888888888888888,\"#fdca26\"],[1.0,\"#f0f921\"]]},\"colorway\":[\"#636efa\",\"#EF553B\",\"#00cc96\",\"#ab63fa\",\"#FFA15A\",\"#19d3f3\",\"#FF6692\",\"#B6E880\",\"#FF97FF\",\"#FECB52\"],\"font\":{\"color\":\"#2a3f5f\"},\"geo\":{\"bgcolor\":\"white\",\"lakecolor\":\"white\",\"landcolor\":\"#E5ECF6\",\"showlakes\":true,\"showland\":true,\"subunitcolor\":\"white\"},\"hoverlabel\":{\"align\":\"left\"},\"hovermode\":\"closest\",\"mapbox\":{\"style\":\"light\"},\"paper_bgcolor\":\"white\",\"plot_bgcolor\":\"#E5ECF6\",\"polar\":{\"angularaxis\":{\"gridcolor\":\"white\",\"linecolor\":\"white\",\"ticks\":\"\"},\"bgcolor\":\"#E5ECF6\",\"radialaxis\":{\"gridcolor\":\"white\",\"linecolor\":\"white\",\"ticks\":\"\"}},\"scene\":{\"xaxis\":{\"backgroundcolor\":\"#E5ECF6\",\"gridcolor\":\"white\",\"gridwidth\":2,\"linecolor\":\"white\",\"showbackground\":true,\"ticks\":\"\",\"zerolinecolor\":\"white\"},\"yaxis\":{\"backgroundcolor\":\"#E5ECF6\",\"gridcolor\":\"white\",\"gridwidth\":2,\"linecolor\":\"white\",\"showbackground\":true,\"ticks\":\"\",\"zerolinecolor\":\"white\"},\"zaxis\":{\"backgroundcolor\":\"#E5ECF6\",\"gridcolor\":\"white\",\"gridwidth\":2,\"linecolor\":\"white\",\"showbackground\":true,\"ticks\":\"\",\"zerolinecolor\":\"white\"}},\"shapedefaults\":{\"line\":{\"color\":\"#2a3f5f\"}},\"ternary\":{\"aaxis\":{\"gridcolor\":\"white\",\"linecolor\":\"white\",\"ticks\":\"\"},\"baxis\":{\"gridcolor\":\"white\",\"linecolor\":\"white\",\"ticks\":\"\"},\"bgcolor\":\"#E5ECF6\",\"caxis\":{\"gridcolor\":\"white\",\"linecolor\":\"white\",\"ticks\":\"\"}},\"title\":{\"x\":0.05},\"xaxis\":{\"automargin\":true,\"gridcolor\":\"white\",\"linecolor\":\"white\",\"ticks\":\"\",\"title\":{\"standoff\":15},\"zerolinecolor\":\"white\",\"zerolinewidth\":2},\"yaxis\":{\"automargin\":true,\"gridcolor\":\"white\",\"linecolor\":\"white\",\"ticks\":\"\",\"title\":{\"standoff\":15},\"zerolinecolor\":\"white\",\"zerolinewidth\":2}}},\"xaxis\":{\"anchor\":\"y\",\"domain\":[0.0,1.0]},\"yaxis\":{\"anchor\":\"x\",\"domain\":[0.0,1.0],\"title\":{\"text\":\"Pontua\\u00e7ao de audiencia\"}},\"legend\":{\"tracegroupgap\":0},\"margin\":{\"t\":60},\"boxmode\":\"group\",\"height\":500,\"width\":500},                        {\"responsive\": true}                    ).then(function(){\n",
              "                            \n",
              "var gd = document.getElementById('9a41bbb5-5b20-4f41-93c9-7047d15371af');\n",
              "var x = new MutationObserver(function (mutations, observer) {{\n",
              "        var display = window.getComputedStyle(gd).display;\n",
              "        if (!display || display === 'none') {{\n",
              "            console.log([gd, 'removed!']);\n",
              "            Plotly.purge(gd);\n",
              "            observer.disconnect();\n",
              "        }}\n",
              "}});\n",
              "\n",
              "// Listen for the removal of the full notebook cells\n",
              "var notebookContainer = gd.closest('#notebook-container');\n",
              "if (notebookContainer) {{\n",
              "    x.observe(notebookContainer, {childList: true});\n",
              "}}\n",
              "\n",
              "// Listen for the clearing of the current output cell\n",
              "var outputEl = gd.closest('.output');\n",
              "if (outputEl) {{\n",
              "    x.observe(outputEl, {childList: true});\n",
              "}}\n",
              "\n",
              "                        })                };                            </script>        </div>\n",
              "</body>\n",
              "</html>"
            ]
          },
          "metadata": {}
        }
      ]
    },
    {
      "cell_type": "markdown",
      "source": [
        "#### Quais os títulos tem maiores médias de dias no top 10?"
      ],
      "metadata": {
        "id": "lN2A0HYDG_4u"
      }
    },
    {
      "cell_type": "code",
      "source": [
        "# Média de Dias no Top 10\n",
        "media_dias_top10 = base.groupby('Titulo').agg(\n",
        "                                              {'Dias no Top 10': np.mean}).sort_values(\n",
        "                                              by='Dias no Top 10', ascending=False).iloc[0:10,].reset_index()\n",
        "\n",
        "\n",
        "px.bar(media_dias_top10, x='Titulo', y='Dias no Top 10', color='Titulo', width=800, height=400)"
      ],
      "metadata": {
        "id": "qBlbRVZM33CG",
        "colab": {
          "base_uri": "https://localhost:8080/",
          "height": 417
        },
        "outputId": "38baeb43-9e72-485e-fb3e-0c8be2ffd370"
      },
      "execution_count": 17,
      "outputs": [
        {
          "output_type": "display_data",
          "data": {
            "text/html": [
              "<html>\n",
              "<head><meta charset=\"utf-8\" /></head>\n",
              "<body>\n",
              "    <div>            <script src=\"https://cdnjs.cloudflare.com/ajax/libs/mathjax/2.7.5/MathJax.js?config=TeX-AMS-MML_SVG\"></script><script type=\"text/javascript\">if (window.MathJax) {MathJax.Hub.Config({SVG: {font: \"STIX-Web\"}});}</script>                <script type=\"text/javascript\">window.PlotlyConfig = {MathJaxConfig: 'local'};</script>\n",
              "        <script src=\"https://cdn.plot.ly/plotly-2.8.3.min.js\"></script>                <div id=\"d1f1ff48-32d3-4060-90da-7a7aa83a48d2\" class=\"plotly-graph-div\" style=\"height:400px; width:800px;\"></div>            <script type=\"text/javascript\">                                    window.PLOTLYENV=window.PLOTLYENV || {};                                    if (document.getElementById(\"d1f1ff48-32d3-4060-90da-7a7aa83a48d2\")) {                    Plotly.newPlot(                        \"d1f1ff48-32d3-4060-90da-7a7aa83a48d2\",                        [{\"alignmentgroup\":\"True\",\"hovertemplate\":\"Titulo=%{x}<br>Dias no Top 10=%{y}<extra></extra>\",\"legendgroup\":\"Cocomelon\",\"marker\":{\"color\":\"#636efa\",\"pattern\":{\"shape\":\"\"}},\"name\":\"Cocomelon\",\"offsetgroup\":\"Cocomelon\",\"orientation\":\"v\",\"showlegend\":true,\"textposition\":\"auto\",\"x\":[\"Cocomelon\"],\"xaxis\":\"x\",\"y\":[214.5],\"yaxis\":\"y\",\"type\":\"bar\"},{\"alignmentgroup\":\"True\",\"hovertemplate\":\"Titulo=%{x}<br>Dias no Top 10=%{y}<extra></extra>\",\"legendgroup\":\"Ozark\",\"marker\":{\"color\":\"#EF553B\",\"pattern\":{\"shape\":\"\"}},\"name\":\"Ozark\",\"offsetgroup\":\"Ozark\",\"orientation\":\"v\",\"showlegend\":true,\"textposition\":\"auto\",\"x\":[\"Ozark\"],\"xaxis\":\"x\",\"y\":[47.0],\"yaxis\":\"y\",\"type\":\"bar\"},{\"alignmentgroup\":\"True\",\"hovertemplate\":\"Titulo=%{x}<br>Dias no Top 10=%{y}<extra></extra>\",\"legendgroup\":\"Tiger King\",\"marker\":{\"color\":\"#00cc96\",\"pattern\":{\"shape\":\"\"}},\"name\":\"Tiger King\",\"offsetgroup\":\"Tiger King\",\"orientation\":\"v\",\"showlegend\":true,\"textposition\":\"auto\",\"x\":[\"Tiger King\"],\"xaxis\":\"x\",\"y\":[41.0],\"yaxis\":\"y\",\"type\":\"bar\"},{\"alignmentgroup\":\"True\",\"hovertemplate\":\"Titulo=%{x}<br>Dias no Top 10=%{y}<extra></extra>\",\"legendgroup\":\"Cobra Kai\",\"marker\":{\"color\":\"#ab63fa\",\"pattern\":{\"shape\":\"\"}},\"name\":\"Cobra Kai\",\"offsetgroup\":\"Cobra Kai\",\"orientation\":\"v\",\"showlegend\":true,\"textposition\":\"auto\",\"x\":[\"Cobra Kai\"],\"xaxis\":\"x\",\"y\":[41.0],\"yaxis\":\"y\",\"type\":\"bar\"},{\"alignmentgroup\":\"True\",\"hovertemplate\":\"Titulo=%{x}<br>Dias no Top 10=%{y}<extra></extra>\",\"legendgroup\":\"Manifest\",\"marker\":{\"color\":\"#FFA15A\",\"pattern\":{\"shape\":\"\"}},\"name\":\"Manifest\",\"offsetgroup\":\"Manifest\",\"orientation\":\"v\",\"showlegend\":true,\"textposition\":\"auto\",\"x\":[\"Manifest\"],\"xaxis\":\"x\",\"y\":[40.5],\"yaxis\":\"y\",\"type\":\"bar\"},{\"alignmentgroup\":\"True\",\"hovertemplate\":\"Titulo=%{x}<br>Dias no Top 10=%{y}<extra></extra>\",\"legendgroup\":\"All American\",\"marker\":{\"color\":\"#19d3f3\",\"pattern\":{\"shape\":\"\"}},\"name\":\"All American\",\"offsetgroup\":\"All American\",\"orientation\":\"v\",\"showlegend\":true,\"textposition\":\"auto\",\"x\":[\"All American\"],\"xaxis\":\"x\",\"y\":[37.5],\"yaxis\":\"y\",\"type\":\"bar\"},{\"alignmentgroup\":\"True\",\"hovertemplate\":\"Titulo=%{x}<br>Dias no Top 10=%{y}<extra></extra>\",\"legendgroup\":\"The Queen\\u00e2\\u0080\\u0099s Gambit\",\"marker\":{\"color\":\"#FF6692\",\"pattern\":{\"shape\":\"\"}},\"name\":\"The Queen\\u00e2\\u0080\\u0099s Gambit\",\"offsetgroup\":\"The Queen\\u00e2\\u0080\\u0099s Gambit\",\"orientation\":\"v\",\"showlegend\":true,\"textposition\":\"auto\",\"x\":[\"The Queen\\u00e2\\u0080\\u0099s Gambit\"],\"xaxis\":\"x\",\"y\":[37.0],\"yaxis\":\"y\",\"type\":\"bar\"},{\"alignmentgroup\":\"True\",\"hovertemplate\":\"Titulo=%{x}<br>Dias no Top 10=%{y}<extra></extra>\",\"legendgroup\":\"Outer Banks\",\"marker\":{\"color\":\"#B6E880\",\"pattern\":{\"shape\":\"\"}},\"name\":\"Outer Banks\",\"offsetgroup\":\"Outer Banks\",\"orientation\":\"v\",\"showlegend\":true,\"textposition\":\"auto\",\"x\":[\"Outer Banks\"],\"xaxis\":\"x\",\"y\":[36.5],\"yaxis\":\"y\",\"type\":\"bar\"},{\"alignmentgroup\":\"True\",\"hovertemplate\":\"Titulo=%{x}<br>Dias no Top 10=%{y}<extra></extra>\",\"legendgroup\":\"Squid Game\",\"marker\":{\"color\":\"#FF97FF\",\"pattern\":{\"shape\":\"\"}},\"name\":\"Squid Game\",\"offsetgroup\":\"Squid Game\",\"orientation\":\"v\",\"showlegend\":true,\"textposition\":\"auto\",\"x\":[\"Squid Game\"],\"xaxis\":\"x\",\"y\":[33.5],\"yaxis\":\"y\",\"type\":\"bar\"},{\"alignmentgroup\":\"True\",\"hovertemplate\":\"Titulo=%{x}<br>Dias no Top 10=%{y}<extra></extra>\",\"legendgroup\":\"Bridgerton\",\"marker\":{\"color\":\"#FECB52\",\"pattern\":{\"shape\":\"\"}},\"name\":\"Bridgerton\",\"offsetgroup\":\"Bridgerton\",\"orientation\":\"v\",\"showlegend\":true,\"textposition\":\"auto\",\"x\":[\"Bridgerton\"],\"xaxis\":\"x\",\"y\":[29.5],\"yaxis\":\"y\",\"type\":\"bar\"}],                        {\"template\":{\"data\":{\"bar\":[{\"error_x\":{\"color\":\"#2a3f5f\"},\"error_y\":{\"color\":\"#2a3f5f\"},\"marker\":{\"line\":{\"color\":\"#E5ECF6\",\"width\":0.5},\"pattern\":{\"fillmode\":\"overlay\",\"size\":10,\"solidity\":0.2}},\"type\":\"bar\"}],\"barpolar\":[{\"marker\":{\"line\":{\"color\":\"#E5ECF6\",\"width\":0.5},\"pattern\":{\"fillmode\":\"overlay\",\"size\":10,\"solidity\":0.2}},\"type\":\"barpolar\"}],\"carpet\":[{\"aaxis\":{\"endlinecolor\":\"#2a3f5f\",\"gridcolor\":\"white\",\"linecolor\":\"white\",\"minorgridcolor\":\"white\",\"startlinecolor\":\"#2a3f5f\"},\"baxis\":{\"endlinecolor\":\"#2a3f5f\",\"gridcolor\":\"white\",\"linecolor\":\"white\",\"minorgridcolor\":\"white\",\"startlinecolor\":\"#2a3f5f\"},\"type\":\"carpet\"}],\"choropleth\":[{\"colorbar\":{\"outlinewidth\":0,\"ticks\":\"\"},\"type\":\"choropleth\"}],\"contour\":[{\"colorbar\":{\"outlinewidth\":0,\"ticks\":\"\"},\"colorscale\":[[0.0,\"#0d0887\"],[0.1111111111111111,\"#46039f\"],[0.2222222222222222,\"#7201a8\"],[0.3333333333333333,\"#9c179e\"],[0.4444444444444444,\"#bd3786\"],[0.5555555555555556,\"#d8576b\"],[0.6666666666666666,\"#ed7953\"],[0.7777777777777778,\"#fb9f3a\"],[0.8888888888888888,\"#fdca26\"],[1.0,\"#f0f921\"]],\"type\":\"contour\"}],\"contourcarpet\":[{\"colorbar\":{\"outlinewidth\":0,\"ticks\":\"\"},\"type\":\"contourcarpet\"}],\"heatmap\":[{\"colorbar\":{\"outlinewidth\":0,\"ticks\":\"\"},\"colorscale\":[[0.0,\"#0d0887\"],[0.1111111111111111,\"#46039f\"],[0.2222222222222222,\"#7201a8\"],[0.3333333333333333,\"#9c179e\"],[0.4444444444444444,\"#bd3786\"],[0.5555555555555556,\"#d8576b\"],[0.6666666666666666,\"#ed7953\"],[0.7777777777777778,\"#fb9f3a\"],[0.8888888888888888,\"#fdca26\"],[1.0,\"#f0f921\"]],\"type\":\"heatmap\"}],\"heatmapgl\":[{\"colorbar\":{\"outlinewidth\":0,\"ticks\":\"\"},\"colorscale\":[[0.0,\"#0d0887\"],[0.1111111111111111,\"#46039f\"],[0.2222222222222222,\"#7201a8\"],[0.3333333333333333,\"#9c179e\"],[0.4444444444444444,\"#bd3786\"],[0.5555555555555556,\"#d8576b\"],[0.6666666666666666,\"#ed7953\"],[0.7777777777777778,\"#fb9f3a\"],[0.8888888888888888,\"#fdca26\"],[1.0,\"#f0f921\"]],\"type\":\"heatmapgl\"}],\"histogram\":[{\"marker\":{\"pattern\":{\"fillmode\":\"overlay\",\"size\":10,\"solidity\":0.2}},\"type\":\"histogram\"}],\"histogram2d\":[{\"colorbar\":{\"outlinewidth\":0,\"ticks\":\"\"},\"colorscale\":[[0.0,\"#0d0887\"],[0.1111111111111111,\"#46039f\"],[0.2222222222222222,\"#7201a8\"],[0.3333333333333333,\"#9c179e\"],[0.4444444444444444,\"#bd3786\"],[0.5555555555555556,\"#d8576b\"],[0.6666666666666666,\"#ed7953\"],[0.7777777777777778,\"#fb9f3a\"],[0.8888888888888888,\"#fdca26\"],[1.0,\"#f0f921\"]],\"type\":\"histogram2d\"}],\"histogram2dcontour\":[{\"colorbar\":{\"outlinewidth\":0,\"ticks\":\"\"},\"colorscale\":[[0.0,\"#0d0887\"],[0.1111111111111111,\"#46039f\"],[0.2222222222222222,\"#7201a8\"],[0.3333333333333333,\"#9c179e\"],[0.4444444444444444,\"#bd3786\"],[0.5555555555555556,\"#d8576b\"],[0.6666666666666666,\"#ed7953\"],[0.7777777777777778,\"#fb9f3a\"],[0.8888888888888888,\"#fdca26\"],[1.0,\"#f0f921\"]],\"type\":\"histogram2dcontour\"}],\"mesh3d\":[{\"colorbar\":{\"outlinewidth\":0,\"ticks\":\"\"},\"type\":\"mesh3d\"}],\"parcoords\":[{\"line\":{\"colorbar\":{\"outlinewidth\":0,\"ticks\":\"\"}},\"type\":\"parcoords\"}],\"pie\":[{\"automargin\":true,\"type\":\"pie\"}],\"scatter\":[{\"marker\":{\"colorbar\":{\"outlinewidth\":0,\"ticks\":\"\"}},\"type\":\"scatter\"}],\"scatter3d\":[{\"line\":{\"colorbar\":{\"outlinewidth\":0,\"ticks\":\"\"}},\"marker\":{\"colorbar\":{\"outlinewidth\":0,\"ticks\":\"\"}},\"type\":\"scatter3d\"}],\"scattercarpet\":[{\"marker\":{\"colorbar\":{\"outlinewidth\":0,\"ticks\":\"\"}},\"type\":\"scattercarpet\"}],\"scattergeo\":[{\"marker\":{\"colorbar\":{\"outlinewidth\":0,\"ticks\":\"\"}},\"type\":\"scattergeo\"}],\"scattergl\":[{\"marker\":{\"colorbar\":{\"outlinewidth\":0,\"ticks\":\"\"}},\"type\":\"scattergl\"}],\"scattermapbox\":[{\"marker\":{\"colorbar\":{\"outlinewidth\":0,\"ticks\":\"\"}},\"type\":\"scattermapbox\"}],\"scatterpolar\":[{\"marker\":{\"colorbar\":{\"outlinewidth\":0,\"ticks\":\"\"}},\"type\":\"scatterpolar\"}],\"scatterpolargl\":[{\"marker\":{\"colorbar\":{\"outlinewidth\":0,\"ticks\":\"\"}},\"type\":\"scatterpolargl\"}],\"scatterternary\":[{\"marker\":{\"colorbar\":{\"outlinewidth\":0,\"ticks\":\"\"}},\"type\":\"scatterternary\"}],\"surface\":[{\"colorbar\":{\"outlinewidth\":0,\"ticks\":\"\"},\"colorscale\":[[0.0,\"#0d0887\"],[0.1111111111111111,\"#46039f\"],[0.2222222222222222,\"#7201a8\"],[0.3333333333333333,\"#9c179e\"],[0.4444444444444444,\"#bd3786\"],[0.5555555555555556,\"#d8576b\"],[0.6666666666666666,\"#ed7953\"],[0.7777777777777778,\"#fb9f3a\"],[0.8888888888888888,\"#fdca26\"],[1.0,\"#f0f921\"]],\"type\":\"surface\"}],\"table\":[{\"cells\":{\"fill\":{\"color\":\"#EBF0F8\"},\"line\":{\"color\":\"white\"}},\"header\":{\"fill\":{\"color\":\"#C8D4E3\"},\"line\":{\"color\":\"white\"}},\"type\":\"table\"}]},\"layout\":{\"annotationdefaults\":{\"arrowcolor\":\"#2a3f5f\",\"arrowhead\":0,\"arrowwidth\":1},\"autotypenumbers\":\"strict\",\"coloraxis\":{\"colorbar\":{\"outlinewidth\":0,\"ticks\":\"\"}},\"colorscale\":{\"diverging\":[[0,\"#8e0152\"],[0.1,\"#c51b7d\"],[0.2,\"#de77ae\"],[0.3,\"#f1b6da\"],[0.4,\"#fde0ef\"],[0.5,\"#f7f7f7\"],[0.6,\"#e6f5d0\"],[0.7,\"#b8e186\"],[0.8,\"#7fbc41\"],[0.9,\"#4d9221\"],[1,\"#276419\"]],\"sequential\":[[0.0,\"#0d0887\"],[0.1111111111111111,\"#46039f\"],[0.2222222222222222,\"#7201a8\"],[0.3333333333333333,\"#9c179e\"],[0.4444444444444444,\"#bd3786\"],[0.5555555555555556,\"#d8576b\"],[0.6666666666666666,\"#ed7953\"],[0.7777777777777778,\"#fb9f3a\"],[0.8888888888888888,\"#fdca26\"],[1.0,\"#f0f921\"]],\"sequentialminus\":[[0.0,\"#0d0887\"],[0.1111111111111111,\"#46039f\"],[0.2222222222222222,\"#7201a8\"],[0.3333333333333333,\"#9c179e\"],[0.4444444444444444,\"#bd3786\"],[0.5555555555555556,\"#d8576b\"],[0.6666666666666666,\"#ed7953\"],[0.7777777777777778,\"#fb9f3a\"],[0.8888888888888888,\"#fdca26\"],[1.0,\"#f0f921\"]]},\"colorway\":[\"#636efa\",\"#EF553B\",\"#00cc96\",\"#ab63fa\",\"#FFA15A\",\"#19d3f3\",\"#FF6692\",\"#B6E880\",\"#FF97FF\",\"#FECB52\"],\"font\":{\"color\":\"#2a3f5f\"},\"geo\":{\"bgcolor\":\"white\",\"lakecolor\":\"white\",\"landcolor\":\"#E5ECF6\",\"showlakes\":true,\"showland\":true,\"subunitcolor\":\"white\"},\"hoverlabel\":{\"align\":\"left\"},\"hovermode\":\"closest\",\"mapbox\":{\"style\":\"light\"},\"paper_bgcolor\":\"white\",\"plot_bgcolor\":\"#E5ECF6\",\"polar\":{\"angularaxis\":{\"gridcolor\":\"white\",\"linecolor\":\"white\",\"ticks\":\"\"},\"bgcolor\":\"#E5ECF6\",\"radialaxis\":{\"gridcolor\":\"white\",\"linecolor\":\"white\",\"ticks\":\"\"}},\"scene\":{\"xaxis\":{\"backgroundcolor\":\"#E5ECF6\",\"gridcolor\":\"white\",\"gridwidth\":2,\"linecolor\":\"white\",\"showbackground\":true,\"ticks\":\"\",\"zerolinecolor\":\"white\"},\"yaxis\":{\"backgroundcolor\":\"#E5ECF6\",\"gridcolor\":\"white\",\"gridwidth\":2,\"linecolor\":\"white\",\"showbackground\":true,\"ticks\":\"\",\"zerolinecolor\":\"white\"},\"zaxis\":{\"backgroundcolor\":\"#E5ECF6\",\"gridcolor\":\"white\",\"gridwidth\":2,\"linecolor\":\"white\",\"showbackground\":true,\"ticks\":\"\",\"zerolinecolor\":\"white\"}},\"shapedefaults\":{\"line\":{\"color\":\"#2a3f5f\"}},\"ternary\":{\"aaxis\":{\"gridcolor\":\"white\",\"linecolor\":\"white\",\"ticks\":\"\"},\"baxis\":{\"gridcolor\":\"white\",\"linecolor\":\"white\",\"ticks\":\"\"},\"bgcolor\":\"#E5ECF6\",\"caxis\":{\"gridcolor\":\"white\",\"linecolor\":\"white\",\"ticks\":\"\"}},\"title\":{\"x\":0.05},\"xaxis\":{\"automargin\":true,\"gridcolor\":\"white\",\"linecolor\":\"white\",\"ticks\":\"\",\"title\":{\"standoff\":15},\"zerolinecolor\":\"white\",\"zerolinewidth\":2},\"yaxis\":{\"automargin\":true,\"gridcolor\":\"white\",\"linecolor\":\"white\",\"ticks\":\"\",\"title\":{\"standoff\":15},\"zerolinecolor\":\"white\",\"zerolinewidth\":2}}},\"xaxis\":{\"anchor\":\"y\",\"domain\":[0.0,1.0],\"title\":{\"text\":\"Titulo\"},\"categoryorder\":\"array\",\"categoryarray\":[\"Cocomelon\",\"Ozark\",\"Tiger King\",\"Cobra Kai\",\"Manifest\",\"All American\",\"The Queen\\u00e2\\u0080\\u0099s Gambit\",\"Outer Banks\",\"Squid Game\",\"Bridgerton\"]},\"yaxis\":{\"anchor\":\"x\",\"domain\":[0.0,1.0],\"title\":{\"text\":\"Dias no Top 10\"}},\"legend\":{\"title\":{\"text\":\"Titulo\"},\"tracegroupgap\":0},\"margin\":{\"t\":60},\"barmode\":\"relative\",\"height\":400,\"width\":800},                        {\"responsive\": true}                    ).then(function(){\n",
              "                            \n",
              "var gd = document.getElementById('d1f1ff48-32d3-4060-90da-7a7aa83a48d2');\n",
              "var x = new MutationObserver(function (mutations, observer) {{\n",
              "        var display = window.getComputedStyle(gd).display;\n",
              "        if (!display || display === 'none') {{\n",
              "            console.log([gd, 'removed!']);\n",
              "            Plotly.purge(gd);\n",
              "            observer.disconnect();\n",
              "        }}\n",
              "}});\n",
              "\n",
              "// Listen for the removal of the full notebook cells\n",
              "var notebookContainer = gd.closest('#notebook-container');\n",
              "if (notebookContainer) {{\n",
              "    x.observe(notebookContainer, {childList: true});\n",
              "}}\n",
              "\n",
              "// Listen for the clearing of the current output cell\n",
              "var outputEl = gd.closest('.output');\n",
              "if (outputEl) {{\n",
              "    x.observe(outputEl, {childList: true});\n",
              "}}\n",
              "\n",
              "                        })                };                            </script>        </div>\n",
              "</body>\n",
              "</html>"
            ]
          },
          "metadata": {}
        }
      ]
    },
    {
      "cell_type": "markdown",
      "source": [
        "#### Quais os tipos de atrações?"
      ],
      "metadata": {
        "id": "ioiRATRcH4M7"
      }
    },
    {
      "cell_type": "code",
      "source": [
        "base['Tipo'].value_counts()"
      ],
      "metadata": {
        "colab": {
          "base_uri": "https://localhost:8080/"
        },
        "id": "4c4FhQmcCe0q",
        "outputId": "dd95101e-ae98-4b34-de1c-da541d482d43"
      },
      "execution_count": 18,
      "outputs": [
        {
          "output_type": "execute_result",
          "data": {
            "text/plain": [
              "TV Show            4446\n",
              "Movie              2611\n",
              "Stand-Up Comedy      41\n",
              "Concert/Perf…         2\n",
              "Name: Tipo, dtype: int64"
            ]
          },
          "metadata": {},
          "execution_count": 18
        }
      ]
    },
    {
      "cell_type": "markdown",
      "source": [
        "#### Qual a quantidade de atrações são exclusivos da Netflix?"
      ],
      "metadata": {
        "id": "t5Pt9-5qIZUl"
      }
    },
    {
      "cell_type": "code",
      "source": [
        "# Contando Quantos Títulos São exclusivos da Netflix\n",
        "base['Exclusivo Netflix'].value_counts()\n",
        "\n",
        "# Plotando exclusivos netflix\n",
        "sns.countplot(base['Exclusivo Netflix']);"
      ],
      "metadata": {
        "colab": {
          "base_uri": "https://localhost:8080/",
          "height": 368
        },
        "id": "-GRQRpNrMArq",
        "outputId": "64fb55da-7a24-456a-fd0e-3fabd179dc74"
      },
      "execution_count": 19,
      "outputs": [
        {
          "output_type": "stream",
          "name": "stderr",
          "text": [
            "/usr/local/lib/python3.7/dist-packages/seaborn/_decorators.py:43: FutureWarning:\n",
            "\n",
            "Pass the following variable as a keyword arg: x. From version 0.12, the only valid positional argument will be `data`, and passing other arguments without an explicit keyword will result in an error or misinterpretation.\n",
            "\n"
          ]
        },
        {
          "output_type": "display_data",
          "data": {
            "text/plain": [
              "<Figure size 432x288 with 1 Axes>"
            ],
            "image/png": "[encoded data removed]"
          },
          "metadata": {
            "needs_background": "light"
          }
        }
      ]
    },
    {
      "cell_type": "markdown",
      "source": [
        "#### Os títulos exclusivos Netflix tem em média mais dias no top 10?"
      ],
      "metadata": {
        "id": "FDZ65aVsJEsy"
      }
    },
    {
      "cell_type": "code",
      "source": [
        "# Média de dias no top 10 que saõ exclusivos netflix\n",
        "media_top10_exclusivo = base.groupby('Exclusivo Netflix').agg(\n",
        "                                                              {'Dias no Top 10' : np.mean}).reset_index()\n",
        "media_top10_exclusivo.columns = ['Exclusivo Netflix', 'Média de dias no top 10']\n",
        "\n",
        "px.bar(media_top10_exclusivo, x='Exclusivo Netflix', y='Média de dias no top 10', \n",
        "                                                      color='Exclusivo Netflix', width=800, height=400)"
      ],
      "metadata": {
        "id": "WSeinC3dNQIw",
        "colab": {
          "base_uri": "https://localhost:8080/",
          "height": 417
        },
        "outputId": "32f36bb0-eaaa-4eaf-9e29-686485a74bac"
      },
      "execution_count": 20,
      "outputs": [
        {
          "output_type": "display_data",
          "data": {
            "text/html": [
              "<html>\n",
              "<head><meta charset=\"utf-8\" /></head>\n",
              "<body>\n",
              "    <div>            <script src=\"https://cdnjs.cloudflare.com/ajax/libs/mathjax/2.7.5/MathJax.js?config=TeX-AMS-MML_SVG\"></script><script type=\"text/javascript\">if (window.MathJax) {MathJax.Hub.Config({SVG: {font: \"STIX-Web\"}});}</script>                <script type=\"text/javascript\">window.PlotlyConfig = {MathJaxConfig: 'local'};</script>\n",
              "        <script src=\"https://cdn.plot.ly/plotly-2.8.3.min.js\"></script>                <div id=\"fa7243c0-28fb-489b-ab91-b75e846d25db\" class=\"plotly-graph-div\" style=\"height:400px; width:800px;\"></div>            <script type=\"text/javascript\">                                    window.PLOTLYENV=window.PLOTLYENV || {};                                    if (document.getElementById(\"fa7243c0-28fb-489b-ab91-b75e846d25db\")) {                    Plotly.newPlot(                        \"fa7243c0-28fb-489b-ab91-b75e846d25db\",                        [{\"alignmentgroup\":\"True\",\"hovertemplate\":\"Exclusivo Netflix=%{x}<br>M\\u00e9dia de dias no top 10=%{y}<extra></extra>\",\"legendgroup\":\"Not\",\"marker\":{\"color\":\"#636efa\",\"pattern\":{\"shape\":\"\"}},\"name\":\"Not\",\"offsetgroup\":\"Not\",\"orientation\":\"v\",\"showlegend\":true,\"textposition\":\"auto\",\"x\":[\"Not\"],\"xaxis\":\"x\",\"y\":[46.25909636145542],\"yaxis\":\"y\",\"type\":\"bar\"},{\"alignmentgroup\":\"True\",\"hovertemplate\":\"Exclusivo Netflix=%{x}<br>M\\u00e9dia de dias no top 10=%{y}<extra></extra>\",\"legendgroup\":\"Yes\",\"marker\":{\"color\":\"#EF553B\",\"pattern\":{\"shape\":\"\"}},\"name\":\"Yes\",\"offsetgroup\":\"Yes\",\"orientation\":\"v\",\"showlegend\":true,\"textposition\":\"auto\",\"x\":[\"Yes\"],\"xaxis\":\"x\",\"y\":[12.08610567514677],\"yaxis\":\"y\",\"type\":\"bar\"}],                        {\"template\":{\"data\":{\"bar\":[{\"error_x\":{\"color\":\"#2a3f5f\"},\"error_y\":{\"color\":\"#2a3f5f\"},\"marker\":{\"line\":{\"color\":\"#E5ECF6\",\"width\":0.5},\"pattern\":{\"fillmode\":\"overlay\",\"size\":10,\"solidity\":0.2}},\"type\":\"bar\"}],\"barpolar\":[{\"marker\":{\"line\":{\"color\":\"#E5ECF6\",\"width\":0.5},\"pattern\":{\"fillmode\":\"overlay\",\"size\":10,\"solidity\":0.2}},\"type\":\"barpolar\"}],\"carpet\":[{\"aaxis\":{\"endlinecolor\":\"#2a3f5f\",\"gridcolor\":\"white\",\"linecolor\":\"white\",\"minorgridcolor\":\"white\",\"startlinecolor\":\"#2a3f5f\"},\"baxis\":{\"endlinecolor\":\"#2a3f5f\",\"gridcolor\":\"white\",\"linecolor\":\"white\",\"minorgridcolor\":\"white\",\"startlinecolor\":\"#2a3f5f\"},\"type\":\"carpet\"}],\"choropleth\":[{\"colorbar\":{\"outlinewidth\":0,\"ticks\":\"\"},\"type\":\"choropleth\"}],\"contour\":[{\"colorbar\":{\"outlinewidth\":0,\"ticks\":\"\"},\"colorscale\":[[0.0,\"#0d0887\"],[0.1111111111111111,\"#46039f\"],[0.2222222222222222,\"#7201a8\"],[0.3333333333333333,\"#9c179e\"],[0.4444444444444444,\"#bd3786\"],[0.5555555555555556,\"#d8576b\"],[0.6666666666666666,\"#ed7953\"],[0.7777777777777778,\"#fb9f3a\"],[0.8888888888888888,\"#fdca26\"],[1.0,\"#f0f921\"]],\"type\":\"contour\"}],\"contourcarpet\":[{\"colorbar\":{\"outlinewidth\":0,\"ticks\":\"\"},\"type\":\"contourcarpet\"}],\"heatmap\":[{\"colorbar\":{\"outlinewidth\":0,\"ticks\":\"\"},\"colorscale\":[[0.0,\"#0d0887\"],[0.1111111111111111,\"#46039f\"],[0.2222222222222222,\"#7201a8\"],[0.3333333333333333,\"#9c179e\"],[0.4444444444444444,\"#bd3786\"],[0.5555555555555556,\"#d8576b\"],[0.6666666666666666,\"#ed7953\"],[0.7777777777777778,\"#fb9f3a\"],[0.8888888888888888,\"#fdca26\"],[1.0,\"#f0f921\"]],\"type\":\"heatmap\"}],\"heatmapgl\":[{\"colorbar\":{\"outlinewidth\":0,\"ticks\":\"\"},\"colorscale\":[[0.0,\"#0d0887\"],[0.1111111111111111,\"#46039f\"],[0.2222222222222222,\"#7201a8\"],[0.3333333333333333,\"#9c179e\"],[0.4444444444444444,\"#bd3786\"],[0.5555555555555556,\"#d8576b\"],[0.6666666666666666,\"#ed7953\"],[0.7777777777777778,\"#fb9f3a\"],[0.8888888888888888,\"#fdca26\"],[1.0,\"#f0f921\"]],\"type\":\"heatmapgl\"}],\"histogram\":[{\"marker\":{\"pattern\":{\"fillmode\":\"overlay\",\"size\":10,\"solidity\":0.2}},\"type\":\"histogram\"}],\"histogram2d\":[{\"colorbar\":{\"outlinewidth\":0,\"ticks\":\"\"},\"colorscale\":[[0.0,\"#0d0887\"],[0.1111111111111111,\"#46039f\"],[0.2222222222222222,\"#7201a8\"],[0.3333333333333333,\"#9c179e\"],[0.4444444444444444,\"#bd3786\"],[0.5555555555555556,\"#d8576b\"],[0.6666666666666666,\"#ed7953\"],[0.7777777777777778,\"#fb9f3a\"],[0.8888888888888888,\"#fdca26\"],[1.0,\"#f0f921\"]],\"type\":\"histogram2d\"}],\"histogram2dcontour\":[{\"colorbar\":{\"outlinewidth\":0,\"ticks\":\"\"},\"colorscale\":[[0.0,\"#0d0887\"],[0.1111111111111111,\"#46039f\"],[0.2222222222222222,\"#7201a8\"],[0.3333333333333333,\"#9c179e\"],[0.4444444444444444,\"#bd3786\"],[0.5555555555555556,\"#d8576b\"],[0.6666666666666666,\"#ed7953\"],[0.7777777777777778,\"#fb9f3a\"],[0.8888888888888888,\"#fdca26\"],[1.0,\"#f0f921\"]],\"type\":\"histogram2dcontour\"}],\"mesh3d\":[{\"colorbar\":{\"outlinewidth\":0,\"ticks\":\"\"},\"type\":\"mesh3d\"}],\"parcoords\":[{\"line\":{\"colorbar\":{\"outlinewidth\":0,\"ticks\":\"\"}},\"type\":\"parcoords\"}],\"pie\":[{\"automargin\":true,\"type\":\"pie\"}],\"scatter\":[{\"marker\":{\"colorbar\":{\"outlinewidth\":0,\"ticks\":\"\"}},\"type\":\"scatter\"}],\"scatter3d\":[{\"line\":{\"colorbar\":{\"outlinewidth\":0,\"ticks\":\"\"}},\"marker\":{\"colorbar\":{\"outlinewidth\":0,\"ticks\":\"\"}},\"type\":\"scatter3d\"}],\"scattercarpet\":[{\"marker\":{\"colorbar\":{\"outlinewidth\":0,\"ticks\":\"\"}},\"type\":\"scattercarpet\"}],\"scattergeo\":[{\"marker\":{\"colorbar\":{\"outlinewidth\":0,\"ticks\":\"\"}},\"type\":\"scattergeo\"}],\"scattergl\":[{\"marker\":{\"colorbar\":{\"outlinewidth\":0,\"ticks\":\"\"}},\"type\":\"scattergl\"}],\"scattermapbox\":[{\"marker\":{\"colorbar\":{\"outlinewidth\":0,\"ticks\":\"\"}},\"type\":\"scattermapbox\"}],\"scatterpolar\":[{\"marker\":{\"colorbar\":{\"outlinewidth\":0,\"ticks\":\"\"}},\"type\":\"scatterpolar\"}],\"scatterpolargl\":[{\"marker\":{\"colorbar\":{\"outlinewidth\":0,\"ticks\":\"\"}},\"type\":\"scatterpolargl\"}],\"scatterternary\":[{\"marker\":{\"colorbar\":{\"outlinewidth\":0,\"ticks\":\"\"}},\"type\":\"scatterternary\"}],\"surface\":[{\"colorbar\":{\"outlinewidth\":0,\"ticks\":\"\"},\"colorscale\":[[0.0,\"#0d0887\"],[0.1111111111111111,\"#46039f\"],[0.2222222222222222,\"#7201a8\"],[0.3333333333333333,\"#9c179e\"],[0.4444444444444444,\"#bd3786\"],[0.5555555555555556,\"#d8576b\"],[0.6666666666666666,\"#ed7953\"],[0.7777777777777778,\"#fb9f3a\"],[0.8888888888888888,\"#fdca26\"],[1.0,\"#f0f921\"]],\"type\":\"surface\"}],\"table\":[{\"cells\":{\"fill\":{\"color\":\"#EBF0F8\"},\"line\":{\"color\":\"white\"}},\"header\":{\"fill\":{\"color\":\"#C8D4E3\"},\"line\":{\"color\":\"white\"}},\"type\":\"table\"}]},\"layout\":{\"annotationdefaults\":{\"arrowcolor\":\"#2a3f5f\",\"arrowhead\":0,\"arrowwidth\":1},\"autotypenumbers\":\"strict\",\"coloraxis\":{\"colorbar\":{\"outlinewidth\":0,\"ticks\":\"\"}},\"colorscale\":{\"diverging\":[[0,\"#8e0152\"],[0.1,\"#c51b7d\"],[0.2,\"#de77ae\"],[0.3,\"#f1b6da\"],[0.4,\"#fde0ef\"],[0.5,\"#f7f7f7\"],[0.6,\"#e6f5d0\"],[0.7,\"#b8e186\"],[0.8,\"#7fbc41\"],[0.9,\"#4d9221\"],[1,\"#276419\"]],\"sequential\":[[0.0,\"#0d0887\"],[0.1111111111111111,\"#46039f\"],[0.2222222222222222,\"#7201a8\"],[0.3333333333333333,\"#9c179e\"],[0.4444444444444444,\"#bd3786\"],[0.5555555555555556,\"#d8576b\"],[0.6666666666666666,\"#ed7953\"],[0.7777777777777778,\"#fb9f3a\"],[0.8888888888888888,\"#fdca26\"],[1.0,\"#f0f921\"]],\"sequentialminus\":[[0.0,\"#0d0887\"],[0.1111111111111111,\"#46039f\"],[0.2222222222222222,\"#7201a8\"],[0.3333333333333333,\"#9c179e\"],[0.4444444444444444,\"#bd3786\"],[0.5555555555555556,\"#d8576b\"],[0.6666666666666666,\"#ed7953\"],[0.7777777777777778,\"#fb9f3a\"],[0.8888888888888888,\"#fdca26\"],[1.0,\"#f0f921\"]]},\"colorway\":[\"#636efa\",\"#EF553B\",\"#00cc96\",\"#ab63fa\",\"#FFA15A\",\"#19d3f3\",\"#FF6692\",\"#B6E880\",\"#FF97FF\",\"#FECB52\"],\"font\":{\"color\":\"#2a3f5f\"},\"geo\":{\"bgcolor\":\"white\",\"lakecolor\":\"white\",\"landcolor\":\"#E5ECF6\",\"showlakes\":true,\"showland\":true,\"subunitcolor\":\"white\"},\"hoverlabel\":{\"align\":\"left\"},\"hovermode\":\"closest\",\"mapbox\":{\"style\":\"light\"},\"paper_bgcolor\":\"white\",\"plot_bgcolor\":\"#E5ECF6\",\"polar\":{\"angularaxis\":{\"gridcolor\":\"white\",\"linecolor\":\"white\",\"ticks\":\"\"},\"bgcolor\":\"#E5ECF6\",\"radialaxis\":{\"gridcolor\":\"white\",\"linecolor\":\"white\",\"ticks\":\"\"}},\"scene\":{\"xaxis\":{\"backgroundcolor\":\"#E5ECF6\",\"gridcolor\":\"white\",\"gridwidth\":2,\"linecolor\":\"white\",\"showbackground\":true,\"ticks\":\"\",\"zerolinecolor\":\"white\"},\"yaxis\":{\"backgroundcolor\":\"#E5ECF6\",\"gridcolor\":\"white\",\"gridwidth\":2,\"linecolor\":\"white\",\"showbackground\":true,\"ticks\":\"\",\"zerolinecolor\":\"white\"},\"zaxis\":{\"backgroundcolor\":\"#E5ECF6\",\"gridcolor\":\"white\",\"gridwidth\":2,\"linecolor\":\"white\",\"showbackground\":true,\"ticks\":\"\",\"zerolinecolor\":\"white\"}},\"shapedefaults\":{\"line\":{\"color\":\"#2a3f5f\"}},\"ternary\":{\"aaxis\":{\"gridcolor\":\"white\",\"linecolor\":\"white\",\"ticks\":\"\"},\"baxis\":{\"gridcolor\":\"white\",\"linecolor\":\"white\",\"ticks\":\"\"},\"bgcolor\":\"#E5ECF6\",\"caxis\":{\"gridcolor\":\"white\",\"linecolor\":\"white\",\"ticks\":\"\"}},\"title\":{\"x\":0.05},\"xaxis\":{\"automargin\":true,\"gridcolor\":\"white\",\"linecolor\":\"white\",\"ticks\":\"\",\"title\":{\"standoff\":15},\"zerolinecolor\":\"white\",\"zerolinewidth\":2},\"yaxis\":{\"automargin\":true,\"gridcolor\":\"white\",\"linecolor\":\"white\",\"ticks\":\"\",\"title\":{\"standoff\":15},\"zerolinecolor\":\"white\",\"zerolinewidth\":2}}},\"xaxis\":{\"anchor\":\"y\",\"domain\":[0.0,1.0],\"title\":{\"text\":\"Exclusivo Netflix\"},\"categoryorder\":\"array\",\"categoryarray\":[\"Not\",\"Yes\"]},\"yaxis\":{\"anchor\":\"x\",\"domain\":[0.0,1.0],\"title\":{\"text\":\"M\\u00e9dia de dias no top 10\"}},\"legend\":{\"title\":{\"text\":\"Exclusivo Netflix\"},\"tracegroupgap\":0},\"margin\":{\"t\":60},\"barmode\":\"relative\",\"height\":400,\"width\":800},                        {\"responsive\": true}                    ).then(function(){\n",
              "                            \n",
              "var gd = document.getElementById('fa7243c0-28fb-489b-ab91-b75e846d25db');\n",
              "var x = new MutationObserver(function (mutations, observer) {{\n",
              "        var display = window.getComputedStyle(gd).display;\n",
              "        if (!display || display === 'none') {{\n",
              "            console.log([gd, 'removed!']);\n",
              "            Plotly.purge(gd);\n",
              "            observer.disconnect();\n",
              "        }}\n",
              "}});\n",
              "\n",
              "// Listen for the removal of the full notebook cells\n",
              "var notebookContainer = gd.closest('#notebook-container');\n",
              "if (notebookContainer) {{\n",
              "    x.observe(notebookContainer, {childList: true});\n",
              "}}\n",
              "\n",
              "// Listen for the clearing of the current output cell\n",
              "var outputEl = gd.closest('.output');\n",
              "if (outputEl) {{\n",
              "    x.observe(outputEl, {childList: true});\n",
              "}}\n",
              "\n",
              "                        })                };                            </script>        </div>\n",
              "</body>\n",
              "</html>"
            ]
          },
          "metadata": {}
        }
      ]
    },
    {
      "cell_type": "markdown",
      "source": [
        "#### Quais as médias de audiência para títilos que são ou não exclusivos Netflix?"
      ],
      "metadata": {
        "id": "qnEKgwvDKTMg"
      }
    },
    {
      "cell_type": "code",
      "source": [
        "# Média de Audiência Para Títulos Exclusivos Netflix\n",
        "audiencia_media_exclisivo = base.groupby('Exclusivo Netflix').agg({'Pontuaçao de audiencia':np.mean}).reset_index()\n",
        "\n",
        "# Plotando Média de Audiência Para Titulos Que são ou não exclusivos netFlix\n",
        "px.bar(audiencia_media_exclisivo, x='Exclusivo Netflix', y='Pontuaçao de audiencia', \n",
        "                                                         color='Exclusivo Netflix', width=800, height=400)"
      ],
      "metadata": {
        "id": "MVUaFFNHRYye",
        "colab": {
          "base_uri": "https://localhost:8080/",
          "height": 417
        },
        "outputId": "de19b89b-30f0-46ee-c323-6b39ce6ddd00"
      },
      "execution_count": 21,
      "outputs": [
        {
          "output_type": "display_data",
          "data": {
            "text/html": [
              "<html>\n",
              "<head><meta charset=\"utf-8\" /></head>\n",
              "<body>\n",
              "    <div>            <script src=\"https://cdnjs.cloudflare.com/ajax/libs/mathjax/2.7.5/MathJax.js?config=TeX-AMS-MML_SVG\"></script><script type=\"text/javascript\">if (window.MathJax) {MathJax.Hub.Config({SVG: {font: \"STIX-Web\"}});}</script>                <script type=\"text/javascript\">window.PlotlyConfig = {MathJaxConfig: 'local'};</script>\n",
              "        <script src=\"https://cdn.plot.ly/plotly-2.8.3.min.js\"></script>                <div id=\"f219ab9c-652e-4dea-b337-46a1d6b96df4\" class=\"plotly-graph-div\" style=\"height:400px; width:800px;\"></div>            <script type=\"text/javascript\">                                    window.PLOTLYENV=window.PLOTLYENV || {};                                    if (document.getElementById(\"f219ab9c-652e-4dea-b337-46a1d6b96df4\")) {                    Plotly.newPlot(                        \"f219ab9c-652e-4dea-b337-46a1d6b96df4\",                        [{\"alignmentgroup\":\"True\",\"hovertemplate\":\"Exclusivo Netflix=%{x}<br>Pontua\\u00e7ao de audiencia=%{y}<extra></extra>\",\"legendgroup\":\"Not\",\"marker\":{\"color\":\"#636efa\",\"pattern\":{\"shape\":\"\"}},\"name\":\"Not\",\"offsetgroup\":\"Not\",\"orientation\":\"v\",\"showlegend\":true,\"textposition\":\"auto\",\"x\":[\"Not\"],\"xaxis\":\"x\",\"y\":[185.54258296681328],\"yaxis\":\"y\",\"type\":\"bar\"},{\"alignmentgroup\":\"True\",\"hovertemplate\":\"Exclusivo Netflix=%{x}<br>Pontua\\u00e7ao de audiencia=%{y}<extra></extra>\",\"legendgroup\":\"Yes\",\"marker\":{\"color\":\"#EF553B\",\"pattern\":{\"shape\":\"\"}},\"name\":\"Yes\",\"offsetgroup\":\"Yes\",\"orientation\":\"v\",\"showlegend\":true,\"textposition\":\"auto\",\"x\":[\"Yes\"],\"xaxis\":\"x\",\"y\":[88.66449228093063],\"yaxis\":\"y\",\"type\":\"bar\"}],                        {\"template\":{\"data\":{\"bar\":[{\"error_x\":{\"color\":\"#2a3f5f\"},\"error_y\":{\"color\":\"#2a3f5f\"},\"marker\":{\"line\":{\"color\":\"#E5ECF6\",\"width\":0.5},\"pattern\":{\"fillmode\":\"overlay\",\"size\":10,\"solidity\":0.2}},\"type\":\"bar\"}],\"barpolar\":[{\"marker\":{\"line\":{\"color\":\"#E5ECF6\",\"width\":0.5},\"pattern\":{\"fillmode\":\"overlay\",\"size\":10,\"solidity\":0.2}},\"type\":\"barpolar\"}],\"carpet\":[{\"aaxis\":{\"endlinecolor\":\"#2a3f5f\",\"gridcolor\":\"white\",\"linecolor\":\"white\",\"minorgridcolor\":\"white\",\"startlinecolor\":\"#2a3f5f\"},\"baxis\":{\"endlinecolor\":\"#2a3f5f\",\"gridcolor\":\"white\",\"linecolor\":\"white\",\"minorgridcolor\":\"white\",\"startlinecolor\":\"#2a3f5f\"},\"type\":\"carpet\"}],\"choropleth\":[{\"colorbar\":{\"outlinewidth\":0,\"ticks\":\"\"},\"type\":\"choropleth\"}],\"contour\":[{\"colorbar\":{\"outlinewidth\":0,\"ticks\":\"\"},\"colorscale\":[[0.0,\"#0d0887\"],[0.1111111111111111,\"#46039f\"],[0.2222222222222222,\"#7201a8\"],[0.3333333333333333,\"#9c179e\"],[0.4444444444444444,\"#bd3786\"],[0.5555555555555556,\"#d8576b\"],[0.6666666666666666,\"#ed7953\"],[0.7777777777777778,\"#fb9f3a\"],[0.8888888888888888,\"#fdca26\"],[1.0,\"#f0f921\"]],\"type\":\"contour\"}],\"contourcarpet\":[{\"colorbar\":{\"outlinewidth\":0,\"ticks\":\"\"},\"type\":\"contourcarpet\"}],\"heatmap\":[{\"colorbar\":{\"outlinewidth\":0,\"ticks\":\"\"},\"colorscale\":[[0.0,\"#0d0887\"],[0.1111111111111111,\"#46039f\"],[0.2222222222222222,\"#7201a8\"],[0.3333333333333333,\"#9c179e\"],[0.4444444444444444,\"#bd3786\"],[0.5555555555555556,\"#d8576b\"],[0.6666666666666666,\"#ed7953\"],[0.7777777777777778,\"#fb9f3a\"],[0.8888888888888888,\"#fdca26\"],[1.0,\"#f0f921\"]],\"type\":\"heatmap\"}],\"heatmapgl\":[{\"colorbar\":{\"outlinewidth\":0,\"ticks\":\"\"},\"colorscale\":[[0.0,\"#0d0887\"],[0.1111111111111111,\"#46039f\"],[0.2222222222222222,\"#7201a8\"],[0.3333333333333333,\"#9c179e\"],[0.4444444444444444,\"#bd3786\"],[0.5555555555555556,\"#d8576b\"],[0.6666666666666666,\"#ed7953\"],[0.7777777777777778,\"#fb9f3a\"],[0.8888888888888888,\"#fdca26\"],[1.0,\"#f0f921\"]],\"type\":\"heatmapgl\"}],\"histogram\":[{\"marker\":{\"pattern\":{\"fillmode\":\"overlay\",\"size\":10,\"solidity\":0.2}},\"type\":\"histogram\"}],\"histogram2d\":[{\"colorbar\":{\"outlinewidth\":0,\"ticks\":\"\"},\"colorscale\":[[0.0,\"#0d0887\"],[0.1111111111111111,\"#46039f\"],[0.2222222222222222,\"#7201a8\"],[0.3333333333333333,\"#9c179e\"],[0.4444444444444444,\"#bd3786\"],[0.5555555555555556,\"#d8576b\"],[0.6666666666666666,\"#ed7953\"],[0.7777777777777778,\"#fb9f3a\"],[0.8888888888888888,\"#fdca26\"],[1.0,\"#f0f921\"]],\"type\":\"histogram2d\"}],\"histogram2dcontour\":[{\"colorbar\":{\"outlinewidth\":0,\"ticks\":\"\"},\"colorscale\":[[0.0,\"#0d0887\"],[0.1111111111111111,\"#46039f\"],[0.2222222222222222,\"#7201a8\"],[0.3333333333333333,\"#9c179e\"],[0.4444444444444444,\"#bd3786\"],[0.5555555555555556,\"#d8576b\"],[0.6666666666666666,\"#ed7953\"],[0.7777777777777778,\"#fb9f3a\"],[0.8888888888888888,\"#fdca26\"],[1.0,\"#f0f921\"]],\"type\":\"histogram2dcontour\"}],\"mesh3d\":[{\"colorbar\":{\"outlinewidth\":0,\"ticks\":\"\"},\"type\":\"mesh3d\"}],\"parcoords\":[{\"line\":{\"colorbar\":{\"outlinewidth\":0,\"ticks\":\"\"}},\"type\":\"parcoords\"}],\"pie\":[{\"automargin\":true,\"type\":\"pie\"}],\"scatter\":[{\"marker\":{\"colorbar\":{\"outlinewidth\":0,\"ticks\":\"\"}},\"type\":\"scatter\"}],\"scatter3d\":[{\"line\":{\"colorbar\":{\"outlinewidth\":0,\"ticks\":\"\"}},\"marker\":{\"colorbar\":{\"outlinewidth\":0,\"ticks\":\"\"}},\"type\":\"scatter3d\"}],\"scattercarpet\":[{\"marker\":{\"colorbar\":{\"outlinewidth\":0,\"ticks\":\"\"}},\"type\":\"scattercarpet\"}],\"scattergeo\":[{\"marker\":{\"colorbar\":{\"outlinewidth\":0,\"ticks\":\"\"}},\"type\":\"scattergeo\"}],\"scattergl\":[{\"marker\":{\"colorbar\":{\"outlinewidth\":0,\"ticks\":\"\"}},\"type\":\"scattergl\"}],\"scattermapbox\":[{\"marker\":{\"colorbar\":{\"outlinewidth\":0,\"ticks\":\"\"}},\"type\":\"scattermapbox\"}],\"scatterpolar\":[{\"marker\":{\"colorbar\":{\"outlinewidth\":0,\"ticks\":\"\"}},\"type\":\"scatterpolar\"}],\"scatterpolargl\":[{\"marker\":{\"colorbar\":{\"outlinewidth\":0,\"ticks\":\"\"}},\"type\":\"scatterpolargl\"}],\"scatterternary\":[{\"marker\":{\"colorbar\":{\"outlinewidth\":0,\"ticks\":\"\"}},\"type\":\"scatterternary\"}],\"surface\":[{\"colorbar\":{\"outlinewidth\":0,\"ticks\":\"\"},\"colorscale\":[[0.0,\"#0d0887\"],[0.1111111111111111,\"#46039f\"],[0.2222222222222222,\"#7201a8\"],[0.3333333333333333,\"#9c179e\"],[0.4444444444444444,\"#bd3786\"],[0.5555555555555556,\"#d8576b\"],[0.6666666666666666,\"#ed7953\"],[0.7777777777777778,\"#fb9f3a\"],[0.8888888888888888,\"#fdca26\"],[1.0,\"#f0f921\"]],\"type\":\"surface\"}],\"table\":[{\"cells\":{\"fill\":{\"color\":\"#EBF0F8\"},\"line\":{\"color\":\"white\"}},\"header\":{\"fill\":{\"color\":\"#C8D4E3\"},\"line\":{\"color\":\"white\"}},\"type\":\"table\"}]},\"layout\":{\"annotationdefaults\":{\"arrowcolor\":\"#2a3f5f\",\"arrowhead\":0,\"arrowwidth\":1},\"autotypenumbers\":\"strict\",\"coloraxis\":{\"colorbar\":{\"outlinewidth\":0,\"ticks\":\"\"}},\"colorscale\":{\"diverging\":[[0,\"#8e0152\"],[0.1,\"#c51b7d\"],[0.2,\"#de77ae\"],[0.3,\"#f1b6da\"],[0.4,\"#fde0ef\"],[0.5,\"#f7f7f7\"],[0.6,\"#e6f5d0\"],[0.7,\"#b8e186\"],[0.8,\"#7fbc41\"],[0.9,\"#4d9221\"],[1,\"#276419\"]],\"sequential\":[[0.0,\"#0d0887\"],[0.1111111111111111,\"#46039f\"],[0.2222222222222222,\"#7201a8\"],[0.3333333333333333,\"#9c179e\"],[0.4444444444444444,\"#bd3786\"],[0.5555555555555556,\"#d8576b\"],[0.6666666666666666,\"#ed7953\"],[0.7777777777777778,\"#fb9f3a\"],[0.8888888888888888,\"#fdca26\"],[1.0,\"#f0f921\"]],\"sequentialminus\":[[0.0,\"#0d0887\"],[0.1111111111111111,\"#46039f\"],[0.2222222222222222,\"#7201a8\"],[0.3333333333333333,\"#9c179e\"],[0.4444444444444444,\"#bd3786\"],[0.5555555555555556,\"#d8576b\"],[0.6666666666666666,\"#ed7953\"],[0.7777777777777778,\"#fb9f3a\"],[0.8888888888888888,\"#fdca26\"],[1.0,\"#f0f921\"]]},\"colorway\":[\"#636efa\",\"#EF553B\",\"#00cc96\",\"#ab63fa\",\"#FFA15A\",\"#19d3f3\",\"#FF6692\",\"#B6E880\",\"#FF97FF\",\"#FECB52\"],\"font\":{\"color\":\"#2a3f5f\"},\"geo\":{\"bgcolor\":\"white\",\"lakecolor\":\"white\",\"landcolor\":\"#E5ECF6\",\"showlakes\":true,\"showland\":true,\"subunitcolor\":\"white\"},\"hoverlabel\":{\"align\":\"left\"},\"hovermode\":\"closest\",\"mapbox\":{\"style\":\"light\"},\"paper_bgcolor\":\"white\",\"plot_bgcolor\":\"#E5ECF6\",\"polar\":{\"angularaxis\":{\"gridcolor\":\"white\",\"linecolor\":\"white\",\"ticks\":\"\"},\"bgcolor\":\"#E5ECF6\",\"radialaxis\":{\"gridcolor\":\"white\",\"linecolor\":\"white\",\"ticks\":\"\"}},\"scene\":{\"xaxis\":{\"backgroundcolor\":\"#E5ECF6\",\"gridcolor\":\"white\",\"gridwidth\":2,\"linecolor\":\"white\",\"showbackground\":true,\"ticks\":\"\",\"zerolinecolor\":\"white\"},\"yaxis\":{\"backgroundcolor\":\"#E5ECF6\",\"gridcolor\":\"white\",\"gridwidth\":2,\"linecolor\":\"white\",\"showbackground\":true,\"ticks\":\"\",\"zerolinecolor\":\"white\"},\"zaxis\":{\"backgroundcolor\":\"#E5ECF6\",\"gridcolor\":\"white\",\"gridwidth\":2,\"linecolor\":\"white\",\"showbackground\":true,\"ticks\":\"\",\"zerolinecolor\":\"white\"}},\"shapedefaults\":{\"line\":{\"color\":\"#2a3f5f\"}},\"ternary\":{\"aaxis\":{\"gridcolor\":\"white\",\"linecolor\":\"white\",\"ticks\":\"\"},\"baxis\":{\"gridcolor\":\"white\",\"linecolor\":\"white\",\"ticks\":\"\"},\"bgcolor\":\"#E5ECF6\",\"caxis\":{\"gridcolor\":\"white\",\"linecolor\":\"white\",\"ticks\":\"\"}},\"title\":{\"x\":0.05},\"xaxis\":{\"automargin\":true,\"gridcolor\":\"white\",\"linecolor\":\"white\",\"ticks\":\"\",\"title\":{\"standoff\":15},\"zerolinecolor\":\"white\",\"zerolinewidth\":2},\"yaxis\":{\"automargin\":true,\"gridcolor\":\"white\",\"linecolor\":\"white\",\"ticks\":\"\",\"title\":{\"standoff\":15},\"zerolinecolor\":\"white\",\"zerolinewidth\":2}}},\"xaxis\":{\"anchor\":\"y\",\"domain\":[0.0,1.0],\"title\":{\"text\":\"Exclusivo Netflix\"},\"categoryorder\":\"array\",\"categoryarray\":[\"Not\",\"Yes\"]},\"yaxis\":{\"anchor\":\"x\",\"domain\":[0.0,1.0],\"title\":{\"text\":\"Pontua\\u00e7ao de audiencia\"}},\"legend\":{\"title\":{\"text\":\"Exclusivo Netflix\"},\"tracegroupgap\":0},\"margin\":{\"t\":60},\"barmode\":\"relative\",\"height\":400,\"width\":800},                        {\"responsive\": true}                    ).then(function(){\n",
              "                            \n",
              "var gd = document.getElementById('f219ab9c-652e-4dea-b337-46a1d6b96df4');\n",
              "var x = new MutationObserver(function (mutations, observer) {{\n",
              "        var display = window.getComputedStyle(gd).display;\n",
              "        if (!display || display === 'none') {{\n",
              "            console.log([gd, 'removed!']);\n",
              "            Plotly.purge(gd);\n",
              "            observer.disconnect();\n",
              "        }}\n",
              "}});\n",
              "\n",
              "// Listen for the removal of the full notebook cells\n",
              "var notebookContainer = gd.closest('#notebook-container');\n",
              "if (notebookContainer) {{\n",
              "    x.observe(notebookContainer, {childList: true});\n",
              "}}\n",
              "\n",
              "// Listen for the clearing of the current output cell\n",
              "var outputEl = gd.closest('.output');\n",
              "if (outputEl) {{\n",
              "    x.observe(outputEl, {childList: true});\n",
              "}}\n",
              "\n",
              "                        })                };                            </script>        </div>\n",
              "</body>\n",
              "</html>"
            ]
          },
          "metadata": {}
        }
      ]
    },
    {
      "cell_type": "markdown",
      "source": [
        "#### Quais as médias de audiência para cada tipo de atração?"
      ],
      "metadata": {
        "id": "Nk9JtuLiK8dB"
      }
    },
    {
      "cell_type": "code",
      "source": [
        "# Média de audiência por categoria de Atração\n",
        "media_top10_categoria_atracao = base.groupby('Tipo').agg(\n",
        "                                                        {'Pontuaçao de audiencia':np.mean}).sort_values(\n",
        "                                                        by='Pontuaçao de audiencia', ascending=False).reset_index()\n",
        "\n",
        "px.bar(media_top10_categoria_atracao, x='Tipo', y='Pontuaçao de audiencia', color='Tipo', width=650, height=450)                                                       "
      ],
      "metadata": {
        "id": "nWhZH1pL7iOQ",
        "colab": {
          "base_uri": "https://localhost:8080/",
          "height": 467
        },
        "outputId": "438a280d-0ed4-42c7-8da5-0395302b0ce9"
      },
      "execution_count": 22,
      "outputs": [
        {
          "output_type": "display_data",
          "data": {
            "text/html": [
              "<html>\n",
              "<head><meta charset=\"utf-8\" /></head>\n",
              "<body>\n",
              "    <div>            <script src=\"https://cdnjs.cloudflare.com/ajax/libs/mathjax/2.7.5/MathJax.js?config=TeX-AMS-MML_SVG\"></script><script type=\"text/javascript\">if (window.MathJax) {MathJax.Hub.Config({SVG: {font: \"STIX-Web\"}});}</script>                <script type=\"text/javascript\">window.PlotlyConfig = {MathJaxConfig: 'local'};</script>\n",
              "        <script src=\"https://cdn.plot.ly/plotly-2.8.3.min.js\"></script>                <div id=\"285d7d61-943d-4072-8522-1d5442fd8941\" class=\"plotly-graph-div\" style=\"height:450px; width:650px;\"></div>            <script type=\"text/javascript\">                                    window.PLOTLYENV=window.PLOTLYENV || {};                                    if (document.getElementById(\"285d7d61-943d-4072-8522-1d5442fd8941\")) {                    Plotly.newPlot(                        \"285d7d61-943d-4072-8522-1d5442fd8941\",                        [{\"alignmentgroup\":\"True\",\"hovertemplate\":\"Tipo=%{x}<br>Pontua\\u00e7ao de audiencia=%{y}<extra></extra>\",\"legendgroup\":\"TV Show\",\"marker\":{\"color\":\"#636efa\",\"pattern\":{\"shape\":\"\"}},\"name\":\"TV Show\",\"offsetgroup\":\"TV Show\",\"orientation\":\"v\",\"showlegend\":true,\"textposition\":\"auto\",\"x\":[\"TV Show\"],\"xaxis\":\"x\",\"y\":[172.8540260908682],\"yaxis\":\"y\",\"type\":\"bar\"},{\"alignmentgroup\":\"True\",\"hovertemplate\":\"Tipo=%{x}<br>Pontua\\u00e7ao de audiencia=%{y}<extra></extra>\",\"legendgroup\":\"Movie\",\"marker\":{\"color\":\"#EF553B\",\"pattern\":{\"shape\":\"\"}},\"name\":\"Movie\",\"offsetgroup\":\"Movie\",\"orientation\":\"v\",\"showlegend\":true,\"textposition\":\"auto\",\"x\":[\"Movie\"],\"xaxis\":\"x\",\"y\":[38.948678667177326],\"yaxis\":\"y\",\"type\":\"bar\"},{\"alignmentgroup\":\"True\",\"hovertemplate\":\"Tipo=%{x}<br>Pontua\\u00e7ao de audiencia=%{y}<extra></extra>\",\"legendgroup\":\"Stand-Up Comedy\",\"marker\":{\"color\":\"#00cc96\",\"pattern\":{\"shape\":\"\"}},\"name\":\"Stand-Up Comedy\",\"offsetgroup\":\"Stand-Up Comedy\",\"orientation\":\"v\",\"showlegend\":true,\"textposition\":\"auto\",\"x\":[\"Stand-Up Comedy\"],\"xaxis\":\"x\",\"y\":[38.58536585365854],\"yaxis\":\"y\",\"type\":\"bar\"},{\"alignmentgroup\":\"True\",\"hovertemplate\":\"Tipo=%{x}<br>Pontua\\u00e7ao de audiencia=%{y}<extra></extra>\",\"legendgroup\":\"Concert/Perf\\u2026\",\"marker\":{\"color\":\"#ab63fa\",\"pattern\":{\"shape\":\"\"}},\"name\":\"Concert/Perf\\u2026\",\"offsetgroup\":\"Concert/Perf\\u2026\",\"orientation\":\"v\",\"showlegend\":true,\"textposition\":\"auto\",\"x\":[\"Concert/Perf\\u2026\"],\"xaxis\":\"x\",\"y\":[12.0],\"yaxis\":\"y\",\"type\":\"bar\"}],                        {\"template\":{\"data\":{\"bar\":[{\"error_x\":{\"color\":\"#2a3f5f\"},\"error_y\":{\"color\":\"#2a3f5f\"},\"marker\":{\"line\":{\"color\":\"#E5ECF6\",\"width\":0.5},\"pattern\":{\"fillmode\":\"overlay\",\"size\":10,\"solidity\":0.2}},\"type\":\"bar\"}],\"barpolar\":[{\"marker\":{\"line\":{\"color\":\"#E5ECF6\",\"width\":0.5},\"pattern\":{\"fillmode\":\"overlay\",\"size\":10,\"solidity\":0.2}},\"type\":\"barpolar\"}],\"carpet\":[{\"aaxis\":{\"endlinecolor\":\"#2a3f5f\",\"gridcolor\":\"white\",\"linecolor\":\"white\",\"minorgridcolor\":\"white\",\"startlinecolor\":\"#2a3f5f\"},\"baxis\":{\"endlinecolor\":\"#2a3f5f\",\"gridcolor\":\"white\",\"linecolor\":\"white\",\"minorgridcolor\":\"white\",\"startlinecolor\":\"#2a3f5f\"},\"type\":\"carpet\"}],\"choropleth\":[{\"colorbar\":{\"outlinewidth\":0,\"ticks\":\"\"},\"type\":\"choropleth\"}],\"contour\":[{\"colorbar\":{\"outlinewidth\":0,\"ticks\":\"\"},\"colorscale\":[[0.0,\"#0d0887\"],[0.1111111111111111,\"#46039f\"],[0.2222222222222222,\"#7201a8\"],[0.3333333333333333,\"#9c179e\"],[0.4444444444444444,\"#bd3786\"],[0.5555555555555556,\"#d8576b\"],[0.6666666666666666,\"#ed7953\"],[0.7777777777777778,\"#fb9f3a\"],[0.8888888888888888,\"#fdca26\"],[1.0,\"#f0f921\"]],\"type\":\"contour\"}],\"contourcarpet\":[{\"colorbar\":{\"outlinewidth\":0,\"ticks\":\"\"},\"type\":\"contourcarpet\"}],\"heatmap\":[{\"colorbar\":{\"outlinewidth\":0,\"ticks\":\"\"},\"colorscale\":[[0.0,\"#0d0887\"],[0.1111111111111111,\"#46039f\"],[0.2222222222222222,\"#7201a8\"],[0.3333333333333333,\"#9c179e\"],[0.4444444444444444,\"#bd3786\"],[0.5555555555555556,\"#d8576b\"],[0.6666666666666666,\"#ed7953\"],[0.7777777777777778,\"#fb9f3a\"],[0.8888888888888888,\"#fdca26\"],[1.0,\"#f0f921\"]],\"type\":\"heatmap\"}],\"heatmapgl\":[{\"colorbar\":{\"outlinewidth\":0,\"ticks\":\"\"},\"colorscale\":[[0.0,\"#0d0887\"],[0.1111111111111111,\"#46039f\"],[0.2222222222222222,\"#7201a8\"],[0.3333333333333333,\"#9c179e\"],[0.4444444444444444,\"#bd3786\"],[0.5555555555555556,\"#d8576b\"],[0.6666666666666666,\"#ed7953\"],[0.7777777777777778,\"#fb9f3a\"],[0.8888888888888888,\"#fdca26\"],[1.0,\"#f0f921\"]],\"type\":\"heatmapgl\"}],\"histogram\":[{\"marker\":{\"pattern\":{\"fillmode\":\"overlay\",\"size\":10,\"solidity\":0.2}},\"type\":\"histogram\"}],\"histogram2d\":[{\"colorbar\":{\"outlinewidth\":0,\"ticks\":\"\"},\"colorscale\":[[0.0,\"#0d0887\"],[0.1111111111111111,\"#46039f\"],[0.2222222222222222,\"#7201a8\"],[0.3333333333333333,\"#9c179e\"],[0.4444444444444444,\"#bd3786\"],[0.5555555555555556,\"#d8576b\"],[0.6666666666666666,\"#ed7953\"],[0.7777777777777778,\"#fb9f3a\"],[0.8888888888888888,\"#fdca26\"],[1.0,\"#f0f921\"]],\"type\":\"histogram2d\"}],\"histogram2dcontour\":[{\"colorbar\":{\"outlinewidth\":0,\"ticks\":\"\"},\"colorscale\":[[0.0,\"#0d0887\"],[0.1111111111111111,\"#46039f\"],[0.2222222222222222,\"#7201a8\"],[0.3333333333333333,\"#9c179e\"],[0.4444444444444444,\"#bd3786\"],[0.5555555555555556,\"#d8576b\"],[0.6666666666666666,\"#ed7953\"],[0.7777777777777778,\"#fb9f3a\"],[0.8888888888888888,\"#fdca26\"],[1.0,\"#f0f921\"]],\"type\":\"histogram2dcontour\"}],\"mesh3d\":[{\"colorbar\":{\"outlinewidth\":0,\"ticks\":\"\"},\"type\":\"mesh3d\"}],\"parcoords\":[{\"line\":{\"colorbar\":{\"outlinewidth\":0,\"ticks\":\"\"}},\"type\":\"parcoords\"}],\"pie\":[{\"automargin\":true,\"type\":\"pie\"}],\"scatter\":[{\"marker\":{\"colorbar\":{\"outlinewidth\":0,\"ticks\":\"\"}},\"type\":\"scatter\"}],\"scatter3d\":[{\"line\":{\"colorbar\":{\"outlinewidth\":0,\"ticks\":\"\"}},\"marker\":{\"colorbar\":{\"outlinewidth\":0,\"ticks\":\"\"}},\"type\":\"scatter3d\"}],\"scattercarpet\":[{\"marker\":{\"colorbar\":{\"outlinewidth\":0,\"ticks\":\"\"}},\"type\":\"scattercarpet\"}],\"scattergeo\":[{\"marker\":{\"colorbar\":{\"outlinewidth\":0,\"ticks\":\"\"}},\"type\":\"scattergeo\"}],\"scattergl\":[{\"marker\":{\"colorbar\":{\"outlinewidth\":0,\"ticks\":\"\"}},\"type\":\"scattergl\"}],\"scattermapbox\":[{\"marker\":{\"colorbar\":{\"outlinewidth\":0,\"ticks\":\"\"}},\"type\":\"scattermapbox\"}],\"scatterpolar\":[{\"marker\":{\"colorbar\":{\"outlinewidth\":0,\"ticks\":\"\"}},\"type\":\"scatterpolar\"}],\"scatterpolargl\":[{\"marker\":{\"colorbar\":{\"outlinewidth\":0,\"ticks\":\"\"}},\"type\":\"scatterpolargl\"}],\"scatterternary\":[{\"marker\":{\"colorbar\":{\"outlinewidth\":0,\"ticks\":\"\"}},\"type\":\"scatterternary\"}],\"surface\":[{\"colorbar\":{\"outlinewidth\":0,\"ticks\":\"\"},\"colorscale\":[[0.0,\"#0d0887\"],[0.1111111111111111,\"#46039f\"],[0.2222222222222222,\"#7201a8\"],[0.3333333333333333,\"#9c179e\"],[0.4444444444444444,\"#bd3786\"],[0.5555555555555556,\"#d8576b\"],[0.6666666666666666,\"#ed7953\"],[0.7777777777777778,\"#fb9f3a\"],[0.8888888888888888,\"#fdca26\"],[1.0,\"#f0f921\"]],\"type\":\"surface\"}],\"table\":[{\"cells\":{\"fill\":{\"color\":\"#EBF0F8\"},\"line\":{\"color\":\"white\"}},\"header\":{\"fill\":{\"color\":\"#C8D4E3\"},\"line\":{\"color\":\"white\"}},\"type\":\"table\"}]},\"layout\":{\"annotationdefaults\":{\"arrowcolor\":\"#2a3f5f\",\"arrowhead\":0,\"arrowwidth\":1},\"autotypenumbers\":\"strict\",\"coloraxis\":{\"colorbar\":{\"outlinewidth\":0,\"ticks\":\"\"}},\"colorscale\":{\"diverging\":[[0,\"#8e0152\"],[0.1,\"#c51b7d\"],[0.2,\"#de77ae\"],[0.3,\"#f1b6da\"],[0.4,\"#fde0ef\"],[0.5,\"#f7f7f7\"],[0.6,\"#e6f5d0\"],[0.7,\"#b8e186\"],[0.8,\"#7fbc41\"],[0.9,\"#4d9221\"],[1,\"#276419\"]],\"sequential\":[[0.0,\"#0d0887\"],[0.1111111111111111,\"#46039f\"],[0.2222222222222222,\"#7201a8\"],[0.3333333333333333,\"#9c179e\"],[0.4444444444444444,\"#bd3786\"],[0.5555555555555556,\"#d8576b\"],[0.6666666666666666,\"#ed7953\"],[0.7777777777777778,\"#fb9f3a\"],[0.8888888888888888,\"#fdca26\"],[1.0,\"#f0f921\"]],\"sequentialminus\":[[0.0,\"#0d0887\"],[0.1111111111111111,\"#46039f\"],[0.2222222222222222,\"#7201a8\"],[0.3333333333333333,\"#9c179e\"],[0.4444444444444444,\"#bd3786\"],[0.5555555555555556,\"#d8576b\"],[0.6666666666666666,\"#ed7953\"],[0.7777777777777778,\"#fb9f3a\"],[0.8888888888888888,\"#fdca26\"],[1.0,\"#f0f921\"]]},\"colorway\":[\"#636efa\",\"#EF553B\",\"#00cc96\",\"#ab63fa\",\"#FFA15A\",\"#19d3f3\",\"#FF6692\",\"#B6E880\",\"#FF97FF\",\"#FECB52\"],\"font\":{\"color\":\"#2a3f5f\"},\"geo\":{\"bgcolor\":\"white\",\"lakecolor\":\"white\",\"landcolor\":\"#E5ECF6\",\"showlakes\":true,\"showland\":true,\"subunitcolor\":\"white\"},\"hoverlabel\":{\"align\":\"left\"},\"hovermode\":\"closest\",\"mapbox\":{\"style\":\"light\"},\"paper_bgcolor\":\"white\",\"plot_bgcolor\":\"#E5ECF6\",\"polar\":{\"angularaxis\":{\"gridcolor\":\"white\",\"linecolor\":\"white\",\"ticks\":\"\"},\"bgcolor\":\"#E5ECF6\",\"radialaxis\":{\"gridcolor\":\"white\",\"linecolor\":\"white\",\"ticks\":\"\"}},\"scene\":{\"xaxis\":{\"backgroundcolor\":\"#E5ECF6\",\"gridcolor\":\"white\",\"gridwidth\":2,\"linecolor\":\"white\",\"showbackground\":true,\"ticks\":\"\",\"zerolinecolor\":\"white\"},\"yaxis\":{\"backgroundcolor\":\"#E5ECF6\",\"gridcolor\":\"white\",\"gridwidth\":2,\"linecolor\":\"white\",\"showbackground\":true,\"ticks\":\"\",\"zerolinecolor\":\"white\"},\"zaxis\":{\"backgroundcolor\":\"#E5ECF6\",\"gridcolor\":\"white\",\"gridwidth\":2,\"linecolor\":\"white\",\"showbackground\":true,\"ticks\":\"\",\"zerolinecolor\":\"white\"}},\"shapedefaults\":{\"line\":{\"color\":\"#2a3f5f\"}},\"ternary\":{\"aaxis\":{\"gridcolor\":\"white\",\"linecolor\":\"white\",\"ticks\":\"\"},\"baxis\":{\"gridcolor\":\"white\",\"linecolor\":\"white\",\"ticks\":\"\"},\"bgcolor\":\"#E5ECF6\",\"caxis\":{\"gridcolor\":\"white\",\"linecolor\":\"white\",\"ticks\":\"\"}},\"title\":{\"x\":0.05},\"xaxis\":{\"automargin\":true,\"gridcolor\":\"white\",\"linecolor\":\"white\",\"ticks\":\"\",\"title\":{\"standoff\":15},\"zerolinecolor\":\"white\",\"zerolinewidth\":2},\"yaxis\":{\"automargin\":true,\"gridcolor\":\"white\",\"linecolor\":\"white\",\"ticks\":\"\",\"title\":{\"standoff\":15},\"zerolinecolor\":\"white\",\"zerolinewidth\":2}}},\"xaxis\":{\"anchor\":\"y\",\"domain\":[0.0,1.0],\"title\":{\"text\":\"Tipo\"},\"categoryorder\":\"array\",\"categoryarray\":[\"TV Show\",\"Movie\",\"Stand-Up Comedy\",\"Concert/Perf\\u2026\"]},\"yaxis\":{\"anchor\":\"x\",\"domain\":[0.0,1.0],\"title\":{\"text\":\"Pontua\\u00e7ao de audiencia\"}},\"legend\":{\"title\":{\"text\":\"Tipo\"},\"tracegroupgap\":0},\"margin\":{\"t\":60},\"barmode\":\"relative\",\"height\":450,\"width\":650},                        {\"responsive\": true}                    ).then(function(){\n",
              "                            \n",
              "var gd = document.getElementById('285d7d61-943d-4072-8522-1d5442fd8941');\n",
              "var x = new MutationObserver(function (mutations, observer) {{\n",
              "        var display = window.getComputedStyle(gd).display;\n",
              "        if (!display || display === 'none') {{\n",
              "            console.log([gd, 'removed!']);\n",
              "            Plotly.purge(gd);\n",
              "            observer.disconnect();\n",
              "        }}\n",
              "}});\n",
              "\n",
              "// Listen for the removal of the full notebook cells\n",
              "var notebookContainer = gd.closest('#notebook-container');\n",
              "if (notebookContainer) {{\n",
              "    x.observe(notebookContainer, {childList: true});\n",
              "}}\n",
              "\n",
              "// Listen for the clearing of the current output cell\n",
              "var outputEl = gd.closest('.output');\n",
              "if (outputEl) {{\n",
              "    x.observe(outputEl, {childList: true});\n",
              "}}\n",
              "\n",
              "                        })                };                            </script>        </div>\n",
              "</body>\n",
              "</html>"
            ]
          },
          "metadata": {}
        }
      ]
    },
    {
      "cell_type": "markdown",
      "source": [
        "#### Quais o títulos que ficaram mais dias em primeiro lugar?"
      ],
      "metadata": {
        "id": "bj7qV32XLQT3"
      }
    },
    {
      "cell_type": "code",
      "source": [
        "# Títulos Que mais ficaram em primeiro lugar\n",
        "primeiros = base[base['Classificacao'] == 1]\n",
        "top10_dias_em_primeiro = primeiros['Titulo'].value_counts()\n",
        "top10_dias_em_primeiro = pd.DataFrame(top10_dias_em_primeiro).reset_index()\n",
        "top10_dias_em_primeiro = top10_dias_em_primeiro.iloc[0:10,]\n",
        "top10_dias_em_primeiro.columns = ['Título', 'Dias em Primeiro Lugar']\n",
        "\n",
        "px.bar(top10_dias_em_primeiro, x='Título', y='Dias em Primeiro Lugar', color='Título')"
      ],
      "metadata": {
        "id": "fnRSfgvomXyF",
        "colab": {
          "base_uri": "https://localhost:8080/",
          "height": 542
        },
        "outputId": "3eddf370-5dd3-4584-c1d8-2ecee1134fb6"
      },
      "execution_count": 23,
      "outputs": [
        {
          "output_type": "display_data",
          "data": {
            "text/html": [
              "<html>\n",
              "<head><meta charset=\"utf-8\" /></head>\n",
              "<body>\n",
              "    <div>            <script src=\"https://cdnjs.cloudflare.com/ajax/libs/mathjax/2.7.5/MathJax.js?config=TeX-AMS-MML_SVG\"></script><script type=\"text/javascript\">if (window.MathJax) {MathJax.Hub.Config({SVG: {font: \"STIX-Web\"}});}</script>                <script type=\"text/javascript\">window.PlotlyConfig = {MathJaxConfig: 'local'};</script>\n",
              "        <script src=\"https://cdn.plot.ly/plotly-2.8.3.min.js\"></script>                <div id=\"396662fc-9b63-4544-9867-695bf0102f19\" class=\"plotly-graph-div\" style=\"height:525px; width:100%;\"></div>            <script type=\"text/javascript\">                                    window.PLOTLYENV=window.PLOTLYENV || {};                                    if (document.getElementById(\"396662fc-9b63-4544-9867-695bf0102f19\")) {                    Plotly.newPlot(                        \"396662fc-9b63-4544-9867-695bf0102f19\",                        [{\"alignmentgroup\":\"True\",\"hovertemplate\":\"T\\u00edtulo=%{x}<br>Dias em Primeiro Lugar=%{y}<extra></extra>\",\"legendgroup\":\"Cobra Kai\",\"marker\":{\"color\":\"#636efa\",\"pattern\":{\"shape\":\"\"}},\"name\":\"Cobra Kai\",\"offsetgroup\":\"Cobra Kai\",\"orientation\":\"v\",\"showlegend\":true,\"textposition\":\"auto\",\"x\":[\"Cobra Kai\"],\"xaxis\":\"x\",\"y\":[27],\"yaxis\":\"y\",\"type\":\"bar\"},{\"alignmentgroup\":\"True\",\"hovertemplate\":\"T\\u00edtulo=%{x}<br>Dias em Primeiro Lugar=%{y}<extra></extra>\",\"legendgroup\":\"Squid Game\",\"marker\":{\"color\":\"#EF553B\",\"pattern\":{\"shape\":\"\"}},\"name\":\"Squid Game\",\"offsetgroup\":\"Squid Game\",\"orientation\":\"v\",\"showlegend\":true,\"textposition\":\"auto\",\"x\":[\"Squid Game\"],\"xaxis\":\"x\",\"y\":[23],\"yaxis\":\"y\",\"type\":\"bar\"},{\"alignmentgroup\":\"True\",\"hovertemplate\":\"T\\u00edtulo=%{x}<br>Dias em Primeiro Lugar=%{y}<extra></extra>\",\"legendgroup\":\"Virgin River\",\"marker\":{\"color\":\"#00cc96\",\"pattern\":{\"shape\":\"\"}},\"name\":\"Virgin River\",\"offsetgroup\":\"Virgin River\",\"orientation\":\"v\",\"showlegend\":true,\"textposition\":\"auto\",\"x\":[\"Virgin River\"],\"xaxis\":\"x\",\"y\":[20],\"yaxis\":\"y\",\"type\":\"bar\"},{\"alignmentgroup\":\"True\",\"hovertemplate\":\"T\\u00edtulo=%{x}<br>Dias em Primeiro Lugar=%{y}<extra></extra>\",\"legendgroup\":\"Manifest\",\"marker\":{\"color\":\"#ab63fa\",\"pattern\":{\"shape\":\"\"}},\"name\":\"Manifest\",\"offsetgroup\":\"Manifest\",\"orientation\":\"v\",\"showlegend\":true,\"textposition\":\"auto\",\"x\":[\"Manifest\"],\"xaxis\":\"x\",\"y\":[19],\"yaxis\":\"y\",\"type\":\"bar\"},{\"alignmentgroup\":\"True\",\"hovertemplate\":\"T\\u00edtulo=%{x}<br>Dias em Primeiro Lugar=%{y}<extra></extra>\",\"legendgroup\":\"Outer Banks\",\"marker\":{\"color\":\"#FFA15A\",\"pattern\":{\"shape\":\"\"}},\"name\":\"Outer Banks\",\"offsetgroup\":\"Outer Banks\",\"orientation\":\"v\",\"showlegend\":true,\"textposition\":\"auto\",\"x\":[\"Outer Banks\"],\"xaxis\":\"x\",\"y\":[19],\"yaxis\":\"y\",\"type\":\"bar\"},{\"alignmentgroup\":\"True\",\"hovertemplate\":\"T\\u00edtulo=%{x}<br>Dias em Primeiro Lugar=%{y}<extra></extra>\",\"legendgroup\":\"Ginny & Georgia\",\"marker\":{\"color\":\"#19d3f3\",\"pattern\":{\"shape\":\"\"}},\"name\":\"Ginny & Georgia\",\"offsetgroup\":\"Ginny & Georgia\",\"orientation\":\"v\",\"showlegend\":true,\"textposition\":\"auto\",\"x\":[\"Ginny & Georgia\"],\"xaxis\":\"x\",\"y\":[18],\"yaxis\":\"y\",\"type\":\"bar\"},{\"alignmentgroup\":\"True\",\"hovertemplate\":\"T\\u00edtulo=%{x}<br>Dias em Primeiro Lugar=%{y}<extra></extra>\",\"legendgroup\":\"Lucifer\",\"marker\":{\"color\":\"#FF6692\",\"pattern\":{\"shape\":\"\"}},\"name\":\"Lucifer\",\"offsetgroup\":\"Lucifer\",\"orientation\":\"v\",\"showlegend\":true,\"textposition\":\"auto\",\"x\":[\"Lucifer\"],\"xaxis\":\"x\",\"y\":[18],\"yaxis\":\"y\",\"type\":\"bar\"},{\"alignmentgroup\":\"True\",\"hovertemplate\":\"T\\u00edtulo=%{x}<br>Dias em Primeiro Lugar=%{y}<extra></extra>\",\"legendgroup\":\"The Queen\\u00e2\\u0080\\u0099s Gambit\",\"marker\":{\"color\":\"#B6E880\",\"pattern\":{\"shape\":\"\"}},\"name\":\"The Queen\\u00e2\\u0080\\u0099s Gambit\",\"offsetgroup\":\"The Queen\\u00e2\\u0080\\u0099s Gambit\",\"orientation\":\"v\",\"showlegend\":true,\"textposition\":\"auto\",\"x\":[\"The Queen\\u00e2\\u0080\\u0099s Gambit\"],\"xaxis\":\"x\",\"y\":[17],\"yaxis\":\"y\",\"type\":\"bar\"},{\"alignmentgroup\":\"True\",\"hovertemplate\":\"T\\u00edtulo=%{x}<br>Dias em Primeiro Lugar=%{y}<extra></extra>\",\"legendgroup\":\"Tiger King: Murder, Mayhem \\u2026\",\"marker\":{\"color\":\"#FF97FF\",\"pattern\":{\"shape\":\"\"}},\"name\":\"Tiger King: Murder, Mayhem \\u2026\",\"offsetgroup\":\"Tiger King: Murder, Mayhem \\u2026\",\"orientation\":\"v\",\"showlegend\":true,\"textposition\":\"auto\",\"x\":[\"Tiger King: Murder, Mayhem \\u2026\"],\"xaxis\":\"x\",\"y\":[17],\"yaxis\":\"y\",\"type\":\"bar\"},{\"alignmentgroup\":\"True\",\"hovertemplate\":\"T\\u00edtulo=%{x}<br>Dias em Primeiro Lugar=%{y}<extra></extra>\",\"legendgroup\":\"You\",\"marker\":{\"color\":\"#FECB52\",\"pattern\":{\"shape\":\"\"}},\"name\":\"You\",\"offsetgroup\":\"You\",\"orientation\":\"v\",\"showlegend\":true,\"textposition\":\"auto\",\"x\":[\"You\"],\"xaxis\":\"x\",\"y\":[17],\"yaxis\":\"y\",\"type\":\"bar\"}],                        {\"template\":{\"data\":{\"bar\":[{\"error_x\":{\"color\":\"#2a3f5f\"},\"error_y\":{\"color\":\"#2a3f5f\"},\"marker\":{\"line\":{\"color\":\"#E5ECF6\",\"width\":0.5},\"pattern\":{\"fillmode\":\"overlay\",\"size\":10,\"solidity\":0.2}},\"type\":\"bar\"}],\"barpolar\":[{\"marker\":{\"line\":{\"color\":\"#E5ECF6\",\"width\":0.5},\"pattern\":{\"fillmode\":\"overlay\",\"size\":10,\"solidity\":0.2}},\"type\":\"barpolar\"}],\"carpet\":[{\"aaxis\":{\"endlinecolor\":\"#2a3f5f\",\"gridcolor\":\"white\",\"linecolor\":\"white\",\"minorgridcolor\":\"white\",\"startlinecolor\":\"#2a3f5f\"},\"baxis\":{\"endlinecolor\":\"#2a3f5f\",\"gridcolor\":\"white\",\"linecolor\":\"white\",\"minorgridcolor\":\"white\",\"startlinecolor\":\"#2a3f5f\"},\"type\":\"carpet\"}],\"choropleth\":[{\"colorbar\":{\"outlinewidth\":0,\"ticks\":\"\"},\"type\":\"choropleth\"}],\"contour\":[{\"colorbar\":{\"outlinewidth\":0,\"ticks\":\"\"},\"colorscale\":[[0.0,\"#0d0887\"],[0.1111111111111111,\"#46039f\"],[0.2222222222222222,\"#7201a8\"],[0.3333333333333333,\"#9c179e\"],[0.4444444444444444,\"#bd3786\"],[0.5555555555555556,\"#d8576b\"],[0.6666666666666666,\"#ed7953\"],[0.7777777777777778,\"#fb9f3a\"],[0.8888888888888888,\"#fdca26\"],[1.0,\"#f0f921\"]],\"type\":\"contour\"}],\"contourcarpet\":[{\"colorbar\":{\"outlinewidth\":0,\"ticks\":\"\"},\"type\":\"contourcarpet\"}],\"heatmap\":[{\"colorbar\":{\"outlinewidth\":0,\"ticks\":\"\"},\"colorscale\":[[0.0,\"#0d0887\"],[0.1111111111111111,\"#46039f\"],[0.2222222222222222,\"#7201a8\"],[0.3333333333333333,\"#9c179e\"],[0.4444444444444444,\"#bd3786\"],[0.5555555555555556,\"#d8576b\"],[0.6666666666666666,\"#ed7953\"],[0.7777777777777778,\"#fb9f3a\"],[0.8888888888888888,\"#fdca26\"],[1.0,\"#f0f921\"]],\"type\":\"heatmap\"}],\"heatmapgl\":[{\"colorbar\":{\"outlinewidth\":0,\"ticks\":\"\"},\"colorscale\":[[0.0,\"#0d0887\"],[0.1111111111111111,\"#46039f\"],[0.2222222222222222,\"#7201a8\"],[0.3333333333333333,\"#9c179e\"],[0.4444444444444444,\"#bd3786\"],[0.5555555555555556,\"#d8576b\"],[0.6666666666666666,\"#ed7953\"],[0.7777777777777778,\"#fb9f3a\"],[0.8888888888888888,\"#fdca26\"],[1.0,\"#f0f921\"]],\"type\":\"heatmapgl\"}],\"histogram\":[{\"marker\":{\"pattern\":{\"fillmode\":\"overlay\",\"size\":10,\"solidity\":0.2}},\"type\":\"histogram\"}],\"histogram2d\":[{\"colorbar\":{\"outlinewidth\":0,\"ticks\":\"\"},\"colorscale\":[[0.0,\"#0d0887\"],[0.1111111111111111,\"#46039f\"],[0.2222222222222222,\"#7201a8\"],[0.3333333333333333,\"#9c179e\"],[0.4444444444444444,\"#bd3786\"],[0.5555555555555556,\"#d8576b\"],[0.6666666666666666,\"#ed7953\"],[0.7777777777777778,\"#fb9f3a\"],[0.8888888888888888,\"#fdca26\"],[1.0,\"#f0f921\"]],\"type\":\"histogram2d\"}],\"histogram2dcontour\":[{\"colorbar\":{\"outlinewidth\":0,\"ticks\":\"\"},\"colorscale\":[[0.0,\"#0d0887\"],[0.1111111111111111,\"#46039f\"],[0.2222222222222222,\"#7201a8\"],[0.3333333333333333,\"#9c179e\"],[0.4444444444444444,\"#bd3786\"],[0.5555555555555556,\"#d8576b\"],[0.6666666666666666,\"#ed7953\"],[0.7777777777777778,\"#fb9f3a\"],[0.8888888888888888,\"#fdca26\"],[1.0,\"#f0f921\"]],\"type\":\"histogram2dcontour\"}],\"mesh3d\":[{\"colorbar\":{\"outlinewidth\":0,\"ticks\":\"\"},\"type\":\"mesh3d\"}],\"parcoords\":[{\"line\":{\"colorbar\":{\"outlinewidth\":0,\"ticks\":\"\"}},\"type\":\"parcoords\"}],\"pie\":[{\"automargin\":true,\"type\":\"pie\"}],\"scatter\":[{\"marker\":{\"colorbar\":{\"outlinewidth\":0,\"ticks\":\"\"}},\"type\":\"scatter\"}],\"scatter3d\":[{\"line\":{\"colorbar\":{\"outlinewidth\":0,\"ticks\":\"\"}},\"marker\":{\"colorbar\":{\"outlinewidth\":0,\"ticks\":\"\"}},\"type\":\"scatter3d\"}],\"scattercarpet\":[{\"marker\":{\"colorbar\":{\"outlinewidth\":0,\"ticks\":\"\"}},\"type\":\"scattercarpet\"}],\"scattergeo\":[{\"marker\":{\"colorbar\":{\"outlinewidth\":0,\"ticks\":\"\"}},\"type\":\"scattergeo\"}],\"scattergl\":[{\"marker\":{\"colorbar\":{\"outlinewidth\":0,\"ticks\":\"\"}},\"type\":\"scattergl\"}],\"scattermapbox\":[{\"marker\":{\"colorbar\":{\"outlinewidth\":0,\"ticks\":\"\"}},\"type\":\"scattermapbox\"}],\"scatterpolar\":[{\"marker\":{\"colorbar\":{\"outlinewidth\":0,\"ticks\":\"\"}},\"type\":\"scatterpolar\"}],\"scatterpolargl\":[{\"marker\":{\"colorbar\":{\"outlinewidth\":0,\"ticks\":\"\"}},\"type\":\"scatterpolargl\"}],\"scatterternary\":[{\"marker\":{\"colorbar\":{\"outlinewidth\":0,\"ticks\":\"\"}},\"type\":\"scatterternary\"}],\"surface\":[{\"colorbar\":{\"outlinewidth\":0,\"ticks\":\"\"},\"colorscale\":[[0.0,\"#0d0887\"],[0.1111111111111111,\"#46039f\"],[0.2222222222222222,\"#7201a8\"],[0.3333333333333333,\"#9c179e\"],[0.4444444444444444,\"#bd3786\"],[0.5555555555555556,\"#d8576b\"],[0.6666666666666666,\"#ed7953\"],[0.7777777777777778,\"#fb9f3a\"],[0.8888888888888888,\"#fdca26\"],[1.0,\"#f0f921\"]],\"type\":\"surface\"}],\"table\":[{\"cells\":{\"fill\":{\"color\":\"#EBF0F8\"},\"line\":{\"color\":\"white\"}},\"header\":{\"fill\":{\"color\":\"#C8D4E3\"},\"line\":{\"color\":\"white\"}},\"type\":\"table\"}]},\"layout\":{\"annotationdefaults\":{\"arrowcolor\":\"#2a3f5f\",\"arrowhead\":0,\"arrowwidth\":1},\"autotypenumbers\":\"strict\",\"coloraxis\":{\"colorbar\":{\"outlinewidth\":0,\"ticks\":\"\"}},\"colorscale\":{\"diverging\":[[0,\"#8e0152\"],[0.1,\"#c51b7d\"],[0.2,\"#de77ae\"],[0.3,\"#f1b6da\"],[0.4,\"#fde0ef\"],[0.5,\"#f7f7f7\"],[0.6,\"#e6f5d0\"],[0.7,\"#b8e186\"],[0.8,\"#7fbc41\"],[0.9,\"#4d9221\"],[1,\"#276419\"]],\"sequential\":[[0.0,\"#0d0887\"],[0.1111111111111111,\"#46039f\"],[0.2222222222222222,\"#7201a8\"],[0.3333333333333333,\"#9c179e\"],[0.4444444444444444,\"#bd3786\"],[0.5555555555555556,\"#d8576b\"],[0.6666666666666666,\"#ed7953\"],[0.7777777777777778,\"#fb9f3a\"],[0.8888888888888888,\"#fdca26\"],[1.0,\"#f0f921\"]],\"sequentialminus\":[[0.0,\"#0d0887\"],[0.1111111111111111,\"#46039f\"],[0.2222222222222222,\"#7201a8\"],[0.3333333333333333,\"#9c179e\"],[0.4444444444444444,\"#bd3786\"],[0.5555555555555556,\"#d8576b\"],[0.6666666666666666,\"#ed7953\"],[0.7777777777777778,\"#fb9f3a\"],[0.8888888888888888,\"#fdca26\"],[1.0,\"#f0f921\"]]},\"colorway\":[\"#636efa\",\"#EF553B\",\"#00cc96\",\"#ab63fa\",\"#FFA15A\",\"#19d3f3\",\"#FF6692\",\"#B6E880\",\"#FF97FF\",\"#FECB52\"],\"font\":{\"color\":\"#2a3f5f\"},\"geo\":{\"bgcolor\":\"white\",\"lakecolor\":\"white\",\"landcolor\":\"#E5ECF6\",\"showlakes\":true,\"showland\":true,\"subunitcolor\":\"white\"},\"hoverlabel\":{\"align\":\"left\"},\"hovermode\":\"closest\",\"mapbox\":{\"style\":\"light\"},\"paper_bgcolor\":\"white\",\"plot_bgcolor\":\"#E5ECF6\",\"polar\":{\"angularaxis\":{\"gridcolor\":\"white\",\"linecolor\":\"white\",\"ticks\":\"\"},\"bgcolor\":\"#E5ECF6\",\"radialaxis\":{\"gridcolor\":\"white\",\"linecolor\":\"white\",\"ticks\":\"\"}},\"scene\":{\"xaxis\":{\"backgroundcolor\":\"#E5ECF6\",\"gridcolor\":\"white\",\"gridwidth\":2,\"linecolor\":\"white\",\"showbackground\":true,\"ticks\":\"\",\"zerolinecolor\":\"white\"},\"yaxis\":{\"backgroundcolor\":\"#E5ECF6\",\"gridcolor\":\"white\",\"gridwidth\":2,\"linecolor\":\"white\",\"showbackground\":true,\"ticks\":\"\",\"zerolinecolor\":\"white\"},\"zaxis\":{\"backgroundcolor\":\"#E5ECF6\",\"gridcolor\":\"white\",\"gridwidth\":2,\"linecolor\":\"white\",\"showbackground\":true,\"ticks\":\"\",\"zerolinecolor\":\"white\"}},\"shapedefaults\":{\"line\":{\"color\":\"#2a3f5f\"}},\"ternary\":{\"aaxis\":{\"gridcolor\":\"white\",\"linecolor\":\"white\",\"ticks\":\"\"},\"baxis\":{\"gridcolor\":\"white\",\"linecolor\":\"white\",\"ticks\":\"\"},\"bgcolor\":\"#E5ECF6\",\"caxis\":{\"gridcolor\":\"white\",\"linecolor\":\"white\",\"ticks\":\"\"}},\"title\":{\"x\":0.05},\"xaxis\":{\"automargin\":true,\"gridcolor\":\"white\",\"linecolor\":\"white\",\"ticks\":\"\",\"title\":{\"standoff\":15},\"zerolinecolor\":\"white\",\"zerolinewidth\":2},\"yaxis\":{\"automargin\":true,\"gridcolor\":\"white\",\"linecolor\":\"white\",\"ticks\":\"\",\"title\":{\"standoff\":15},\"zerolinecolor\":\"white\",\"zerolinewidth\":2}}},\"xaxis\":{\"anchor\":\"y\",\"domain\":[0.0,1.0],\"title\":{\"text\":\"T\\u00edtulo\"},\"categoryorder\":\"array\",\"categoryarray\":[\"Cobra Kai\",\"Squid Game\",\"Virgin River\",\"Manifest\",\"Outer Banks\",\"Ginny & Georgia\",\"Lucifer\",\"The Queen\\u00e2\\u0080\\u0099s Gambit\",\"Tiger King: Murder, Mayhem \\u2026\",\"You\"]},\"yaxis\":{\"anchor\":\"x\",\"domain\":[0.0,1.0],\"title\":{\"text\":\"Dias em Primeiro Lugar\"}},\"legend\":{\"title\":{\"text\":\"T\\u00edtulo\"},\"tracegroupgap\":0},\"margin\":{\"t\":60},\"barmode\":\"relative\"},                        {\"responsive\": true}                    ).then(function(){\n",
              "                            \n",
              "var gd = document.getElementById('396662fc-9b63-4544-9867-695bf0102f19');\n",
              "var x = new MutationObserver(function (mutations, observer) {{\n",
              "        var display = window.getComputedStyle(gd).display;\n",
              "        if (!display || display === 'none') {{\n",
              "            console.log([gd, 'removed!']);\n",
              "            Plotly.purge(gd);\n",
              "            observer.disconnect();\n",
              "        }}\n",
              "}});\n",
              "\n",
              "// Listen for the removal of the full notebook cells\n",
              "var notebookContainer = gd.closest('#notebook-container');\n",
              "if (notebookContainer) {{\n",
              "    x.observe(notebookContainer, {childList: true});\n",
              "}}\n",
              "\n",
              "// Listen for the clearing of the current output cell\n",
              "var outputEl = gd.closest('.output');\n",
              "if (outputEl) {{\n",
              "    x.observe(outputEl, {childList: true});\n",
              "}}\n",
              "\n",
              "                        })                };                            </script>        </div>\n",
              "</body>\n",
              "</html>"
            ]
          },
          "metadata": {}
        }
      ]
    }
  ]
}