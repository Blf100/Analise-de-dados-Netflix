{
  "nbformat": 4,
  "nbformat_minor": 0,
  "metadata": {
    "colab": {
      "provenance": [],
      "collapsed_sections": [],
      "mount_file_id": "1K-Cxpz9I4yg5mJ4uIlZYmpduxv0ZiaZz",
      "authorship_tag": "ABX9TyOPc0Ibc8NClL68xAy9BqER",
      "include_colab_link": true
    },
    "kernelspec": {
      "name": "python3",
      "display_name": "Python 3"
    },
    "language_info": {
      "name": "python"
    }
  },
  "cells": [
    {
      "cell_type": "markdown",
      "metadata": {
        "id": "view-in-github",
        "colab_type": "text"
      },
      "source": [
        "<a href=\"https://colab.research.google.com/github/Blf100/Analise-de-dados-Netflix/blob/main/Netflix.ipynb\" target=\"_parent\"><img src=\"https://colab.research.google.com/assets/colab-badge.svg\" alt=\"Open In Colab\"/></a>"
      ]
    },
    {
      "cell_type": "markdown",
      "source": [
        "# Análise de Dados Netflix\n",
        "\n",
        "O dataset utilizado nessa análise apresenta informações das 10 atrações mais assistidas por dia no serviço de streaming Netflix."
      ],
      "metadata": {
        "id": "9djHTyJGlvx8"
      }
    },
    {
      "cell_type": "markdown",
      "source": [
        "### Importando as Bibliotecas"
      ],
      "metadata": {
        "id": "b2Y5GD3vl3c6"
      }
    },
    {
      "cell_type": "code",
      "source": [
        "import pandas as pd\n",
        "import numpy as np\n",
        "import matplotlib.pyplot as plt\n",
        "import seaborn as sn\n",
        "import warnings\n",
        "warnings.filterwarnings(\"ignore\")"
      ],
      "metadata": {
        "id": "oj1Xex76l2XS"
      },
      "execution_count": 78,
      "outputs": []
    },
    {
      "cell_type": "markdown",
      "source": [
        "### Importando os Dados"
      ],
      "metadata": {
        "id": "Ka_m42GMmmQ7"
      }
    },
    {
      "cell_type": "code",
      "source": [
        "base = pd.read_csv('/content/drive/MyDrive/Colab Notebooks/Datasets/netflix daily top 10.csv')"
      ],
      "metadata": {
        "id": "zL3S7cdxmixr"
      },
      "execution_count": 32,
      "outputs": []
    },
    {
      "cell_type": "markdown",
      "source": [
        "### Primeiras Impressões Sobre os Dados"
      ],
      "metadata": {
        "id": "PSrSuvLInJM4"
      }
    },
    {
      "cell_type": "code",
      "source": [
        "# Primeiras Linhas do Dataset\n",
        "base.head(5)"
      ],
      "metadata": {
        "id": "iHfOmHMVngCw",
        "colab": {
          "base_uri": "https://localhost:8080/",
          "height": 354
        },
        "outputId": "16d6279a-9372-413e-9dda-13a17e084543"
      },
      "execution_count": 33,
      "outputs": [
        {
          "output_type": "execute_result",
          "data": {
            "text/plain": [
              "        As of  Rank Year to Date Rank Last Week Rank  \\\n",
              "0  2020-04-01     1                 1              1   \n",
              "1  2020-04-01     2                 2              -   \n",
              "2  2020-04-01     3                 3              2   \n",
              "3  2020-04-01     4                 4              -   \n",
              "4  2020-04-01     5                 5              4   \n",
              "\n",
              "                          Title     Type Netflix Exclusive  \\\n",
              "0  Tiger King: Murder, Mayhem …  TV Show               Yes   \n",
              "1                         Ozark  TV Show               Yes   \n",
              "2                  All American  TV Show               NaN   \n",
              "3                  Blood Father    Movie               NaN   \n",
              "4                  The Platform    Movie               Yes   \n",
              "\n",
              "  Netflix Release Date  Days In Top 10  Viewership Score  \n",
              "0         Mar 20, 2020               9                90  \n",
              "1         Jul 21, 2017               5                45  \n",
              "2         Mar 28, 2019               9                76  \n",
              "3         Mar 26, 2020               5                30  \n",
              "4         Mar 20, 2020               9                55  "
            ],
            "text/html": [
              "\n",
              "  <div id=\"df-10b6409e-12ec-48e8-957a-0f08b8002494\">\n",
              "    <div class=\"colab-df-container\">\n",
              "      <div>\n",
              "<style scoped>\n",
              "    .dataframe tbody tr th:only-of-type {\n",
              "        vertical-align: middle;\n",
              "    }\n",
              "\n",
              "    .dataframe tbody tr th {\n",
              "        vertical-align: top;\n",
              "    }\n",
              "\n",
              "    .dataframe thead th {\n",
              "        text-align: right;\n",
              "    }\n",
              "</style>\n",
              "<table border=\"1\" class=\"dataframe\">\n",
              "  <thead>\n",
              "    <tr style=\"text-align: right;\">\n",
              "      <th></th>\n",
              "      <th>As of</th>\n",
              "      <th>Rank</th>\n",
              "      <th>Year to Date Rank</th>\n",
              "      <th>Last Week Rank</th>\n",
              "      <th>Title</th>\n",
              "      <th>Type</th>\n",
              "      <th>Netflix Exclusive</th>\n",
              "      <th>Netflix Release Date</th>\n",
              "      <th>Days In Top 10</th>\n",
              "      <th>Viewership Score</th>\n",
              "    </tr>\n",
              "  </thead>\n",
              "  <tbody>\n",
              "    <tr>\n",
              "      <th>0</th>\n",
              "      <td>2020-04-01</td>\n",
              "      <td>1</td>\n",
              "      <td>1</td>\n",
              "      <td>1</td>\n",
              "      <td>Tiger King: Murder, Mayhem …</td>\n",
              "      <td>TV Show</td>\n",
              "      <td>Yes</td>\n",
              "      <td>Mar 20, 2020</td>\n",
              "      <td>9</td>\n",
              "      <td>90</td>\n",
              "    </tr>\n",
              "    <tr>\n",
              "      <th>1</th>\n",
              "      <td>2020-04-01</td>\n",
              "      <td>2</td>\n",
              "      <td>2</td>\n",
              "      <td>-</td>\n",
              "      <td>Ozark</td>\n",
              "      <td>TV Show</td>\n",
              "      <td>Yes</td>\n",
              "      <td>Jul 21, 2017</td>\n",
              "      <td>5</td>\n",
              "      <td>45</td>\n",
              "    </tr>\n",
              "    <tr>\n",
              "      <th>2</th>\n",
              "      <td>2020-04-01</td>\n",
              "      <td>3</td>\n",
              "      <td>3</td>\n",
              "      <td>2</td>\n",
              "      <td>All American</td>\n",
              "      <td>TV Show</td>\n",
              "      <td>NaN</td>\n",
              "      <td>Mar 28, 2019</td>\n",
              "      <td>9</td>\n",
              "      <td>76</td>\n",
              "    </tr>\n",
              "    <tr>\n",
              "      <th>3</th>\n",
              "      <td>2020-04-01</td>\n",
              "      <td>4</td>\n",
              "      <td>4</td>\n",
              "      <td>-</td>\n",
              "      <td>Blood Father</td>\n",
              "      <td>Movie</td>\n",
              "      <td>NaN</td>\n",
              "      <td>Mar 26, 2020</td>\n",
              "      <td>5</td>\n",
              "      <td>30</td>\n",
              "    </tr>\n",
              "    <tr>\n",
              "      <th>4</th>\n",
              "      <td>2020-04-01</td>\n",
              "      <td>5</td>\n",
              "      <td>5</td>\n",
              "      <td>4</td>\n",
              "      <td>The Platform</td>\n",
              "      <td>Movie</td>\n",
              "      <td>Yes</td>\n",
              "      <td>Mar 20, 2020</td>\n",
              "      <td>9</td>\n",
              "      <td>55</td>\n",
              "    </tr>\n",
              "  </tbody>\n",
              "</table>\n",
              "</div>\n",
              "      <button class=\"colab-df-convert\" onclick=\"convertToInteractive('df-10b6409e-12ec-48e8-957a-0f08b8002494')\"\n",
              "              title=\"Convert this dataframe to an interactive table.\"\n",
              "              style=\"display:none;\">\n",
              "        \n",
              "  <svg xmlns=\"http://www.w3.org/2000/svg\" height=\"24px\"viewBox=\"0 0 24 24\"\n",
              "       width=\"24px\">\n",
              "    <path d=\"M0 0h24v24H0V0z\" fill=\"none\"/>\n",
              "    <path d=\"M18.56 5.44l.94 2.06.94-2.06 2.06-.94-2.06-.94-.94-2.06-.94 2.06-2.06.94zm-11 1L8.5 8.5l.94-2.06 2.06-.94-2.06-.94L8.5 2.5l-.94 2.06-2.06.94zm10 10l.94 2.06.94-2.06 2.06-.94-2.06-.94-.94-2.06-.94 2.06-2.06.94z\"/><path d=\"M17.41 7.96l-1.37-1.37c-.4-.4-.92-.59-1.43-.59-.52 0-1.04.2-1.43.59L10.3 9.45l-7.72 7.72c-.78.78-.78 2.05 0 2.83L4 21.41c.39.39.9.59 1.41.59.51 0 1.02-.2 1.41-.59l7.78-7.78 2.81-2.81c.8-.78.8-2.07 0-2.86zM5.41 20L4 18.59l7.72-7.72 1.47 1.35L5.41 20z\"/>\n",
              "  </svg>\n",
              "      </button>\n",
              "      \n",
              "  <style>\n",
              "    .colab-df-container {\n",
              "      display:flex;\n",
              "      flex-wrap:wrap;\n",
              "      gap: 12px;\n",
              "    }\n",
              "\n",
              "    .colab-df-convert {\n",
              "      background-color: #E8F0FE;\n",
              "      border: none;\n",
              "      border-radius: 50%;\n",
              "      cursor: pointer;\n",
              "      display: none;\n",
              "      fill: #1967D2;\n",
              "      height: 32px;\n",
              "      padding: 0 0 0 0;\n",
              "      width: 32px;\n",
              "    }\n",
              "\n",
              "    .colab-df-convert:hover {\n",
              "      background-color: #E2EBFA;\n",
              "      box-shadow: 0px 1px 2px rgba(60, 64, 67, 0.3), 0px 1px 3px 1px rgba(60, 64, 67, 0.15);\n",
              "      fill: #174EA6;\n",
              "    }\n",
              "\n",
              "    [theme=dark] .colab-df-convert {\n",
              "      background-color: #3B4455;\n",
              "      fill: #D2E3FC;\n",
              "    }\n",
              "\n",
              "    [theme=dark] .colab-df-convert:hover {\n",
              "      background-color: #434B5C;\n",
              "      box-shadow: 0px 1px 3px 1px rgba(0, 0, 0, 0.15);\n",
              "      filter: drop-shadow(0px 1px 2px rgba(0, 0, 0, 0.3));\n",
              "      fill: #FFFFFF;\n",
              "    }\n",
              "  </style>\n",
              "\n",
              "      <script>\n",
              "        const buttonEl =\n",
              "          document.querySelector('#df-10b6409e-12ec-48e8-957a-0f08b8002494 button.colab-df-convert');\n",
              "        buttonEl.style.display =\n",
              "          google.colab.kernel.accessAllowed ? 'block' : 'none';\n",
              "\n",
              "        async function convertToInteractive(key) {\n",
              "          const element = document.querySelector('#df-10b6409e-12ec-48e8-957a-0f08b8002494');\n",
              "          const dataTable =\n",
              "            await google.colab.kernel.invokeFunction('convertToInteractive',\n",
              "                                                     [key], {});\n",
              "          if (!dataTable) return;\n",
              "\n",
              "          const docLinkHtml = 'Like what you see? Visit the ' +\n",
              "            '<a target=\"_blank\" href=https://colab.research.google.com/notebooks/data_table.ipynb>data table notebook</a>'\n",
              "            + ' to learn more about interactive tables.';\n",
              "          element.innerHTML = '';\n",
              "          dataTable['output_type'] = 'display_data';\n",
              "          await google.colab.output.renderOutput(dataTable, element);\n",
              "          const docLink = document.createElement('div');\n",
              "          docLink.innerHTML = docLinkHtml;\n",
              "          element.appendChild(docLink);\n",
              "        }\n",
              "      </script>\n",
              "    </div>\n",
              "  </div>\n",
              "  "
            ]
          },
          "metadata": {},
          "execution_count": 33
        }
      ]
    },
    {
      "cell_type": "code",
      "source": [
        "# Ultimas Linhas do Dataset\n",
        "base.tail()"
      ],
      "metadata": {
        "id": "0MKT_Zz6npNP",
        "colab": {
          "base_uri": "https://localhost:8080/",
          "height": 354
        },
        "outputId": "85026aa6-b492-4c04-86f0-03fe6448915b"
      },
      "execution_count": 34,
      "outputs": [
        {
          "output_type": "execute_result",
          "data": {
            "text/plain": [
              "           As of  Rank Year to Date Rank Last Week Rank                Title  \\\n",
              "7095  2022-03-11     6                 5              1  Worst Roommate Ever   \n",
              "7096  2022-03-11     7                 7              2    Vikings: Valhalla   \n",
              "7097  2022-03-11     8                 8              -              Shooter   \n",
              "7098  2022-03-11     9                 9              7              Shrek 2   \n",
              "7099  2022-03-11    10                10              -                Shrek   \n",
              "\n",
              "         Type Netflix Exclusive Netflix Release Date  Days In Top 10  \\\n",
              "7095  TV Show               Yes          Mar 1, 2022              10   \n",
              "7096  TV Show               Yes         Feb 25, 2022              14   \n",
              "7097    Movie               NaN          Aug 1, 2014               3   \n",
              "7098    Movie               NaN          Mar 1, 2022              10   \n",
              "7099    Movie               NaN          May 1, 2018               7   \n",
              "\n",
              "      Viewership Score  \n",
              "7095                81  \n",
              "7096               100  \n",
              "7097                 7  \n",
              "7098                33  \n",
              "7099                12  "
            ],
            "text/html": [
              "\n",
              "  <div id=\"df-12a0df0e-630e-4a14-b1d4-fda8910e6c3f\">\n",
              "    <div class=\"colab-df-container\">\n",
              "      <div>\n",
              "<style scoped>\n",
              "    .dataframe tbody tr th:only-of-type {\n",
              "        vertical-align: middle;\n",
              "    }\n",
              "\n",
              "    .dataframe tbody tr th {\n",
              "        vertical-align: top;\n",
              "    }\n",
              "\n",
              "    .dataframe thead th {\n",
              "        text-align: right;\n",
              "    }\n",
              "</style>\n",
              "<table border=\"1\" class=\"dataframe\">\n",
              "  <thead>\n",
              "    <tr style=\"text-align: right;\">\n",
              "      <th></th>\n",
              "      <th>As of</th>\n",
              "      <th>Rank</th>\n",
              "      <th>Year to Date Rank</th>\n",
              "      <th>Last Week Rank</th>\n",
              "      <th>Title</th>\n",
              "      <th>Type</th>\n",
              "      <th>Netflix Exclusive</th>\n",
              "      <th>Netflix Release Date</th>\n",
              "      <th>Days In Top 10</th>\n",
              "      <th>Viewership Score</th>\n",
              "    </tr>\n",
              "  </thead>\n",
              "  <tbody>\n",
              "    <tr>\n",
              "      <th>7095</th>\n",
              "      <td>2022-03-11</td>\n",
              "      <td>6</td>\n",
              "      <td>5</td>\n",
              "      <td>1</td>\n",
              "      <td>Worst Roommate Ever</td>\n",
              "      <td>TV Show</td>\n",
              "      <td>Yes</td>\n",
              "      <td>Mar 1, 2022</td>\n",
              "      <td>10</td>\n",
              "      <td>81</td>\n",
              "    </tr>\n",
              "    <tr>\n",
              "      <th>7096</th>\n",
              "      <td>2022-03-11</td>\n",
              "      <td>7</td>\n",
              "      <td>7</td>\n",
              "      <td>2</td>\n",
              "      <td>Vikings: Valhalla</td>\n",
              "      <td>TV Show</td>\n",
              "      <td>Yes</td>\n",
              "      <td>Feb 25, 2022</td>\n",
              "      <td>14</td>\n",
              "      <td>100</td>\n",
              "    </tr>\n",
              "    <tr>\n",
              "      <th>7097</th>\n",
              "      <td>2022-03-11</td>\n",
              "      <td>8</td>\n",
              "      <td>8</td>\n",
              "      <td>-</td>\n",
              "      <td>Shooter</td>\n",
              "      <td>Movie</td>\n",
              "      <td>NaN</td>\n",
              "      <td>Aug 1, 2014</td>\n",
              "      <td>3</td>\n",
              "      <td>7</td>\n",
              "    </tr>\n",
              "    <tr>\n",
              "      <th>7098</th>\n",
              "      <td>2022-03-11</td>\n",
              "      <td>9</td>\n",
              "      <td>9</td>\n",
              "      <td>7</td>\n",
              "      <td>Shrek 2</td>\n",
              "      <td>Movie</td>\n",
              "      <td>NaN</td>\n",
              "      <td>Mar 1, 2022</td>\n",
              "      <td>10</td>\n",
              "      <td>33</td>\n",
              "    </tr>\n",
              "    <tr>\n",
              "      <th>7099</th>\n",
              "      <td>2022-03-11</td>\n",
              "      <td>10</td>\n",
              "      <td>10</td>\n",
              "      <td>-</td>\n",
              "      <td>Shrek</td>\n",
              "      <td>Movie</td>\n",
              "      <td>NaN</td>\n",
              "      <td>May 1, 2018</td>\n",
              "      <td>7</td>\n",
              "      <td>12</td>\n",
              "    </tr>\n",
              "  </tbody>\n",
              "</table>\n",
              "</div>\n",
              "      <button class=\"colab-df-convert\" onclick=\"convertToInteractive('df-12a0df0e-630e-4a14-b1d4-fda8910e6c3f')\"\n",
              "              title=\"Convert this dataframe to an interactive table.\"\n",
              "              style=\"display:none;\">\n",
              "        \n",
              "  <svg xmlns=\"http://www.w3.org/2000/svg\" height=\"24px\"viewBox=\"0 0 24 24\"\n",
              "       width=\"24px\">\n",
              "    <path d=\"M0 0h24v24H0V0z\" fill=\"none\"/>\n",
              "    <path d=\"M18.56 5.44l.94 2.06.94-2.06 2.06-.94-2.06-.94-.94-2.06-.94 2.06-2.06.94zm-11 1L8.5 8.5l.94-2.06 2.06-.94-2.06-.94L8.5 2.5l-.94 2.06-2.06.94zm10 10l.94 2.06.94-2.06 2.06-.94-2.06-.94-.94-2.06-.94 2.06-2.06.94z\"/><path d=\"M17.41 7.96l-1.37-1.37c-.4-.4-.92-.59-1.43-.59-.52 0-1.04.2-1.43.59L10.3 9.45l-7.72 7.72c-.78.78-.78 2.05 0 2.83L4 21.41c.39.39.9.59 1.41.59.51 0 1.02-.2 1.41-.59l7.78-7.78 2.81-2.81c.8-.78.8-2.07 0-2.86zM5.41 20L4 18.59l7.72-7.72 1.47 1.35L5.41 20z\"/>\n",
              "  </svg>\n",
              "      </button>\n",
              "      \n",
              "  <style>\n",
              "    .colab-df-container {\n",
              "      display:flex;\n",
              "      flex-wrap:wrap;\n",
              "      gap: 12px;\n",
              "    }\n",
              "\n",
              "    .colab-df-convert {\n",
              "      background-color: #E8F0FE;\n",
              "      border: none;\n",
              "      border-radius: 50%;\n",
              "      cursor: pointer;\n",
              "      display: none;\n",
              "      fill: #1967D2;\n",
              "      height: 32px;\n",
              "      padding: 0 0 0 0;\n",
              "      width: 32px;\n",
              "    }\n",
              "\n",
              "    .colab-df-convert:hover {\n",
              "      background-color: #E2EBFA;\n",
              "      box-shadow: 0px 1px 2px rgba(60, 64, 67, 0.3), 0px 1px 3px 1px rgba(60, 64, 67, 0.15);\n",
              "      fill: #174EA6;\n",
              "    }\n",
              "\n",
              "    [theme=dark] .colab-df-convert {\n",
              "      background-color: #3B4455;\n",
              "      fill: #D2E3FC;\n",
              "    }\n",
              "\n",
              "    [theme=dark] .colab-df-convert:hover {\n",
              "      background-color: #434B5C;\n",
              "      box-shadow: 0px 1px 3px 1px rgba(0, 0, 0, 0.15);\n",
              "      filter: drop-shadow(0px 1px 2px rgba(0, 0, 0, 0.3));\n",
              "      fill: #FFFFFF;\n",
              "    }\n",
              "  </style>\n",
              "\n",
              "      <script>\n",
              "        const buttonEl =\n",
              "          document.querySelector('#df-12a0df0e-630e-4a14-b1d4-fda8910e6c3f button.colab-df-convert');\n",
              "        buttonEl.style.display =\n",
              "          google.colab.kernel.accessAllowed ? 'block' : 'none';\n",
              "\n",
              "        async function convertToInteractive(key) {\n",
              "          const element = document.querySelector('#df-12a0df0e-630e-4a14-b1d4-fda8910e6c3f');\n",
              "          const dataTable =\n",
              "            await google.colab.kernel.invokeFunction('convertToInteractive',\n",
              "                                                     [key], {});\n",
              "          if (!dataTable) return;\n",
              "\n",
              "          const docLinkHtml = 'Like what you see? Visit the ' +\n",
              "            '<a target=\"_blank\" href=https://colab.research.google.com/notebooks/data_table.ipynb>data table notebook</a>'\n",
              "            + ' to learn more about interactive tables.';\n",
              "          element.innerHTML = '';\n",
              "          dataTable['output_type'] = 'display_data';\n",
              "          await google.colab.output.renderOutput(dataTable, element);\n",
              "          const docLink = document.createElement('div');\n",
              "          docLink.innerHTML = docLinkHtml;\n",
              "          element.appendChild(docLink);\n",
              "        }\n",
              "      </script>\n",
              "    </div>\n",
              "  </div>\n",
              "  "
            ]
          },
          "metadata": {},
          "execution_count": 34
        }
      ]
    },
    {
      "cell_type": "code",
      "source": [
        "# Alterando Nome das Colunas\n",
        "base.columns = ['A partir de', 'Classificacao', 'Classificacao do ano ate a data', 'Classificacao da ultima semana', 'Titulo', 'Tipo',\n",
        "       'Exclusivo Netflix', 'Data de lancamento Netflix', 'Dias no Top 10',\n",
        "       'Pontuacao de audiencia']"
      ],
      "metadata": {
        "id": "EmLCRPHEy8a_"
      },
      "execution_count": 35,
      "outputs": []
    },
    {
      "cell_type": "code",
      "source": [
        "# Tamanho do Dataset\n",
        "base.shape"
      ],
      "metadata": {
        "id": "P0VWANlyn0qp",
        "colab": {
          "base_uri": "https://localhost:8080/"
        },
        "outputId": "785cd26b-1472-4430-b24c-f84b865f391a"
      },
      "execution_count": 36,
      "outputs": [
        {
          "output_type": "execute_result",
          "data": {
            "text/plain": [
              "(7100, 10)"
            ]
          },
          "metadata": {},
          "execution_count": 36
        }
      ]
    },
    {
      "cell_type": "code",
      "source": [
        "# Informações Gerais Sobre o Dataset\n",
        "base.info()"
      ],
      "metadata": {
        "colab": {
          "base_uri": "https://localhost:8080/"
        },
        "id": "9sDrkt31n_qY",
        "outputId": "7ec6f621-cf30-4582-a366-f75ac4b444d5"
      },
      "execution_count": 37,
      "outputs": [
        {
          "output_type": "stream",
          "name": "stdout",
          "text": [
            "<class 'pandas.core.frame.DataFrame'>\n",
            "RangeIndex: 7100 entries, 0 to 7099\n",
            "Data columns (total 10 columns):\n",
            " #   Column                           Non-Null Count  Dtype \n",
            "---  ------                           --------------  ----- \n",
            " 0   A partir de                      7100 non-null   object\n",
            " 1   Classificacao                    7100 non-null   int64 \n",
            " 2   Classificacao do ano ate a data  7100 non-null   object\n",
            " 3   Classificacao da ultima semana   7100 non-null   object\n",
            " 4   Titulo                           7100 non-null   object\n",
            " 5   Tipo                             7100 non-null   object\n",
            " 6   Exclusivo Netflix                4599 non-null   object\n",
            " 7   Data de lancamento Netflix       7100 non-null   object\n",
            " 8   Dias no Top 10                   7100 non-null   int64 \n",
            " 9   Pontuacao de audiencia           7100 non-null   int64 \n",
            "dtypes: int64(3), object(7)\n",
            "memory usage: 554.8+ KB\n"
          ]
        }
      ]
    },
    {
      "cell_type": "code",
      "source": [
        "# Contando Valores Nulos\n",
        "base.isnull().sum()"
      ],
      "metadata": {
        "colab": {
          "base_uri": "https://localhost:8080/"
        },
        "id": "g-1QUAIlpqHm",
        "outputId": "a945add4-4794-4ed8-b28f-e9882218bb3f"
      },
      "execution_count": 38,
      "outputs": [
        {
          "output_type": "execute_result",
          "data": {
            "text/plain": [
              "A partir de                           0\n",
              "Classificacao                         0\n",
              "Classificacao do ano ate a data       0\n",
              "Classificacao da ultima semana        0\n",
              "Titulo                                0\n",
              "Tipo                                  0\n",
              "Exclusivo Netflix                  2501\n",
              "Data de lancamento Netflix            0\n",
              "Dias no Top 10                        0\n",
              "Pontuacao de audiencia                0\n",
              "dtype: int64"
            ]
          },
          "metadata": {},
          "execution_count": 38
        }
      ]
    },
    {
      "cell_type": "markdown",
      "source": [
        "#### Limpeza e tratamento dos dados"
      ],
      "metadata": {
        "id": "TvhsqgZcQJex"
      }
    },
    {
      "cell_type": "code",
      "source": [
        "# Etendendo os Valores Nulos da Coluna Netflix Exclusive\n",
        "base['Exclusivo Netflix'].value_counts()"
      ],
      "metadata": {
        "colab": {
          "base_uri": "https://localhost:8080/"
        },
        "id": "8-4W334Wq4eN",
        "outputId": "39882281-2e63-489c-9e43-4178ea93b3a8"
      },
      "execution_count": 39,
      "outputs": [
        {
          "output_type": "execute_result",
          "data": {
            "text/plain": [
              "Yes    4599\n",
              "Name: Exclusivo Netflix, dtype: int64"
            ]
          },
          "metadata": {},
          "execution_count": 39
        }
      ]
    },
    {
      "cell_type": "code",
      "source": [
        "# Tratando Valores Ausentes\n",
        "base['Exclusivo Netflix'].fillna('Not', inplace= True)"
      ],
      "metadata": {
        "id": "4zfnqXSRG5D7"
      },
      "execution_count": 40,
      "outputs": []
    },
    {
      "cell_type": "code",
      "source": [
        "# Ecluindo colunas indesejadas\n",
        "base.drop(columns=['A partir de', 'Classificacao do ano ate a data', 'Classificacao da ultima semana', 'Data de lancamento Netflix'], inplace=True)"
      ],
      "metadata": {
        "id": "UyslgFuaF6x_"
      },
      "execution_count": 43,
      "outputs": []
    },
    {
      "cell_type": "markdown",
      "source": [
        "### Estatísticas Descritivas"
      ],
      "metadata": {
        "id": "Ugur6Z3fxgyp"
      }
    },
    {
      "cell_type": "markdown",
      "source": [
        "#### Resumo dos dados"
      ],
      "metadata": {
        "id": "9351dud8Qhz4"
      }
    },
    {
      "cell_type": "code",
      "source": [
        "base.describe()"
      ],
      "metadata": {
        "colab": {
          "base_uri": "https://localhost:8080/",
          "height": 300
        },
        "id": "RiQsQ_gNswTs",
        "outputId": "455ef5ac-b3e4-4218-a0d4-4d50eaba90d6"
      },
      "execution_count": 44,
      "outputs": [
        {
          "output_type": "execute_result",
          "data": {
            "text/plain": [
              "       Classificacao  Dias no Top 10  Pontuacao de audiencia\n",
              "count    7100.000000     7100.000000             7100.000000\n",
              "mean        5.500000       24.123662              122.790141\n",
              "std         2.872484       58.473789              213.861642\n",
              "min         1.000000        1.000000                1.000000\n",
              "25%         3.000000        3.000000               19.000000\n",
              "50%         5.500000        7.000000               50.000000\n",
              "75%         8.000000       18.000000              128.000000\n",
              "max        10.000000      428.000000             1474.000000"
            ],
            "text/html": [
              "\n",
              "  <div id=\"df-bcb8173d-5ce2-4a4a-8ce3-01e2a97cf79e\">\n",
              "    <div class=\"colab-df-container\">\n",
              "      <div>\n",
              "<style scoped>\n",
              "    .dataframe tbody tr th:only-of-type {\n",
              "        vertical-align: middle;\n",
              "    }\n",
              "\n",
              "    .dataframe tbody tr th {\n",
              "        vertical-align: top;\n",
              "    }\n",
              "\n",
              "    .dataframe thead th {\n",
              "        text-align: right;\n",
              "    }\n",
              "</style>\n",
              "<table border=\"1\" class=\"dataframe\">\n",
              "  <thead>\n",
              "    <tr style=\"text-align: right;\">\n",
              "      <th></th>\n",
              "      <th>Classificacao</th>\n",
              "      <th>Dias no Top 10</th>\n",
              "      <th>Pontuacao de audiencia</th>\n",
              "    </tr>\n",
              "  </thead>\n",
              "  <tbody>\n",
              "    <tr>\n",
              "      <th>count</th>\n",
              "      <td>7100.000000</td>\n",
              "      <td>7100.000000</td>\n",
              "      <td>7100.000000</td>\n",
              "    </tr>\n",
              "    <tr>\n",
              "      <th>mean</th>\n",
              "      <td>5.500000</td>\n",
              "      <td>24.123662</td>\n",
              "      <td>122.790141</td>\n",
              "    </tr>\n",
              "    <tr>\n",
              "      <th>std</th>\n",
              "      <td>2.872484</td>\n",
              "      <td>58.473789</td>\n",
              "      <td>213.861642</td>\n",
              "    </tr>\n",
              "    <tr>\n",
              "      <th>min</th>\n",
              "      <td>1.000000</td>\n",
              "      <td>1.000000</td>\n",
              "      <td>1.000000</td>\n",
              "    </tr>\n",
              "    <tr>\n",
              "      <th>25%</th>\n",
              "      <td>3.000000</td>\n",
              "      <td>3.000000</td>\n",
              "      <td>19.000000</td>\n",
              "    </tr>\n",
              "    <tr>\n",
              "      <th>50%</th>\n",
              "      <td>5.500000</td>\n",
              "      <td>7.000000</td>\n",
              "      <td>50.000000</td>\n",
              "    </tr>\n",
              "    <tr>\n",
              "      <th>75%</th>\n",
              "      <td>8.000000</td>\n",
              "      <td>18.000000</td>\n",
              "      <td>128.000000</td>\n",
              "    </tr>\n",
              "    <tr>\n",
              "      <th>max</th>\n",
              "      <td>10.000000</td>\n",
              "      <td>428.000000</td>\n",
              "      <td>1474.000000</td>\n",
              "    </tr>\n",
              "  </tbody>\n",
              "</table>\n",
              "</div>\n",
              "      <button class=\"colab-df-convert\" onclick=\"convertToInteractive('df-bcb8173d-5ce2-4a4a-8ce3-01e2a97cf79e')\"\n",
              "              title=\"Convert this dataframe to an interactive table.\"\n",
              "              style=\"display:none;\">\n",
              "        \n",
              "  <svg xmlns=\"http://www.w3.org/2000/svg\" height=\"24px\"viewBox=\"0 0 24 24\"\n",
              "       width=\"24px\">\n",
              "    <path d=\"M0 0h24v24H0V0z\" fill=\"none\"/>\n",
              "    <path d=\"M18.56 5.44l.94 2.06.94-2.06 2.06-.94-2.06-.94-.94-2.06-.94 2.06-2.06.94zm-11 1L8.5 8.5l.94-2.06 2.06-.94-2.06-.94L8.5 2.5l-.94 2.06-2.06.94zm10 10l.94 2.06.94-2.06 2.06-.94-2.06-.94-.94-2.06-.94 2.06-2.06.94z\"/><path d=\"M17.41 7.96l-1.37-1.37c-.4-.4-.92-.59-1.43-.59-.52 0-1.04.2-1.43.59L10.3 9.45l-7.72 7.72c-.78.78-.78 2.05 0 2.83L4 21.41c.39.39.9.59 1.41.59.51 0 1.02-.2 1.41-.59l7.78-7.78 2.81-2.81c.8-.78.8-2.07 0-2.86zM5.41 20L4 18.59l7.72-7.72 1.47 1.35L5.41 20z\"/>\n",
              "  </svg>\n",
              "      </button>\n",
              "      \n",
              "  <style>\n",
              "    .colab-df-container {\n",
              "      display:flex;\n",
              "      flex-wrap:wrap;\n",
              "      gap: 12px;\n",
              "    }\n",
              "\n",
              "    .colab-df-convert {\n",
              "      background-color: #E8F0FE;\n",
              "      border: none;\n",
              "      border-radius: 50%;\n",
              "      cursor: pointer;\n",
              "      display: none;\n",
              "      fill: #1967D2;\n",
              "      height: 32px;\n",
              "      padding: 0 0 0 0;\n",
              "      width: 32px;\n",
              "    }\n",
              "\n",
              "    .colab-df-convert:hover {\n",
              "      background-color: #E2EBFA;\n",
              "      box-shadow: 0px 1px 2px rgba(60, 64, 67, 0.3), 0px 1px 3px 1px rgba(60, 64, 67, 0.15);\n",
              "      fill: #174EA6;\n",
              "    }\n",
              "\n",
              "    [theme=dark] .colab-df-convert {\n",
              "      background-color: #3B4455;\n",
              "      fill: #D2E3FC;\n",
              "    }\n",
              "\n",
              "    [theme=dark] .colab-df-convert:hover {\n",
              "      background-color: #434B5C;\n",
              "      box-shadow: 0px 1px 3px 1px rgba(0, 0, 0, 0.15);\n",
              "      filter: drop-shadow(0px 1px 2px rgba(0, 0, 0, 0.3));\n",
              "      fill: #FFFFFF;\n",
              "    }\n",
              "  </style>\n",
              "\n",
              "      <script>\n",
              "        const buttonEl =\n",
              "          document.querySelector('#df-bcb8173d-5ce2-4a4a-8ce3-01e2a97cf79e button.colab-df-convert');\n",
              "        buttonEl.style.display =\n",
              "          google.colab.kernel.accessAllowed ? 'block' : 'none';\n",
              "\n",
              "        async function convertToInteractive(key) {\n",
              "          const element = document.querySelector('#df-bcb8173d-5ce2-4a4a-8ce3-01e2a97cf79e');\n",
              "          const dataTable =\n",
              "            await google.colab.kernel.invokeFunction('convertToInteractive',\n",
              "                                                     [key], {});\n",
              "          if (!dataTable) return;\n",
              "\n",
              "          const docLinkHtml = 'Like what you see? Visit the ' +\n",
              "            '<a target=\"_blank\" href=https://colab.research.google.com/notebooks/data_table.ipynb>data table notebook</a>'\n",
              "            + ' to learn more about interactive tables.';\n",
              "          element.innerHTML = '';\n",
              "          dataTable['output_type'] = 'display_data';\n",
              "          await google.colab.output.renderOutput(dataTable, element);\n",
              "          const docLink = document.createElement('div');\n",
              "          docLink.innerHTML = docLinkHtml;\n",
              "          element.appendChild(docLink);\n",
              "        }\n",
              "      </script>\n",
              "    </div>\n",
              "  </div>\n",
              "  "
            ]
          },
          "metadata": {},
          "execution_count": 44
        }
      ]
    },
    {
      "cell_type": "markdown",
      "source": [
        "#### Histograma da variável Dias no Top 10"
      ],
      "metadata": {
        "id": "BBctsVGFQlJw"
      }
    },
    {
      "cell_type": "code",
      "source": [
        "# Histograma Dias no Top 10\n",
        "sns.histplot(base, x='Dias no Top 10');"
      ],
      "metadata": {
        "id": "PCMN-wG-Q7x3",
        "colab": {
          "base_uri": "https://localhost:8080/",
          "height": 279
        },
        "outputId": "2e1f723c-ddf2-4fb9-9210-73e27127453e"
      },
      "execution_count": 79,
      "outputs": [
        {
          "output_type": "display_data",
          "data": {
            "text/plain": [
              "<Figure size 432x288 with 1 Axes>"
            ],
            "image/png": "[encoded data removed]"
          },
          "metadata": {
            "needs_background": "light"
          }
        }
      ]
    },
    {
      "cell_type": "markdown",
      "source": [
        "#### Histograma da variável Pontuação de Audiência"
      ],
      "metadata": {
        "id": "_zsIDUGyRKGW"
      }
    },
    {
      "cell_type": "code",
      "source": [
        "sns.histplot(base, x='Pontuacao de audiencia');"
      ],
      "metadata": {
        "colab": {
          "base_uri": "https://localhost:8080/",
          "height": 279
        },
        "id": "ysJig_s6RSrn",
        "outputId": "e0b8b583-e523-43b0-9302-df8f3f8bff82"
      },
      "execution_count": 53,
      "outputs": [
        {
          "output_type": "display_data",
          "data": {
            "text/plain": [
              "<Figure size 432x288 with 1 Axes>"
            ],
            "image/png": "[encoded data removed]"
          },
          "metadata": {
            "needs_background": "light"
          }
        }
      ]
    },
    {
      "cell_type": "markdown",
      "source": [
        "#### Boxplot da variável Pontuação de Audiência"
      ],
      "metadata": {
        "id": "p6XEPhiURmpv"
      }
    },
    {
      "cell_type": "code",
      "source": [
        "# Boxplot de Pontuação de Audiência\n",
        "sns.boxplot(y=base['Pontuacao de audiencia']);"
      ],
      "metadata": {
        "id": "vLS9meSDRt1P",
        "outputId": "d983e2d2-3df3-438e-ad0a-be2cb6862111",
        "colab": {
          "base_uri": "https://localhost:8080/",
          "height": 252
        }
      },
      "execution_count": 60,
      "outputs": [
        {
          "output_type": "display_data",
          "data": {
            "text/plain": [
              "<Figure size 432x288 with 1 Axes>"
            ],
            "image/png": "[encoded data removed]"
          },
          "metadata": {
            "needs_background": "light"
          }
        }
      ]
    },
    {
      "cell_type": "markdown",
      "source": [
        "#### Quais os títulos tem maiores médias de dias no top 10?"
      ],
      "metadata": {
        "id": "lN2A0HYDG_4u"
      }
    },
    {
      "cell_type": "code",
      "source": [
        "# Média de Dias no Top 10\n",
        "media_dias_top10 = base.groupby('Titulo').agg(\n",
        "                                              {'Dias no Top 10': np.mean}).sort_values(\n",
        "                                              by='Dias no Top 10', ascending=False).iloc[0:10,].reset_index()\n",
        "\n",
        "graf_barras_media_dias_top10= plt.figure(figsize=(18,8))\n",
        "sns.barplot(x=media_dias_top10['Titulo'], y=media_dias_top10['Dias no Top 10']);"
      ],
      "metadata": {
        "id": "qBlbRVZM33CG",
        "colab": {
          "base_uri": "https://localhost:8080/",
          "height": 458
        },
        "outputId": "6af7e3b4-de44-4ab2-c2bd-9281933c5770"
      },
      "execution_count": 80,
      "outputs": [
        {
          "output_type": "display_data",
          "data": {
            "text/plain": [
              "<Figure size 1296x576 with 1 Axes>"
            ],
            "image/png": "[encoded data removed]"
          },
          "metadata": {
            "needs_background": "light"
          }
        }
      ]
    },
    {
      "cell_type": "markdown",
      "source": [
        "#### Quais os tipos de atrações?"
      ],
      "metadata": {
        "id": "ioiRATRcH4M7"
      }
    },
    {
      "cell_type": "code",
      "source": [
        "base['Tipo'].value_counts()"
      ],
      "metadata": {
        "colab": {
          "base_uri": "https://localhost:8080/"
        },
        "id": "4c4FhQmcCe0q",
        "outputId": "75e61951-5116-4395-f2cf-adf5e04a4a01"
      },
      "execution_count": 81,
      "outputs": [
        {
          "output_type": "execute_result",
          "data": {
            "text/plain": [
              "TV Show            4446\n",
              "Movie              2611\n",
              "Stand-Up Comedy      41\n",
              "Concert/Perf…         2\n",
              "Name: Tipo, dtype: int64"
            ]
          },
          "metadata": {},
          "execution_count": 81
        }
      ]
    },
    {
      "cell_type": "code",
      "source": [
        "sns.countplot(base['Tipo']);"
      ],
      "metadata": {
        "colab": {
          "base_uri": "https://localhost:8080/",
          "height": 279
        },
        "id": "smI4OXqZ6MWv",
        "outputId": "24af6071-d854-45d9-cb0a-08259392b36f"
      },
      "execution_count": 83,
      "outputs": [
        {
          "output_type": "display_data",
          "data": {
            "text/plain": [
              "<Figure size 432x288 with 1 Axes>"
            ],
            "image/png": "[encoded data removed]"
          },
          "metadata": {
            "needs_background": "light"
          }
        }
      ]
    },
    {
      "cell_type": "markdown",
      "source": [
        "#### Qual a quantidade de atrações são exclusivos da Netflix?"
      ],
      "metadata": {
        "id": "t5Pt9-5qIZUl"
      }
    },
    {
      "cell_type": "code",
      "source": [
        "# Contando Quantos Títulos São exclusivos da Netflix\n",
        "base['Exclusivo Netflix'].value_counts()\n",
        "\n",
        "# Plotando exclusivos netflix\n",
        "sns.countplot(base['Exclusivo Netflix']);"
      ],
      "metadata": {
        "colab": {
          "base_uri": "https://localhost:8080/",
          "height": 279
        },
        "id": "-GRQRpNrMArq",
        "outputId": "29635218-4b14-411c-ff10-ad9c6bbaea7a"
      },
      "execution_count": 82,
      "outputs": [
        {
          "output_type": "display_data",
          "data": {
            "text/plain": [
              "<Figure size 432x288 with 1 Axes>"
            ],
            "image/png": "[encoded data removed]"
          },
          "metadata": {
            "needs_background": "light"
          }
        }
      ]
    },
    {
      "cell_type": "markdown",
      "source": [
        "#### Os títulos exclusivos Netflix tem em média mais dias no top 10?"
      ],
      "metadata": {
        "id": "FDZ65aVsJEsy"
      }
    },
    {
      "cell_type": "code",
      "source": [
        "# Média de dias no top 10 que saõ exclusivos netflix\n",
        "media_top10_exclusivo = base.groupby('Exclusivo Netflix').agg(\n",
        "                                                              {'Dias no Top 10' : np.mean}).reset_index()\n",
        "media_top10_exclusivo.columns = ['Exclusivo Netflix', 'Média de dias no top 10']\n",
        "\n",
        "graf_barras_media_top10_exclusivo = plt.figure(figsize=(10,5))\n",
        "sns.barplot(x=media_top10_exclusivo['Exclusivo Netflix'], y=media_top10_exclusivo['Média de dias no top 10']);"
      ],
      "metadata": {
        "id": "WSeinC3dNQIw",
        "colab": {
          "base_uri": "https://localhost:8080/",
          "height": 334
        },
        "outputId": "fa70942d-35e5-4790-a2e4-1fd0f3cdc3e4"
      },
      "execution_count": 86,
      "outputs": [
        {
          "output_type": "display_data",
          "data": {
            "text/plain": [
              "<Figure size 720x360 with 1 Axes>"
            ],
            "image/png": "[encoded data removed]"
          },
          "metadata": {
            "needs_background": "light"
          }
        }
      ]
    },
    {
      "cell_type": "markdown",
      "source": [
        "#### Quais as médias de audiência para títilos que são ou não exclusivos Netflix?"
      ],
      "metadata": {
        "id": "qnEKgwvDKTMg"
      }
    },
    {
      "cell_type": "code",
      "source": [
        "# Média de Audiência Para Títulos Exclusivos Netflix\n",
        "audiencia_media_exclisivo = base.groupby('Exclusivo Netflix').agg({'Pontuacao de audiencia':np.mean}).reset_index()\n",
        "\n",
        "# Plotando Média de Audiência Para Titulos Que são ou não exclusivos netFlix\n",
        "sns.barplot(x=audiencia_media_exclisivo['Exclusivo Netflix'], y=audiencia_media_exclisivo['Pontuacao de audiencia']);"
      ],
      "metadata": {
        "id": "MVUaFFNHRYye",
        "colab": {
          "base_uri": "https://localhost:8080/",
          "height": 279
        },
        "outputId": "8dc71749-4831-4efe-8ec0-23d7ee1c0f89"
      },
      "execution_count": 96,
      "outputs": [
        {
          "output_type": "display_data",
          "data": {
            "text/plain": [
              "<Figure size 432x288 with 1 Axes>"
            ],
            "image/png": "[encoded data removed]"
          },
          "metadata": {
            "needs_background": "light"
          }
        }
      ]
    },
    {
      "cell_type": "markdown",
      "source": [
        "#### Quais as médias de audiência para cada tipo de atração?"
      ],
      "metadata": {
        "id": "Nk9JtuLiK8dB"
      }
    },
    {
      "cell_type": "code",
      "source": [
        "# Média de audiência por categoria de Atração\n",
        "media_top10_categoria_atracao = base.groupby('Tipo').agg(\n",
        "                                                        {'Pontuacao de audiencia':np.mean}).sort_values(\n",
        "                                                        by='Pontuacao de audiencia', ascending=False).reset_index()\n",
        "\n",
        "sns.barplot(x=media_top10_categoria_atracao['Tipo'], y=media_top10_categoria_atracao['Pontuacao de audiencia']);                                                       "
      ],
      "metadata": {
        "id": "nWhZH1pL7iOQ",
        "colab": {
          "base_uri": "https://localhost:8080/",
          "height": 279
        },
        "outputId": "ac9c8c47-6d61-40e1-d190-c955684e8a25"
      },
      "execution_count": 90,
      "outputs": [
        {
          "output_type": "display_data",
          "data": {
            "text/plain": [
              "<Figure size 432x288 with 1 Axes>"
            ],
            "image/png": "[encoded data removed]"
          },
          "metadata": {
            "needs_background": "light"
          }
        }
      ]
    },
    {
      "cell_type": "markdown",
      "source": [
        "#### Quais o títulos que ficaram mais dias em primeiro lugar?"
      ],
      "metadata": {
        "id": "bj7qV32XLQT3"
      }
    },
    {
      "cell_type": "code",
      "source": [
        "# Títulos Que mais ficaram em primeiro lugar\n",
        "primeiros = base[base['Classificacao'] == 1]\n",
        "top10_dias_em_primeiro = primeiros['Titulo'].value_counts()\n",
        "top10_dias_em_primeiro = pd.DataFrame(top10_dias_em_primeiro).reset_index()\n",
        "top10_dias_em_primeiro = top10_dias_em_primeiro.iloc[0:10,]\n",
        "top10_dias_em_primeiro.columns = ['Título', 'Dias em Primeiro Lugar']\n",
        "\n",
        "graf_barras_top10_dias_em_primeiro = plt.figure(figsize=(18,8))\n",
        "sns.barplot(x=top10_dias_em_primeiro['Título'], y=top10_dias_em_primeiro['Dias em Primeiro Lugar']);"
      ],
      "metadata": {
        "id": "fnRSfgvomXyF",
        "colab": {
          "base_uri": "https://localhost:8080/",
          "height": 460
        },
        "outputId": "795d716b-1023-4bba-c57d-ddef7b6a671c"
      },
      "execution_count": 94,
      "outputs": [
        {
          "output_type": "display_data",
          "data": {
            "text/plain": [
              "<Figure size 1296x576 with 1 Axes>"
            ],
            "image/png": "[encoded data removed]"
          },
          "metadata": {
            "needs_background": "light"
          }
        }
      ]
    }
  ]
}